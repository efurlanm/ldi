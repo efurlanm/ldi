{
 "cells": [
  {
   "cell_type": "markdown",
   "id": "7197d4bf-2d09-4a35-82f5-57e364aac396",
   "metadata": {},
   "source": [
    "# Excerpts that are difficult to read in C\n",
    "\n",
    "*Last edited: 2024-01-24*\n",
    "\n",
    "* Based on \"So you think you know C?\" from <https://wordsandbuttons.online/so_you_think_you_know_c.html>\n",
    "* This Notebook uses the jupyter-c-kernel: <https://github.com/XaverKlemenschits/jupyter-c-kernel>\n",
    "* Data types referente: <https://www.w3schools.com/c/c_data_types.php>"
   ]
  },
  {
   "cell_type": "markdown",
   "id": "a743804b-97d3-4240-92f1-9df49c6a1b6a",
   "metadata": {},
   "source": [
    "## return\n",
    "\n",
    "* The following examples use the operating system [exit code](https://www.baeldung.com/linux/status-codes) to show program output.\n",
    "* In the C language, the main() function returns an integer, but the operating system uses the byte type, and therefore values above 255 are out of range.\n",
    "* Values over 255 get wrapped around."
   ]
  },
  {
   "cell_type": "code",
   "execution_count": 2,
   "id": "938a8f4a-ae4d-442a-82f5-028c34f8e51d",
   "metadata": {},
   "outputs": [
    {
     "name": "stderr",
     "output_type": "stream",
     "text": [
      "[C kernel] Executable exited with code 4"
     ]
    }
   ],
   "source": [
    "int main(void) {\n",
    "  return 260;\n",
    "}"
   ]
  },
  {
   "cell_type": "markdown",
   "id": "a77b8bec-feac-40f2-96ef-5c8863dd6087",
   "metadata": {},
   "source": [
    "## sizeof(structure)\n",
    "\n",
    "*  When the `sizeof()` of elements are different in a structure, depending on the compiler and implementation, padding is added by the compiler to adapt to the hardware characteristics.\n",
    "* Ref.: https://www.geeksforgeeks.org/is-sizeof-for-a-struct-equal-to-the-sum-of-sizeof-of-each-member/"
   ]
  },
  {
   "cell_type": "code",
   "execution_count": 4,
   "id": "6403a55e-29f5-43ca-9a85-e522b15cb4fb",
   "metadata": {},
   "outputs": [
    {
     "name": "stderr",
     "output_type": "stream",
     "text": [
      "[C kernel] Executable exited with code 2"
     ]
    }
   ],
   "source": [
    "struct S {\n",
    "  short i;\n",
    "} s;\n",
    "\n",
    "int main(void) {\n",
    "  return sizeof(s);\n",
    "}"
   ]
  },
  {
   "cell_type": "code",
   "execution_count": 5,
   "id": "8eafb00f-1928-450f-bba8-5c7514c0676c",
   "metadata": {},
   "outputs": [
    {
     "name": "stderr",
     "output_type": "stream",
     "text": [
      "[C kernel] Executable exited with code 4"
     ]
    }
   ],
   "source": [
    "struct S {\n",
    "  int i;\n",
    "} s;\n",
    "\n",
    "int main(void) {\n",
    "  return sizeof(s);\n",
    "}"
   ]
  },
  {
   "cell_type": "code",
   "execution_count": 6,
   "id": "1c26235f-ba61-4d0a-80b8-c962a55bf004",
   "metadata": {},
   "outputs": [
    {
     "name": "stderr",
     "output_type": "stream",
     "text": [
      "[C kernel] Executable exited with code 8"
     ]
    }
   ],
   "source": [
    "struct S {\n",
    "  double i;\n",
    "} s;\n",
    "\n",
    "int main(void) {\n",
    "  return sizeof(s);\n",
    "}"
   ]
  },
  {
   "cell_type": "code",
   "execution_count": 6,
   "id": "0ef3e5fd-08bb-4006-85a4-9f6a9070897e",
   "metadata": {},
   "outputs": [
    {
     "name": "stderr",
     "output_type": "stream",
     "text": [
      "[C kernel] Executable exited with code 1"
     ]
    }
   ],
   "source": [
    "struct S {\n",
    "  char c;\n",
    "} s;\n",
    "\n",
    "int main(void) {\n",
    "  return sizeof(s);\n",
    "}"
   ]
  },
  {
   "cell_type": "code",
   "execution_count": 7,
   "id": "debb58a8-c6f2-4d55-a14e-e3f27195116e",
   "metadata": {},
   "outputs": [
    {
     "name": "stderr",
     "output_type": "stream",
     "text": [
      "[C kernel] Executable exited with code 1"
     ]
    }
   ],
   "source": [
    "int main(void) {\n",
    "  char c;\n",
    "  return sizeof(c);\n",
    "}"
   ]
  },
  {
   "cell_type": "code",
   "execution_count": 4,
   "id": "a5df1972-d7c0-4e12-a7b1-be852583f19c",
   "metadata": {},
   "outputs": [
    {
     "name": "stderr",
     "output_type": "stream",
     "text": [
      "[C kernel] Executable exited with code 4"
     ]
    }
   ],
   "source": [
    "int main(void) {\n",
    "  int i;\n",
    "  return sizeof(i);\n",
    "}"
   ]
  },
  {
   "cell_type": "code",
   "execution_count": 2,
   "id": "2b9d9573-079a-460a-863d-acb3e5d337db",
   "metadata": {},
   "outputs": [
    {
     "name": "stderr",
     "output_type": "stream",
     "text": [
      "[C kernel] Executable exited with code 8"
     ]
    }
   ],
   "source": [
    "struct S {\n",
    "  int i;\n",
    "  char c;\n",
    "} s;\n",
    "\n",
    "int main(void) {\n",
    "  return sizeof(s);\n",
    "}"
   ]
  },
  {
   "cell_type": "code",
   "execution_count": 1,
   "id": "0c4f65be-8cbf-4ebb-bdd1-b11d882631d7",
   "metadata": {},
   "outputs": [
    {
     "name": "stderr",
     "output_type": "stream",
     "text": [
      "[C kernel] Executable exited with code 8"
     ]
    }
   ],
   "source": [
    "struct S {\n",
    "  int i;\n",
    "  char c;\n",
    "} s;\n",
    "\n",
    "int main(void) {\n",
    "  return sizeof( * ( &s ));\n",
    "}"
   ]
  },
  {
   "cell_type": "code",
   "execution_count": 5,
   "id": "2a1b78d2-ec0f-4eeb-afe1-e35a60caa36d",
   "metadata": {},
   "outputs": [
    {
     "name": "stderr",
     "output_type": "stream",
     "text": [
      "[C kernel] Executable exited with code 16"
     ]
    }
   ],
   "source": [
    "struct S {\n",
    "  double i;\n",
    "  char c;\n",
    "} s;\n",
    "\n",
    "int main(void) {\n",
    "  return sizeof( * ( &s ));\n",
    "}"
   ]
  },
  {
   "cell_type": "markdown",
   "id": "333e671c-4709-4a8c-be30-8992bb9e6e14",
   "metadata": {},
   "source": [
    "## sizeof( two variables )"
   ]
  },
  {
   "cell_type": "code",
   "execution_count": 13,
   "id": "6aa457e1-08d5-41cb-babb-8c4a7d8c0e63",
   "metadata": {},
   "outputs": [
    {
     "name": "stderr",
     "output_type": "stream",
     "text": [
      "[C kernel] Executable exited with code 2"
     ]
    }
   ],
   "source": [
    "int main(void) {\n",
    "  short int b = 0;\n",
    "  return sizeof( b );\n",
    "}"
   ]
  },
  {
   "cell_type": "code",
   "execution_count": 10,
   "id": "3d7aa207-edab-48b8-b909-cb436f01af52",
   "metadata": {},
   "outputs": [
    {
     "name": "stderr",
     "output_type": "stream",
     "text": [
      "[C kernel] Executable exited with code 4"
     ]
    }
   ],
   "source": [
    "int main(void) {\n",
    "  char a = 0;\n",
    "  short int b = 0;\n",
    "  return sizeof( a + b );\n",
    "}"
   ]
  },
  {
   "cell_type": "markdown",
   "id": "f17f1834-6987-4ff5-83b0-e0acac9d8135",
   "metadata": {},
   "source": [
    "## char as byte"
   ]
  },
  {
   "cell_type": "code",
   "execution_count": 15,
   "id": "7f563175-711f-4bcb-b3d5-202b817e30c2",
   "metadata": {},
   "outputs": [
    {
     "name": "stderr",
     "output_type": "stream",
     "text": [
      "[C kernel] Executable exited with code 64"
     ]
    }
   ],
   "source": [
    "int main(void) {\n",
    "  char a = ' ' * 2;\n",
    "  return a;\n",
    "}"
   ]
  },
  {
   "cell_type": "markdown",
   "id": "ce5dc2b0-f2bb-4d6c-acff-a143c44663b3",
   "metadata": {},
   "source": [
    "## shift"
   ]
  },
  {
   "cell_type": "code",
   "execution_count": 15,
   "id": "2092bf1e-31eb-4b69-b735-e10770d5dcba",
   "metadata": {},
   "outputs": [
    {
     "name": "stdout",
     "output_type": "stream",
     "text": [
      "65536\n",
      "1\n",
      "1\n"
     ]
    }
   ],
   "source": [
    "#include <stdio.h>\n",
    "int main(void) {\n",
    "  int i = 16;\n",
    "  printf(\"%d\\n\", 1 << i );\n",
    "  printf(\"%d\\n\", (1 << i) >> i );\n",
    "  printf(\"%d\\n\", ((1 << i) >> i) <= i );\n",
    "}"
   ]
  },
  {
   "cell_type": "markdown",
   "id": "2a73b98b-184b-4a89-a74b-7a7f706ade33",
   "metadata": {},
   "source": [
    "## i++ + ++i\n",
    "\n",
    "* The first i++ returns zero, and then the variable is incremented and the variable's value becomes 1.\n",
    "* At this point, the intermediate result becomes `(0) + (++i)`.\n",
    "* `++i` first increments the value of the variable, changing it to 2, and then returns its value.\n",
    "* The intermediate result becomes ` (0) + (2) `."
   ]
  },
  {
   "cell_type": "code",
   "execution_count": 29,
   "id": "e8528b31-b4d9-414b-9e3a-5ca063ed0057",
   "metadata": {},
   "outputs": [
    {
     "name": "stderr",
     "output_type": "stream",
     "text": [
      "/tmp/tmpmn8nioy4.c: In function ‘main’:\n",
      "/tmp/tmpmn8nioy4.c:11:11: warning: operation on ‘i’ may be undefined [-Wsequence-point]\n",
      "   11 |     j = (i++) + (++i);\n",
      "      |         ~~^~~\n"
     ]
    },
    {
     "name": "stdout",
     "output_type": "stream",
     "text": [
      "0\n",
      "2\n",
      "2\n",
      "2\n"
     ]
    }
   ],
   "source": [
    "#include <stdio.h>\n",
    "int main(void) {\n",
    "    int i =0, j = 0, k = 0, l = 0;\n",
    "    j = i++;\n",
    "    printf(\"%d\\n\", j );\n",
    "    k = ++i;\n",
    "    printf(\"%d\\n\", k );\n",
    "    l = j + k;\n",
    "    printf(\"%d\\n\", l );\n",
    "    i = 0;\n",
    "    j = (i++) + (++i);\n",
    "    printf(\"%d\\n\", j );\n",
    "}"
   ]
  },
  {
   "cell_type": "markdown",
   "id": "9b836f9e-665f-4212-af43-8f30e6d674be",
   "metadata": {},
   "source": []
  }
 ],
 "metadata": {
  "kernelspec": {
   "display_name": "C",
   "language": "c",
   "name": "c"
  },
  "language_info": {
   "file_extension": ".c",
   "mimetype": "text/x-csrc",
   "name": "text/x-csrc"
  }
 },
 "nbformat": 4,
 "nbformat_minor": 5
}
