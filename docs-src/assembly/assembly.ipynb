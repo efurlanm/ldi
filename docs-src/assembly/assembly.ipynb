{
 "cells": [
  {
   "cell_type": "markdown",
   "metadata": {},
   "source": [
    "# Bare metal x86_64 Assembly Language on *nix 64\n",
    "\n",
    "Using the NASM assembler (https://nasm.us/)\n",
    "\n",
    "To install on Fedora: # dnf -y install nasm"
   ]
  },
  {
   "cell_type": "markdown",
   "metadata": {},
   "source": [
    "* SYSCALL instruction jumps to operating system services. To use, first put the system call number in RAX, then the arguments, if any, in RDI, RSI, RDX, R10, R8, and R9, respectively. \n",
    "* call number 60 exit a process."
   ]
  },
  {
   "cell_type": "markdown",
   "metadata": {},
   "source": [
    "## Hello world example\n",
    "\n",
    "### Write the source file"
   ]
  },
  {
   "cell_type": "code",
   "execution_count": 4,
   "metadata": {},
   "outputs": [
    {
     "name": "stdout",
     "output_type": "stream",
     "text": [
      "Overwriting hello.asm\n"
     ]
    }
   ],
   "source": [
    "%%writefile hello.asm\n",
    "; hello.asm\n",
    "; source: https://cs.lmu.edu/~ray/notes/x86assembly/\n",
    "            global      _start\n",
    "            section     .text\n",
    "_start:     mov         rax, 1          ; system call for write\n",
    "            mov         rdi, 1          ; file handle 1 is stdout\n",
    "            mov         rsi, message    ; address of string to output\n",
    "            mov         rdx, 14         ; number of bytes\n",
    "            syscall                     ; invoke operating system to do the write\n",
    "            mov         rax, 60         ; system call for exit\n",
    "            xor         rdi, rdi        ; exit code 0\n",
    "            syscall                     ; invoke operating system to exit\n",
    "\n",
    "            section     .data\n",
    "message:    db          \"Hello, world!\", 10   ; note the newline (10) at the end"
   ]
  },
  {
   "cell_type": "markdown",
   "metadata": {},
   "source": [
    "### Assemble and show the listing file"
   ]
  },
  {
   "cell_type": "code",
   "execution_count": 5,
   "metadata": {},
   "outputs": [],
   "source": [
    "! nasm -f elf64 hello.asm -l hello.lst"
   ]
  },
  {
   "cell_type": "code",
   "execution_count": 6,
   "metadata": {},
   "outputs": [
    {
     "name": "stdout",
     "output_type": "stream",
     "text": [
      "     1                                  ; hello.asm\n",
      "     2                                  ; source: https://cs.lmu.edu/~ray/notes/x86assembly/\n",
      "     3                                              global      _start\n",
      "     4                                              section     .text\n",
      "     5 00000000 B801000000              _start:     mov         rax, 1          ; system call for write\n",
      "     6 00000005 BF01000000                          mov         rdi, 1          ; file handle 1 is stdout\n",
      "     7 0000000A 48BE-                               mov         rsi, message    ; address of string to output\n",
      "     7 0000000C [0000000000000000] \n",
      "     8 00000014 BA0E000000                          mov         rdx, 14         ; number of bytes\n",
      "     9 00000019 0F05                                syscall                     ; invoke operating system to do the write\n",
      "    10 0000001B B83C000000                          mov         rax, 60         ; system call for exit\n",
      "    11 00000020 4831FF                              xor         rdi, rdi        ; exit code 0\n",
      "    12 00000023 0F05                                syscall                     ; invoke operating system to exit\n",
      "    13                                  \n",
      "    14                                              section     .data\n",
      "    15 00000000 48656C6C6F2C20776F-     message:    db          \"Hello, world!\", 10   ; note the newline (10) at the end\n",
      "    15 00000009 726C64210A         \n"
     ]
    }
   ],
   "source": [
    "! cat hello.lst"
   ]
  },
  {
   "cell_type": "markdown",
   "metadata": {},
   "source": [
    "Columns, in sequence:\n",
    "* sequential line number, only for reference\n",
    "* address in memory\n",
    "* bytes (data or instruction)\n",
    "* label\n",
    "* opcode\n",
    "* operand, register, data, other information\n",
    "* comments"
   ]
  },
  {
   "cell_type": "markdown",
   "metadata": {},
   "source": [
    "### Link"
   ]
  },
  {
   "cell_type": "code",
   "execution_count": 7,
   "metadata": {
    "scrolled": true
   },
   "outputs": [
    {
     "name": "stdout",
     "output_type": "stream",
     "text": [
      "GNU ld version 2.35-18.fc33\n",
      "  Supported emulations:\n",
      "   elf_x86_64\n",
      "   elf32_x86_64\n",
      "   elf_i386\n",
      "   elf_iamcu\n",
      "   elf_l1om\n",
      "   elf_k1om\n",
      "   i386pep\n",
      "   i386pe\n",
      "   elf64bpf\n",
      "using internal linker script:\n",
      "==================================================\n",
      "/* Script for -z combreloc -z separate-code */\n",
      "/* Copyright (C) 2014-2020 Free Software Foundation, Inc.\n",
      "   Copying and distribution of this script, with or without modification,\n",
      "   are permitted in any medium without royalty provided the copyright\n",
      "   notice and this notice are preserved.  */\n",
      "OUTPUT_FORMAT(\"elf64-x86-64\", \"elf64-x86-64\",\n",
      "\t      \"elf64-x86-64\")\n",
      "OUTPUT_ARCH(i386:x86-64)\n",
      "ENTRY(_start)\n",
      "SEARCH_DIR(\"=/usr/x86_64-redhat-linux/lib64\"); SEARCH_DIR(\"=/usr/lib64\"); SEARCH_DIR(\"=/usr/local/lib64\"); SEARCH_DIR(\"=/lib64\"); SEARCH_DIR(\"=/usr/x86_64-redhat-linux/lib\"); SEARCH_DIR(\"=/usr/local/lib\"); SEARCH_DIR(\"=/lib\"); SEARCH_DIR(\"=/usr/lib\");\n",
      "SECTIONS\n",
      "{\n",
      "  PROVIDE (__executable_start = SEGMENT_START(\"text-segment\", 0x400000)); . = SEGMENT_START(\"text-segment\", 0x400000) + SIZEOF_HEADERS;\n",
      "  .interp         : { *(.interp) }\n",
      "  .note.gnu.build-id  : { *(.note.gnu.build-id) }\n",
      "  .hash           : { *(.hash) }\n",
      "  .gnu.hash       : { *(.gnu.hash) }\n",
      "  .dynsym         : { *(.dynsym) }\n",
      "  .dynstr         : { *(.dynstr) }\n",
      "  .gnu.version    : { *(.gnu.version) }\n",
      "  .gnu.version_d  : { *(.gnu.version_d) }\n",
      "  .gnu.version_r  : { *(.gnu.version_r) }\n",
      "  .rela.dyn       :\n",
      "    {\n",
      "      *(.rela.init)\n",
      "      *(.rela.text .rela.text.* .rela.gnu.linkonce.t.*)\n",
      "      *(.rela.fini)\n",
      "      *(.rela.rodata .rela.rodata.* .rela.gnu.linkonce.r.*)\n",
      "      *(.rela.data .rela.data.* .rela.gnu.linkonce.d.*)\n",
      "      *(.rela.tdata .rela.tdata.* .rela.gnu.linkonce.td.*)\n",
      "      *(.rela.tbss .rela.tbss.* .rela.gnu.linkonce.tb.*)\n",
      "      *(.rela.ctors)\n",
      "      *(.rela.dtors)\n",
      "      *(.rela.got)\n",
      "      *(.rela.bss .rela.bss.* .rela.gnu.linkonce.b.*)\n",
      "      *(.rela.ldata .rela.ldata.* .rela.gnu.linkonce.l.*)\n",
      "      *(.rela.lbss .rela.lbss.* .rela.gnu.linkonce.lb.*)\n",
      "      *(.rela.lrodata .rela.lrodata.* .rela.gnu.linkonce.lr.*)\n",
      "      *(.rela.ifunc)\n",
      "    }\n",
      "  .rela.plt       :\n",
      "    {\n",
      "      *(.rela.plt)\n",
      "      PROVIDE_HIDDEN (__rela_iplt_start = .);\n",
      "      *(.rela.iplt)\n",
      "      PROVIDE_HIDDEN (__rela_iplt_end = .);\n",
      "    }\n",
      "  . = ALIGN(CONSTANT (MAXPAGESIZE));\n",
      "  .init           :\n",
      "  {\n",
      "    KEEP (*(SORT_NONE(.init)))\n",
      "  }\n",
      "  .plt            : { *(.plt) *(.iplt) }\n",
      ".plt.got        : { *(.plt.got) }\n",
      ".plt.sec        : { *(.plt.sec) }\n",
      "  .text           :\n",
      "  {\n",
      "    *(.text.unlikely .text.*_unlikely .text.unlikely.*)\n",
      "    *(.text.exit .text.exit.*)\n",
      "    *(.text.startup .text.startup.*)\n",
      "    *(.text.hot .text.hot.*)\n",
      "    *(SORT(.text.sorted.*))\n",
      "    *(.text .stub .text.* .gnu.linkonce.t.*)\n",
      "    /* .gnu.warning sections are handled specially by elf.em.  */\n",
      "    *(.gnu.warning)\n",
      "  }\n",
      "  .fini           :\n",
      "  {\n",
      "    KEEP (*(SORT_NONE(.fini)))\n",
      "  }\n",
      "  PROVIDE (__etext = .);\n",
      "  PROVIDE (_etext = .);\n",
      "  PROVIDE (etext = .);\n",
      "  . = ALIGN(CONSTANT (MAXPAGESIZE));\n",
      "  /* Adjust the address for the rodata segment.  We want to adjust up to\n",
      "     the same address within the page on the next page up.  */\n",
      "  . = SEGMENT_START(\"rodata-segment\", ALIGN(CONSTANT (MAXPAGESIZE)) + (. & (CONSTANT (MAXPAGESIZE) - 1)));\n",
      "  .rodata         : { *(.rodata .rodata.* .gnu.linkonce.r.*) }\n",
      "  .rodata1        : { *(.rodata1) }\n",
      "  .eh_frame_hdr   : { *(.eh_frame_hdr) *(.eh_frame_entry .eh_frame_entry.*) }\n",
      "  .eh_frame       : ONLY_IF_RO { KEEP (*(.eh_frame)) *(.eh_frame.*) }\n",
      "  .gcc_except_table   : ONLY_IF_RO { *(.gcc_except_table .gcc_except_table.*) }\n",
      "  .gnu_extab   : ONLY_IF_RO { *(.gnu_extab*) }\n",
      "  /* These sections are generated by the Sun/Oracle C++ compiler.  */\n",
      "  .exception_ranges   : ONLY_IF_RO { *(.exception_ranges*) }\n",
      "  /* Adjust the address for the data segment.  We want to adjust up to\n",
      "     the same address within the page on the next page up.  */\n",
      "  . = DATA_SEGMENT_ALIGN (CONSTANT (MAXPAGESIZE), CONSTANT (COMMONPAGESIZE));\n",
      "  /* Exception handling  */\n",
      "  .eh_frame       : ONLY_IF_RW { KEEP (*(.eh_frame)) *(.eh_frame.*) }\n",
      "  .gnu_extab      : ONLY_IF_RW { *(.gnu_extab) }\n",
      "  .gcc_except_table   : ONLY_IF_RW { *(.gcc_except_table .gcc_except_table.*) }\n",
      "  .exception_ranges   : ONLY_IF_RW { *(.exception_ranges*) }\n",
      "  /* Thread Local Storage sections  */\n",
      "  .tdata\t  :\n",
      "   {\n",
      "     PROVIDE_HIDDEN (__tdata_start = .);\n",
      "     *(.tdata .tdata.* .gnu.linkonce.td.*)\n",
      "   }\n",
      "  .tbss\t\t  : { *(.tbss .tbss.* .gnu.linkonce.tb.*) *(.tcommon) }\n",
      "  .preinit_array    :\n",
      "  {\n",
      "    PROVIDE_HIDDEN (__preinit_array_start = .);\n",
      "    KEEP (*(.preinit_array))\n",
      "    PROVIDE_HIDDEN (__preinit_array_end = .);\n",
      "  }\n",
      "  .init_array    :\n",
      "  {\n",
      "    PROVIDE_HIDDEN (__init_array_start = .);\n",
      "    KEEP (*(SORT_BY_INIT_PRIORITY(.init_array.*) SORT_BY_INIT_PRIORITY(.ctors.*)))\n",
      "    KEEP (*(.init_array EXCLUDE_FILE (*crtbegin.o *crtbegin?.o *crtend.o *crtend?.o ) .ctors))\n",
      "    PROVIDE_HIDDEN (__init_array_end = .);\n",
      "  }\n",
      "  .fini_array    :\n",
      "  {\n",
      "    PROVIDE_HIDDEN (__fini_array_start = .);\n",
      "    KEEP (*(SORT_BY_INIT_PRIORITY(.fini_array.*) SORT_BY_INIT_PRIORITY(.dtors.*)))\n",
      "    KEEP (*(.fini_array EXCLUDE_FILE (*crtbegin.o *crtbegin?.o *crtend.o *crtend?.o ) .dtors))\n",
      "    PROVIDE_HIDDEN (__fini_array_end = .);\n",
      "  }\n",
      "  .ctors          :\n",
      "  {\n",
      "    /* gcc uses crtbegin.o to find the start of\n",
      "       the constructors, so we make sure it is\n",
      "       first.  Because this is a wildcard, it\n",
      "       doesn't matter if the user does not\n",
      "       actually link against crtbegin.o; the\n",
      "       linker won't look for a file to match a\n",
      "       wildcard.  The wildcard also means that it\n",
      "       doesn't matter which directory crtbegin.o\n",
      "       is in.  */\n",
      "    KEEP (*crtbegin.o(.ctors))\n",
      "    KEEP (*crtbegin?.o(.ctors))\n",
      "    /* We don't want to include the .ctor section from\n",
      "       the crtend.o file until after the sorted ctors.\n",
      "       The .ctor section from the crtend file contains the\n",
      "       end of ctors marker and it must be last */\n",
      "    KEEP (*(EXCLUDE_FILE (*crtend.o *crtend?.o ) .ctors))\n",
      "    KEEP (*(SORT(.ctors.*)))\n",
      "    KEEP (*(.ctors))\n",
      "  }\n",
      "  .dtors          :\n",
      "  {\n",
      "    KEEP (*crtbegin.o(.dtors))\n",
      "    KEEP (*crtbegin?.o(.dtors))\n",
      "    KEEP (*(EXCLUDE_FILE (*crtend.o *crtend?.o ) .dtors))\n",
      "    KEEP (*(SORT(.dtors.*)))\n",
      "    KEEP (*(.dtors))\n",
      "  }\n",
      "  .jcr            : { KEEP (*(.jcr)) }\n",
      "  .data.rel.ro : { *(.data.rel.ro.local* .gnu.linkonce.d.rel.ro.local.*) *(.data.rel.ro .data.rel.ro.* .gnu.linkonce.d.rel.ro.*) }\n",
      "  .dynamic        : { *(.dynamic) }\n",
      "  .got            : { *(.got) *(.igot) }\n",
      "  . = DATA_SEGMENT_RELRO_END (SIZEOF (.got.plt) >= 24 ? 24 : 0, .);\n",
      "  .got.plt        : { *(.got.plt) *(.igot.plt) }\n",
      "  .data           :\n",
      "  {\n",
      "    *(.data .data.* .gnu.linkonce.d.*)\n",
      "    SORT(CONSTRUCTORS)\n",
      "  }\n",
      "  .data1          : { *(.data1) }\n",
      "  _edata = .; PROVIDE (edata = .);\n",
      "  . = .;\n",
      "  __bss_start = .;\n",
      "  .bss            :\n",
      "  {\n",
      "   *(.dynbss)\n",
      "   *(.bss .bss.* .gnu.linkonce.b.*)\n",
      "   *(COMMON)\n",
      "   /* Align here to ensure that the .bss section occupies space up to\n",
      "      _end.  Align after .bss to ensure correct alignment even if the\n",
      "      .bss section disappears because there are no input sections.\n",
      "      FIXME: Why do we need it? When there is no .bss section, we do not\n",
      "      pad the .data section.  */\n",
      "   . = ALIGN(. != 0 ? 64 / 8 : 1);\n",
      "  }\n",
      "  .lbss   :\n",
      "  {\n",
      "    *(.dynlbss)\n",
      "    *(.lbss .lbss.* .gnu.linkonce.lb.*)\n",
      "    *(LARGE_COMMON)\n",
      "  }\n",
      "  . = ALIGN(64 / 8);\n",
      "  . = SEGMENT_START(\"ldata-segment\", .);\n",
      "  .lrodata   ALIGN(CONSTANT (MAXPAGESIZE)) + (. & (CONSTANT (MAXPAGESIZE) - 1)) :\n",
      "  {\n",
      "    *(.lrodata .lrodata.* .gnu.linkonce.lr.*)\n",
      "  }\n",
      "  .ldata   ALIGN(CONSTANT (MAXPAGESIZE)) + (. & (CONSTANT (MAXPAGESIZE) - 1)) :\n",
      "  {\n",
      "    *(.ldata .ldata.* .gnu.linkonce.l.*)\n",
      "    . = ALIGN(. != 0 ? 64 / 8 : 1);\n",
      "  }\n",
      "  . = ALIGN(64 / 8);\n",
      "  _end = .; PROVIDE (end = .);\n",
      "  . = DATA_SEGMENT_END (.);\n",
      "  /* Stabs debugging sections.  */\n",
      "  .stab          0 : { *(.stab) }\n",
      "  .stabstr       0 : { *(.stabstr) }\n",
      "  .stab.excl     0 : { *(.stab.excl) }\n",
      "  .stab.exclstr  0 : { *(.stab.exclstr) }\n",
      "  .stab.index    0 : { *(.stab.index) }\n",
      "  .stab.indexstr 0 : { *(.stab.indexstr) }\n",
      "  .comment       0 : { *(.comment) }\n",
      "  .gnu.build.attributes : { *(.gnu.build.attributes .gnu.build.attributes.*) }\n",
      "  /* DWARF debug sections.\n",
      "     Symbols in the DWARF debugging sections are relative to the beginning\n",
      "     of the section so we begin them at 0.  */\n",
      "  /* DWARF 1 */\n",
      "  .debug          0 : { *(.debug) }\n",
      "  .line           0 : { *(.line) }\n",
      "  /* GNU DWARF 1 extensions */\n",
      "  .debug_srcinfo  0 : { *(.debug_srcinfo) }\n",
      "  .debug_sfnames  0 : { *(.debug_sfnames) }\n",
      "  /* DWARF 1.1 and DWARF 2 */\n",
      "  .debug_aranges  0 : { *(.debug_aranges) }\n",
      "  .debug_pubnames 0 : { *(.debug_pubnames) }\n",
      "  /* DWARF 2 */\n",
      "  .debug_info     0 : { *(.debug_info .gnu.linkonce.wi.*) }\n",
      "  .debug_abbrev   0 : { *(.debug_abbrev) }\n",
      "  .debug_line     0 : { *(.debug_line .debug_line.* .debug_line_end) }\n",
      "  .debug_frame    0 : { *(.debug_frame) }\n",
      "  .debug_str      0 : { *(.debug_str) }\n",
      "  .debug_loc      0 : { *(.debug_loc) }\n",
      "  .debug_macinfo  0 : { *(.debug_macinfo) }\n",
      "  /* SGI/MIPS DWARF 2 extensions */\n",
      "  .debug_weaknames 0 : { *(.debug_weaknames) }\n",
      "  .debug_funcnames 0 : { *(.debug_funcnames) }\n",
      "  .debug_typenames 0 : { *(.debug_typenames) }\n",
      "  .debug_varnames  0 : { *(.debug_varnames) }\n",
      "  /* DWARF 3 */\n",
      "  .debug_pubtypes 0 : { *(.debug_pubtypes) }\n",
      "  .debug_ranges   0 : { *(.debug_ranges) }\n",
      "  /* DWARF Extension.  */\n",
      "  .debug_macro    0 : { *(.debug_macro) }\n",
      "  .debug_addr     0 : { *(.debug_addr) }\n",
      "  .gnu.attributes 0 : { KEEP (*(.gnu.attributes)) }\n",
      "  /DISCARD/ : { *(.note.GNU-stack) *(.gnu_debuglink) *(.gnu.lto_*) }\n",
      "}\n",
      "\n",
      "\n",
      "==================================================\n",
      "ld: mode elf_x86_64\n",
      "attempt to open hello.o succeeded\n",
      "hello.o\n"
     ]
    }
   ],
   "source": [
    "! ld --verbose -o hello.out hello.o"
   ]
  },
  {
   "cell_type": "markdown",
   "metadata": {},
   "source": [
    "### Show generated files"
   ]
  },
  {
   "cell_type": "code",
   "execution_count": 8,
   "metadata": {},
   "outputs": [
    {
     "name": "stdout",
     "output_type": "stream",
     "text": [
      "assembly.ipynb\t\thello.f90\t\t  hello.lst  hello.s\n",
      "fortran-assembly.ipynb\thello.f90.004t.original   hello.o    README.md\n",
      "hello.asm\t\thello.f90.235t.optimized  hello.out\n"
     ]
    }
   ],
   "source": [
    "! ls"
   ]
  },
  {
   "cell_type": "markdown",
   "metadata": {},
   "source": [
    "### Run"
   ]
  },
  {
   "cell_type": "code",
   "execution_count": 9,
   "metadata": {},
   "outputs": [
    {
     "name": "stdout",
     "output_type": "stream",
     "text": [
      "Hello, world!\n"
     ]
    }
   ],
   "source": [
    "! ./hello.out"
   ]
  },
  {
   "cell_type": "markdown",
   "metadata": {},
   "source": [
    "### readelf"
   ]
  },
  {
   "cell_type": "code",
   "execution_count": 2,
   "metadata": {},
   "outputs": [
    {
     "name": "stdout",
     "output_type": "stream",
     "text": [
      "ELF Header:\n",
      "  Magic:   7f 45 4c 46 02 01 01 00 00 00 00 00 00 00 00 00 \n",
      "  Class:                             ELF64\n",
      "  Data:                              2's complement, little endian\n",
      "  Version:                           1 (current)\n",
      "  OS/ABI:                            UNIX - System V\n",
      "  ABI Version:                       0\n",
      "  Type:                              REL (Relocatable file)\n",
      "  Machine:                           Advanced Micro Devices X86-64\n",
      "  Version:                           0x1\n",
      "  Entry point address:               0x0\n",
      "  Start of program headers:          0 (bytes into file)\n",
      "  Start of section headers:          64 (bytes into file)\n",
      "  Flags:                             0x0\n",
      "  Size of this header:               64 (bytes)\n",
      "  Size of program headers:           0 (bytes)\n",
      "  Number of program headers:         0\n",
      "  Size of section headers:           64 (bytes)\n",
      "  Number of section headers:         7\n",
      "  Section header string table index: 3\n",
      "\n",
      "Section Headers:\n",
      "  [Nr] Name              Type             Address           Offset\n",
      "       Size              EntSize          Flags  Link  Info  Align\n",
      "  [ 0]                   NULL             0000000000000000  00000000\n",
      "       0000000000000000  0000000000000000           0     0     0\n",
      "  [ 1] .text             PROGBITS         0000000000000000  00000200\n",
      "       0000000000000025  0000000000000000  AX       0     0     16\n",
      "  [ 2] .data             PROGBITS         0000000000000000  00000230\n",
      "       000000000000000e  0000000000000000  WA       0     0     4\n",
      "  [ 3] .shstrtab         STRTAB           0000000000000000  00000240\n",
      "       0000000000000032  0000000000000000           0     0     1\n",
      "  [ 4] .symtab           SYMTAB           0000000000000000  00000280\n",
      "       0000000000000090  0000000000000018           5     5     8\n",
      "  [ 5] .strtab           STRTAB           0000000000000000  00000310\n",
      "       000000000000001a  0000000000000000           0     0     1\n",
      "  [ 6] .rela.text        RELA             0000000000000000  00000330\n",
      "       0000000000000018  0000000000000018           4     1     8\n",
      "Key to Flags:\n",
      "  W (write), A (alloc), X (execute), M (merge), S (strings), I (info),\n",
      "  L (link order), O (extra OS processing required), G (group), T (TLS),\n",
      "  C (compressed), x (unknown), o (OS specific), E (exclude),\n",
      "  l (large), p (processor specific)\n",
      "\n",
      "There are no section groups in this file.\n",
      "\n",
      "There are no program headers in this file.\n",
      "\n",
      "There is no dynamic section in this file.\n",
      "\n",
      "Relocation section '.rela.text' at offset 0x330 contains 1 entry:\n",
      "  Offset          Info           Type           Sym. Value    Sym. Name + Addend\n",
      "00000000000c  000300000001 R_X86_64_64       0000000000000000 .data + 0\n",
      "\n",
      "The decoding of unwind sections for machine type Advanced Micro Devices X86-64 is not currently supported.\n",
      "\n",
      "Symbol table '.symtab' contains 6 entries:\n",
      "   Num:    Value          Size Type    Bind   Vis      Ndx Name\n",
      "     0: 0000000000000000     0 NOTYPE  LOCAL  DEFAULT  UND \n",
      "     1: 0000000000000000     0 FILE    LOCAL  DEFAULT  ABS hello.asm\n",
      "     2: 0000000000000000     0 SECTION LOCAL  DEFAULT    1 \n",
      "     3: 0000000000000000     0 SECTION LOCAL  DEFAULT    2 \n",
      "     4: 0000000000000000     0 NOTYPE  LOCAL  DEFAULT    2 message\n",
      "     5: 0000000000000000     0 NOTYPE  GLOBAL DEFAULT    1 _start\n",
      "\n",
      "No version information found in this file.\n"
     ]
    }
   ],
   "source": [
    "! readelf -all hello.o"
   ]
  },
  {
   "cell_type": "markdown",
   "metadata": {},
   "source": [
    "### read the .data section in hex"
   ]
  },
  {
   "cell_type": "code",
   "execution_count": 4,
   "metadata": {},
   "outputs": [
    {
     "name": "stdout",
     "output_type": "stream",
     "text": [
      "\n",
      "Hex dump of section '.data':\n",
      "  0x00000000 48656c6c 6f2c2077 6f726c64 210a     Hello, world!.\n",
      "\n"
     ]
    }
   ],
   "source": [
    "! readelf -x '.data'  hello.o"
   ]
  },
  {
   "cell_type": "markdown",
   "metadata": {},
   "source": [
    "### objdump"
   ]
  },
  {
   "cell_type": "code",
   "execution_count": 6,
   "metadata": {},
   "outputs": [
    {
     "name": "stdout",
     "output_type": "stream",
     "text": [
      "\n",
      "hello.o:     file format elf64-x86-64\n",
      "\n",
      "\n",
      "Disassembly of section .text:\n",
      "\n",
      "0000000000000000 <_start>:\n",
      "   0:\tb8 01 00 00 00       \tmov    $0x1,%eax\n",
      "   5:\tbf 01 00 00 00       \tmov    $0x1,%edi\n",
      "   a:\t48 be 00 00 00 00 00 \tmovabs $0x0,%rsi\n",
      "  11:\t00 00 00 \n",
      "  14:\tba 0e 00 00 00       \tmov    $0xe,%edx\n",
      "  19:\t0f 05                \tsyscall \n",
      "  1b:\tb8 3c 00 00 00       \tmov    $0x3c,%eax\n",
      "  20:\t48 31 ff             \txor    %rdi,%rdi\n",
      "  23:\t0f 05                \tsyscall \n"
     ]
    }
   ],
   "source": [
    "! objdump -d hello.o"
   ]
  },
  {
   "cell_type": "markdown",
   "metadata": {},
   "source": [
    "## asm + C library"
   ]
  },
  {
   "cell_type": "code",
   "execution_count": 11,
   "metadata": {},
   "outputs": [
    {
     "name": "stdout",
     "output_type": "stream",
     "text": [
      "Overwriting hc.asm\n"
     ]
    }
   ],
   "source": [
    "%%writefile hc.asm\n",
    "    global  main\n",
    "    extern  puts\n",
    "\n",
    "    section .text\n",
    "main:                     ; This is called by the C library startup code\n",
    "    mov     rdi, message  ; First integer|pointer argument in rdi\n",
    "    call    puts          ; puts(message)\n",
    "    ret                   ; Return from main back into C library wrapper\n",
    "message:\n",
    "    db      \"Hello, world!\", 0    ; strings must be terminated with 0"
   ]
  },
  {
   "cell_type": "markdown",
   "metadata": {},
   "source": [
    "### Assemble using NASM"
   ]
  },
  {
   "cell_type": "code",
   "execution_count": 12,
   "metadata": {},
   "outputs": [],
   "source": [
    "! nasm -f elf64 hc.asm -l hc.lst"
   ]
  },
  {
   "cell_type": "code",
   "execution_count": 13,
   "metadata": {},
   "outputs": [
    {
     "name": "stdout",
     "output_type": "stream",
     "text": [
      "     1                                      global  main\n",
      "     2                                      extern  puts\n",
      "     3                                  \n",
      "     4                                      section .text\n",
      "     5                                  main:                     ; This is called by the C library startup code\n",
      "     6 00000000 48BF-                       mov     rdi, message  ; First integer|pointer argument in rdi\n",
      "     6 00000002 [1000000000000000] \n",
      "     7 0000000A E8(00000000)                call    puts          ; puts(message)\n",
      "     8 0000000F C3                          ret                   ; Return from main back into C library wrapper\n",
      "     9                                  message:\n",
      "    10 00000010 48656C6C6F2C20776F-         db      \"Hello, world!\", 0    ; strings must be terminated with 0\n",
      "    10 00000019 726C642100         \n"
     ]
    }
   ],
   "source": [
    "! cat hc.lst"
   ]
  },
  {
   "cell_type": "markdown",
   "metadata": {},
   "source": [
    "### Link using gcc"
   ]
  },
  {
   "cell_type": "code",
   "execution_count": 15,
   "metadata": {},
   "outputs": [],
   "source": [
    "! gcc -o hc.out hc.o"
   ]
  },
  {
   "cell_type": "markdown",
   "metadata": {},
   "source": [
    "### Run"
   ]
  },
  {
   "cell_type": "code",
   "execution_count": 16,
   "metadata": {},
   "outputs": [
    {
     "name": "stdout",
     "output_type": "stream",
     "text": [
      "Hello, world!\n"
     ]
    }
   ],
   "source": [
    "! ./hc.out"
   ]
  },
  {
   "cell_type": "markdown",
   "metadata": {},
   "source": [
    "# asm & f90\n",
    "\n",
    "Reference: https://forum.nasm.us/index.php?topic=2448.15"
   ]
  },
  {
   "cell_type": "code",
   "execution_count": 83,
   "metadata": {},
   "outputs": [
    {
     "name": "stdout",
     "output_type": "stream",
     "text": [
      "Overwriting hcfg.asm\n"
     ]
    }
   ],
   "source": [
    "%%writefile hcfg.asm\n",
    "            global      hello_\n",
    "            section     .text\n",
    "hello_:     mov         rax, 1          ; system call for write\n",
    "            mov         rdi, 1          ; file handle 1 is stdout\n",
    "            mov         rsi, message    ; address of string to output\n",
    "            mov         rdx, 20         ; number of bytes\n",
    "            syscall                     ; invoke operating system to do the write\n",
    "            mov         rax, 60         ; system call for exit\n",
    "            xor         rdi, rdi        ; exit code 0\n",
    "            syscall                     ; invoke operating system to exit\n",
    "\n",
    "            section     .data\n",
    "message:    db          \" asm: Hello, world!\", 10   ; note the newline (10) at the end"
   ]
  },
  {
   "cell_type": "code",
   "execution_count": 84,
   "metadata": {},
   "outputs": [],
   "source": [
    "! nasm -f elf64 hcfg.asm"
   ]
  },
  {
   "cell_type": "code",
   "execution_count": 85,
   "metadata": {},
   "outputs": [
    {
     "name": "stdout",
     "output_type": "stream",
     "text": [
      "Overwriting hcfg.f90\n"
     ]
    }
   ],
   "source": [
    "%%writefile hcfg.f90\n",
    "external hello\n",
    "print*, \"f90: Hello, world!\"\n",
    "i = hello()\n",
    "end"
   ]
  },
  {
   "cell_type": "code",
   "execution_count": 86,
   "metadata": {},
   "outputs": [],
   "source": [
    "! gfortran -o hcfg.out hcfg.f90 hcfg.o"
   ]
  },
  {
   "cell_type": "code",
   "execution_count": 87,
   "metadata": {},
   "outputs": [
    {
     "name": "stdout",
     "output_type": "stream",
     "text": [
      " f90: Hello, world!\n",
      " asm: Hello, world!\n"
     ]
    }
   ],
   "source": [
    "! ./hcfg.out"
   ]
  },
  {
   "cell_type": "code",
   "execution_count": null,
   "metadata": {},
   "outputs": [],
   "source": []
  }
 ],
 "metadata": {
  "kernelspec": {
   "display_name": "Python 3 (ipykernel)",
   "language": "python",
   "name": "python3"
  },
  "language_info": {
   "codemirror_mode": {
    "name": "ipython",
    "version": 3
   },
   "file_extension": ".py",
   "mimetype": "text/x-python",
   "name": "python",
   "nbconvert_exporter": "python",
   "pygments_lexer": "ipython3",
   "version": "3.12.5"
  }
 },
 "nbformat": 4,
 "nbformat_minor": 4
}
