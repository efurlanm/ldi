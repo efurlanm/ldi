{
 "cells": [
  {
   "cell_type": "markdown",
   "id": "ae02d3b9-859c-43a9-ac30-9718e06b162c",
   "metadata": {},
   "source": [
    "# Clang [AArch64](https://en.wikipedia.org/wiki/AArch64)\n",
    "\n",
    "My personal notes on Clang AArch64\n",
    "\n",
    "- [Clang](https://clang.llvm.org/) release 15.0.7\n",
    "- JupyterLab 3.5.2\n",
    "- [Termux 0.118.0](https://termux.dev/en/)\n",
    "- Moto G4 with [Android 9.0_r44 ARM64 AOSiP](https://forum.xda-developers.com/t/rom-9-0_r44-arm64-android-open-source-illusion-project-athene-unofficial.3889942/)\n",
    "- Processor: Snapdragon 617 octa-core ARMv8 Cortex-A53 64-bit\n",
    "    - Two quad-core clusters 1.2/1.5 GHz\n",
    "\n",
    "Some references:\n",
    "\n",
    "- https://stackoverflow.com/questions/200292/process-for-reducing-the-size-of-an-executable\n",
    "- http://www.muppetlabs.com/~breadbox/software/tiny/\n",
    "- https://stac47.github.io/c/relocation/elf/tutorial/2018/03/01/understanding-relocation-elf.html\n",
    "- http://timelessname.com/elfbin/\n",
    "- https://interrupt.memfault.com/blog/dealing-with-large-symbol-files\n",
    "- https://www.reddit.com/r/C_Programming/comments/wdag9l/how_to_absolutely_minimize_the_executable/\n",
    "- http://cs107e.github.io/guides/gcc/\n",
    "\n",
    "2023-01-28"
   ]
  },
  {
   "cell_type": "code",
   "execution_count": 2,
   "id": "a05615ee-e682-435d-bd0c-1bd7936541a8",
   "metadata": {},
   "outputs": [
    {
     "name": "stdout",
     "output_type": "stream",
     "text": [
      "\u001b[1;34mCPU:\u001b[0m 2x 4-core AArch64 (-MCP AMP-) \u001b[1;34mspeed/min/max:\u001b[0m 435/499:403/1651:1210 MHz\u001b[0m\n",
      "\u001b[1;34mKernel:\u001b[0m 3.10.108-lk.r17_rev aarch64 \u001b[1;34mUp:\u001b[0m 6d 19h 15m \u001b[0m\u001b[1;34mMem:\u001b[0m 1128.3/1843.6 MiB\u001b[0m\n",
      "\u001b[0m(61.2%) \u001b[1;34mStorage:\u001b[0m 14.56 GiB (186.5% used) \u001b[1;34mProcs:\u001b[0m 8 \u001b[1;34mShell:\u001b[0m python3.11\u001b[0m\n",
      "\u001b[1;34minxi:\u001b[0m 3.3.24\u001b[0m\n"
     ]
    }
   ],
   "source": [
    "!inxi"
   ]
  },
  {
   "cell_type": "code",
   "execution_count": 3,
   "id": "0ff7e494-3d37-411f-93b6-e6bf4b5b03ed",
   "metadata": {},
   "outputs": [
    {
     "name": "stdout",
     "output_type": "stream",
     "text": [
      "\u001b[1;34mCPU:\u001b[0m\n",
      "  \u001b[1;34mInfo:\u001b[0m 2x 4-core \u001b[1;34mmodel:\u001b[0m AArch64 \u001b[1;34mbits:\u001b[0m 64 \u001b[1;34mtype:\u001b[0m MCP AMP\u001b[0m\n",
      "  \u001b[1;34mSpeed (MHz):\u001b[0m \u001b[1;34mavg:\u001b[0m 703 \u001b[1;34mmin/max:\u001b[0m 499:403/1651:1210 \u001b[1;34mcores:\u001b[0m \u001b[1;34m1:\u001b[0m 499 \u001b[1;34m2:\u001b[0m 499\u001b[0m\n",
      "    \u001b[1;34m3:\u001b[0m 806 \u001b[1;34m4:\u001b[0m 806 \u001b[1;34m5:\u001b[0m 806 \u001b[1;34m6:\u001b[0m 806\u001b[0m\n"
     ]
    }
   ],
   "source": [
    "!inxi -C"
   ]
  },
  {
   "cell_type": "code",
   "execution_count": 4,
   "id": "c256b102-4f84-42e4-bc77-ffea617c675e",
   "metadata": {},
   "outputs": [
    {
     "name": "stdout",
     "output_type": "stream",
     "text": [
      "Architecture:            aarch64\n",
      "  CPU op-mode(s):        32-bit, 64-bit\n",
      "  Byte Order:            Little Endian\n",
      "CPU(s):                  8\n",
      "  On-line CPU(s) list:   1,2,4-7\n",
      "  Off-line CPU(s) list:  0,3\n",
      "Vendor ID:               ARM\n",
      "  Model name:            Cortex-A53\n",
      "    Model:               4\n",
      "    Thread(s) per core:  1\n",
      "    Core(s) per cluster: 3\n",
      "    Socket(s):           -\n",
      "    Cluster(s):          2\n",
      "    Stepping:            r0p4\n",
      "    CPU(s) scaling MHz:  61%\n",
      "    CPU max MHz:         1651.2000\n",
      "    CPU min MHz:         0.0000\n",
      "    Flags:               fp asimd evtstrm aes pmull sha1 sha2 crc32\n"
     ]
    }
   ],
   "source": [
    "!lscpu"
   ]
  },
  {
   "cell_type": "code",
   "execution_count": 1,
   "id": "e79e14d9-1400-4ae1-a6d5-114b49a932af",
   "metadata": {},
   "outputs": [
    {
     "name": "stdout",
     "output_type": "stream",
     "text": [
      "clang version 15.0.7\n",
      "Target: aarch64-unknown-linux-android24\n",
      "Thread model: posix\n",
      "InstalledDir: /data/data/com.termux/files/usr/bin\n"
     ]
    }
   ],
   "source": [
    "!clang --version"
   ]
  },
  {
   "cell_type": "markdown",
   "id": "20a49235-93b2-441b-8622-1c86d5aa75bb",
   "metadata": {},
   "source": [
    "## tiny.c"
   ]
  },
  {
   "cell_type": "code",
   "execution_count": 234,
   "id": "955d91ca-6a43-4d76-8619-dc80a261807a",
   "metadata": {},
   "outputs": [
    {
     "name": "stdout",
     "output_type": "stream",
     "text": [
      "Overwriting tiny.c\n"
     ]
    }
   ],
   "source": [
    "%%writefile tiny1.c\n",
    "int main(void) {\n",
    "    return 42; \n",
    "}"
   ]
  },
  {
   "cell_type": "code",
   "execution_count": 236,
   "id": "6d5869a1-f995-4410-8cfa-2aada01f7763",
   "metadata": {},
   "outputs": [],
   "source": [
    "!clang -Oz -s tiny1.c"
   ]
  },
  {
   "cell_type": "code",
   "execution_count": 232,
   "id": "590bb4af-3a51-4073-9491-1dd66f1acb17",
   "metadata": {},
   "outputs": [
    {
     "name": "stdout",
     "output_type": "stream",
     "text": [
      "/data/data/com.termux/files/usr/bin/bash: line 1: ./a.out: No such file or directory\n",
      "127\n"
     ]
    }
   ],
   "source": [
    "!./a.out ; echo $?"
   ]
  },
  {
   "cell_type": "code",
   "execution_count": 87,
   "id": "3d037c39-00b6-4af0-9635-c7e6bfa6b87f",
   "metadata": {},
   "outputs": [
    {
     "name": "stdout",
     "output_type": "stream",
     "text": [
      "4248 a.out\n"
     ]
    }
   ],
   "source": [
    "!wc -c a.out"
   ]
  },
  {
   "cell_type": "code",
   "execution_count": 88,
   "id": "b6029ac2-dba8-4afa-b5b3-3d53ec7b5728",
   "metadata": {},
   "outputs": [
    {
     "name": "stdout",
     "output_type": "stream",
     "text": [
      "-rwx------ 1 u0_a113 u0_a113 4.2K Jan 27 19:35 \u001b[0m\u001b[01;32ma.out\u001b[0m\n"
     ]
    }
   ],
   "source": [
    "!ls -lh a.out"
   ]
  },
  {
   "cell_type": "code",
   "execution_count": 89,
   "id": "9244caca-1321-4317-8e92-4ef34747791e",
   "metadata": {},
   "outputs": [
    {
     "name": "stdout",
     "output_type": "stream",
     "text": [
      "   text\t   data\t    bss\t    dec\t    hex\tfilename\n",
      "   1055\t    592\t      8\t   1655\t    677\ta.out\n"
     ]
    }
   ],
   "source": [
    "!size a.out"
   ]
  },
  {
   "cell_type": "code",
   "execution_count": 90,
   "id": "e3656972-42fe-431b-9fd9-759f21daa034",
   "metadata": {},
   "outputs": [
    {
     "name": "stdout",
     "output_type": "stream",
     "text": [
      "\n",
      "a.out:     file format elf64-littleaarch64\n",
      "\n",
      "Sections:\n",
      "Idx Name          Size      VMA               LMA               File off  Algn\n",
      "  0 .interp       00000015  00000000000002a8  00000000000002a8  000002a8  2**0\n",
      "                  CONTENTS, ALLOC, LOAD, READONLY, DATA\n",
      "  1 .note.android.ident 00000098  00000000000002c0  00000000000002c0  000002c0  2**2\n",
      "                  CONTENTS, ALLOC, LOAD, READONLY, DATA\n",
      "  2 .dynsym       00000060  0000000000000358  0000000000000358  00000358  2**3\n",
      "                  CONTENTS, ALLOC, LOAD, READONLY, DATA\n",
      "  3 .gnu.version  00000008  00000000000003b8  00000000000003b8  000003b8  2**1\n",
      "                  CONTENTS, ALLOC, LOAD, READONLY, DATA\n",
      "  4 .gnu.version_r 00000020  00000000000003c0  00000000000003c0  000003c0  2**2\n",
      "                  CONTENTS, ALLOC, LOAD, READONLY, DATA\n",
      "  5 .gnu.hash     0000001c  00000000000003e0  00000000000003e0  000003e0  2**3\n",
      "                  CONTENTS, ALLOC, LOAD, READONLY, DATA\n",
      "  6 .dynstr       00000066  00000000000003fc  00000000000003fc  000003fc  2**0\n",
      "                  CONTENTS, ALLOC, LOAD, READONLY, DATA\n",
      "  7 .rela.dyn     00000060  0000000000000468  0000000000000468  00000468  2**3\n",
      "                  CONTENTS, ALLOC, LOAD, READONLY, DATA\n",
      "  8 .rela.plt     00000048  00000000000004c8  00000000000004c8  000004c8  2**3\n",
      "                  CONTENTS, ALLOC, LOAD, READONLY, DATA\n",
      "  9 .eh_frame_hdr 00000034  0000000000000510  0000000000000510  00000510  2**2\n",
      "                  CONTENTS, ALLOC, LOAD, READONLY, DATA\n",
      " 10 .eh_frame     0000009c  0000000000000548  0000000000000548  00000548  2**3\n",
      "                  CONTENTS, ALLOC, LOAD, READONLY, DATA\n",
      " 11 .text         000000a0  00000000000015e4  00000000000015e4  000005e4  2**2\n",
      "                  CONTENTS, ALLOC, LOAD, READONLY, CODE\n",
      " 12 .plt          00000050  0000000000001690  0000000000001690  00000690  2**4\n",
      "                  CONTENTS, ALLOC, LOAD, READONLY, CODE\n",
      " 13 .preinit_array 00000010  00000000000026e0  00000000000026e0  000006e0  2**3\n",
      "                  CONTENTS, ALLOC, LOAD, DATA\n",
      " 14 .init_array   00000010  00000000000026f0  00000000000026f0  000006f0  2**3\n",
      "                  CONTENTS, ALLOC, LOAD, DATA\n",
      " 15 .fini_array   00000010  0000000000002700  0000000000002700  00000700  2**3\n",
      "                  CONTENTS, ALLOC, LOAD, DATA\n",
      " 16 .dynamic      000001d0  0000000000002710  0000000000002710  00000710  2**3\n",
      "                  CONTENTS, ALLOC, LOAD, DATA\n",
      " 17 .got          00000020  00000000000028e0  00000000000028e0  000008e0  2**3\n",
      "                  CONTENTS, ALLOC, LOAD, DATA\n",
      " 18 .got.plt      00000030  0000000000002900  0000000000002900  00000900  2**3\n",
      "                  CONTENTS, ALLOC, LOAD, DATA\n",
      " 19 .bss          00000008  0000000000003930  0000000000003930  00000930  2**3\n",
      "                  ALLOC\n",
      " 20 .comment      000000c6  0000000000000000  0000000000000000  00000930  2**0\n",
      "                  CONTENTS, READONLY\n"
     ]
    }
   ],
   "source": [
    "!objdump -h a.out"
   ]
  },
  {
   "cell_type": "code",
   "execution_count": 349,
   "id": "08fe0511-5b82-4cd0-bd4f-eda0aa650388",
   "metadata": {},
   "outputs": [
    {
     "name": "stdout",
     "output_type": "stream",
     "text": [
      "Overwriting tiny.c\n"
     ]
    }
   ],
   "source": [
    "%%writefile tiny.c\n",
    "extern void _exit(int);\n",
    "\n",
    "void _start(void) {\n",
    "    _exit(42); \n",
    "}"
   ]
  },
  {
   "cell_type": "code",
   "execution_count": 350,
   "id": "eb7815d6-d34b-44a3-ad02-b203bc039770",
   "metadata": {},
   "outputs": [
    {
     "name": "stdout",
     "output_type": "stream",
     "text": [
      "Overwriting tiny.asm\n"
     ]
    }
   ],
   "source": [
    "%%writefile tiny.asm\n",
    "    .global _start\n",
    "    .text\n",
    "_start:\n",
    "    /* syscall exit (int status) */\n",
    "    mov    w8, #93  /* exit is syscall #1 */\n",
    "    mov    x0, #42  /* status  := 42 */\n",
    "    svc    #0"
   ]
  },
  {
   "cell_type": "code",
   "execution_count": 351,
   "id": "24f570b2-62ab-4f7e-814a-eed335942b94",
   "metadata": {},
   "outputs": [],
   "source": [
    "!as tiny.asm -o tiny.o"
   ]
  },
  {
   "cell_type": "markdown",
   "id": "412a18ff-228c-49f1-b29d-65938887e130",
   "metadata": {},
   "source": [
    "\\\n",
    "Linking with clang:"
   ]
  },
  {
   "cell_type": "code",
   "execution_count": 352,
   "id": "4a600760-4e08-4b77-9c6c-2e2f3a474b03",
   "metadata": {},
   "outputs": [],
   "source": [
    "!clang -Wall -s -nostartfiles -nostdlib tiny.o"
   ]
  },
  {
   "cell_type": "code",
   "execution_count": 353,
   "id": "c46b5b1a-44ca-4096-bd46-ed1c7741eccf",
   "metadata": {},
   "outputs": [
    {
     "name": "stdout",
     "output_type": "stream",
     "text": [
      "42\n"
     ]
    }
   ],
   "source": [
    "!./a.out ; echo $?"
   ]
  },
  {
   "cell_type": "code",
   "execution_count": 354,
   "id": "eae29ae8-ecd8-4f05-8cbe-2f765dd196d6",
   "metadata": {},
   "outputs": [
    {
     "name": "stdout",
     "output_type": "stream",
     "text": [
      "1664 a.out\n"
     ]
    }
   ],
   "source": [
    "!wc -c a.out"
   ]
  },
  {
   "cell_type": "code",
   "execution_count": 355,
   "id": "d28c74d1-515c-4813-b8dd-f1a6a5829466",
   "metadata": {},
   "outputs": [
    {
     "name": "stdout",
     "output_type": "stream",
     "text": [
      "   text\t   data\t    bss\t    dec\t    hex\tfilename\n",
      "    122\t    160\t      0\t    282\t    11a\ta.out\n"
     ]
    }
   ],
   "source": [
    "!size a.out"
   ]
  },
  {
   "cell_type": "code",
   "execution_count": 356,
   "id": "09739e20-40dc-4a7e-be41-a30adb42cf16",
   "metadata": {},
   "outputs": [
    {
     "name": "stdout",
     "output_type": "stream",
     "text": [
      "-rwx------ 1 u0_a113 u0_a113 1.7K Jan 27 21:47 \u001b[0m\u001b[01;32ma.out\u001b[0m\n"
     ]
    }
   ],
   "source": [
    "!ls -lh a.out"
   ]
  },
  {
   "cell_type": "code",
   "execution_count": 357,
   "id": "e84b1826-5879-45f6-82b9-f20fe2914d8e",
   "metadata": {},
   "outputs": [
    {
     "name": "stdout",
     "output_type": "stream",
     "text": [
      "\n",
      "a.out:     file format elf64-littleaarch64\n",
      "\n",
      "Sections:\n",
      "Idx Name          Size      VMA               LMA               File off  Algn\n",
      "  0 .interp       00000015  0000000000000238  0000000000000238  00000238  2**0\n",
      "                  CONTENTS, ALLOC, LOAD, READONLY, DATA\n",
      "  1 .dynsym       00000018  0000000000000250  0000000000000250  00000250  2**3\n",
      "                  CONTENTS, ALLOC, LOAD, READONLY, DATA\n",
      "  2 .gnu.hash     0000001c  0000000000000268  0000000000000268  00000268  2**3\n",
      "                  CONTENTS, ALLOC, LOAD, READONLY, DATA\n",
      "  3 .dynstr       00000025  0000000000000284  0000000000000284  00000284  2**0\n",
      "                  CONTENTS, ALLOC, LOAD, READONLY, DATA\n",
      "  4 .text         0000000c  00000000000012ac  00000000000012ac  000002ac  2**2\n",
      "                  CONTENTS, ALLOC, LOAD, READONLY, CODE\n",
      "  5 .dynamic      000000a0  00000000000022b8  00000000000022b8  000002b8  2**3\n",
      "                  CONTENTS, ALLOC, LOAD, DATA\n",
      "  6 .data         00000000  0000000000003358  0000000000003358  00000358  2**0\n",
      "                  CONTENTS, ALLOC, LOAD, DATA\n",
      "  7 .bss          00000000  0000000000003358  0000000000003358  00000358  2**0\n",
      "                  ALLOC\n",
      "  8 .comment      00000013  0000000000000000  0000000000000000  00000358  2**0\n",
      "                  CONTENTS, READONLY\n"
     ]
    }
   ],
   "source": [
    "!objdump -h a.out"
   ]
  },
  {
   "cell_type": "code",
   "execution_count": 358,
   "id": "2cab7743-516f-4e6b-b0eb-af842e210f15",
   "metadata": {},
   "outputs": [
    {
     "name": "stdout",
     "output_type": "stream",
     "text": [
      "copy from `a.out' [elf64-littleaarch64] to `stO4z6q4' [elf64-littleaarch64]\n"
     ]
    }
   ],
   "source": [
    "!strip --strip-all --verbose a.out"
   ]
  },
  {
   "cell_type": "code",
   "execution_count": 359,
   "id": "26ab889c-1446-45fa-91fc-cec7ae7f7d1d",
   "metadata": {},
   "outputs": [
    {
     "name": "stdout",
     "output_type": "stream",
     "text": [
      "\n",
      "a.out:     file format elf64-littleaarch64\n",
      "\n",
      "Sections:\n",
      "Idx Name          Size      VMA               LMA               File off  Algn\n",
      "  0 .interp       00000015  0000000000000238  0000000000000238  00000238  2**0\n",
      "                  CONTENTS, ALLOC, LOAD, READONLY, DATA\n",
      "  1 .dynsym       00000018  0000000000000250  0000000000000250  00000250  2**3\n",
      "                  CONTENTS, ALLOC, LOAD, READONLY, DATA\n",
      "  2 .gnu.hash     0000001c  0000000000000268  0000000000000268  00000268  2**3\n",
      "                  CONTENTS, ALLOC, LOAD, READONLY, DATA\n",
      "  3 .dynstr       00000025  0000000000000284  0000000000000284  00000284  2**0\n",
      "                  CONTENTS, ALLOC, LOAD, READONLY, DATA\n",
      "  4 .text         0000000c  00000000000012ac  00000000000012ac  000002ac  2**2\n",
      "                  CONTENTS, ALLOC, LOAD, READONLY, CODE\n",
      "  5 .dynamic      000000a0  00000000000022b8  00000000000022b8  000002b8  2**3\n",
      "                  CONTENTS, ALLOC, LOAD, DATA\n",
      "  6 .data         00000000  0000000000003358  0000000000003358  00000358  2**0\n",
      "                  CONTENTS, ALLOC, LOAD, DATA\n",
      "  7 .bss          00000000  0000000000003358  0000000000003358  00000000  2**0\n",
      "                  ALLOC\n",
      "  8 .comment      00000013  0000000000000000  0000000000000000  00000358  2**0\n",
      "                  CONTENTS, READONLY\n"
     ]
    }
   ],
   "source": [
    "!objdump -h a.out"
   ]
  },
  {
   "cell_type": "markdown",
   "id": "da33ff2a-46b7-4c33-aa8a-0ea9ebf2ce7f",
   "metadata": {},
   "source": [
    "\\\n",
    "Linking and gereneting executable direct from assembly and linker"
   ]
  },
  {
   "cell_type": "code",
   "execution_count": 360,
   "id": "2ff0ce7e-f140-4386-a396-20fee83e6b45",
   "metadata": {},
   "outputs": [],
   "source": [
    "!rm a.out"
   ]
  },
  {
   "cell_type": "code",
   "execution_count": 361,
   "id": "fc715bb1-82bb-4581-b48e-0864d43f89e9",
   "metadata": {},
   "outputs": [
    {
     "name": "stdout",
     "output_type": "stream",
     "text": [
      "-rw------- 1 u0_a113 u0_a113 728 Jan 27 21:46 tiny.o\n"
     ]
    }
   ],
   "source": [
    "!ls -lh tiny.o"
   ]
  },
  {
   "cell_type": "code",
   "execution_count": 362,
   "id": "1b5fd6f1-0d49-4c65-b074-9ce568d9ec61",
   "metadata": {},
   "outputs": [],
   "source": [
    "!ld --strip-all --gc-sections -static tiny.o"
   ]
  },
  {
   "cell_type": "code",
   "execution_count": 363,
   "id": "6c7d8e9b-0cce-4f9f-9415-6c65f4462564",
   "metadata": {},
   "outputs": [
    {
     "name": "stdout",
     "output_type": "stream",
     "text": [
      "42\n"
     ]
    }
   ],
   "source": [
    "!./a.out ; echo $?"
   ]
  },
  {
   "cell_type": "code",
   "execution_count": 364,
   "id": "5badbe58-16e7-40f1-98b8-9d47c0c0949a",
   "metadata": {},
   "outputs": [
    {
     "name": "stdout",
     "output_type": "stream",
     "text": [
      "344 a.out\n"
     ]
    }
   ],
   "source": [
    "!wc -c a.out"
   ]
  },
  {
   "cell_type": "code",
   "execution_count": 365,
   "id": "295c5622-629e-406a-ad58-6857e042f124",
   "metadata": {},
   "outputs": [
    {
     "name": "stdout",
     "output_type": "stream",
     "text": [
      "\n",
      "a.out:     file format elf64-littleaarch64\n",
      "\n",
      "Sections:\n",
      "Idx Name          Size      VMA               LMA               File off  Algn\n",
      "  0 .text         0000000c  0000000000400078  0000000000400078  00000078  2**2\n",
      "                  CONTENTS, ALLOC, LOAD, READONLY, CODE\n"
     ]
    }
   ],
   "source": [
    "!objdump -h a.out"
   ]
  },
  {
   "cell_type": "code",
   "execution_count": 366,
   "id": "53eb9838-26ba-4619-a951-fa1337a8762e",
   "metadata": {},
   "outputs": [
    {
     "name": "stdout",
     "output_type": "stream",
     "text": [
      "AARCH64 GAS  tiny.asm \t\t\tpage 1\n",
      "\n",
      "\n",
      "   1              \t    .global _start\n",
      "   2              \t    .text\n",
      "   3              \t_start:\n",
      "   4              \t    /* syscall exit (int status) */\n",
      "   5 0000 A80B8052 \t    mov    w8, #93  /* exit is syscall #1 */\n",
      "   6 0004 400580D2 \t    mov    x0, #42  /* status  := 42 */\n",
      "   7 0008 010000D4 \t    svc    #0\n"
     ]
    }
   ],
   "source": [
    "!as -al tiny.asm"
   ]
  },
  {
   "cell_type": "code",
   "execution_count": 367,
   "id": "9dd25d1f-c2cb-4d25-9f1b-031941481e63",
   "metadata": {},
   "outputs": [
    {
     "name": "stdout",
     "output_type": "stream",
     "text": [
      "\n",
      "a.out:     file format elf64-littleaarch64\n",
      "\n",
      "\n",
      "Disassembly of section .text:\n",
      "\n",
      "0000000000000000 <_start>:\n",
      "   0:\t52800ba8 \tmov\tw8, #0x5d                  \t// #93\n",
      "   4:\td2800540 \tmov\tx0, #0x2a                  \t// #42\n",
      "   8:\td4000001 \tsvc\t#0x0\n"
     ]
    }
   ],
   "source": [
    "!objdump -d a.out"
   ]
  },
  {
   "cell_type": "code",
   "execution_count": 368,
   "id": "9a8f7647-8dfe-490b-b860-339cd0f01ace",
   "metadata": {},
   "outputs": [
    {
     "name": "stdout",
     "output_type": "stream",
     "text": [
      "00000000  7f 45 4c 46 02 01 01 00  00 00 00 00 00 00 00 00  |.ELF............|\n",
      "00000010  01 00 b7 00 01 00 00 00  00 00 00 00 00 00 00 00  |................|\n",
      "00000020  00 00 00 00 00 00 00 00  18 01 00 00 00 00 00 00  |................|\n",
      "00000030  00 00 00 00 40 00 00 00  00 00 40 00 07 00 06 00  |....@.....@.....|\n",
      "00000040  a8 0b 80 52 40 05 80 d2  01 00 00 d4 00 00 00 00  |...R@...........|\n",
      "00000050  00 00 00 00 00 00 00 00  00 00 00 00 00 00 00 00  |................|\n",
      "00000060  00 00 00 00 00 00 00 00  00 00 00 00 03 00 01 00  |................|\n",
      "00000070  00 00 00 00 00 00 00 00  00 00 00 00 00 00 00 00  |................|\n",
      "00000080  00 00 00 00 03 00 02 00  00 00 00 00 00 00 00 00  |................|\n",
      "00000090  00 00 00 00 00 00 00 00  00 00 00 00 03 00 03 00  |................|\n",
      "000000a0  00 00 00 00 00 00 00 00  00 00 00 00 00 00 00 00  |................|\n",
      "000000b0  01 00 00 00 00 00 01 00  00 00 00 00 00 00 00 00  |................|\n",
      "000000c0  00 00 00 00 00 00 00 00  04 00 00 00 10 00 01 00  |................|\n",
      "000000d0  00 00 00 00 00 00 00 00  00 00 00 00 00 00 00 00  |................|\n",
      "000000e0  00 24 78 00 5f 73 74 61  72 74 00 00 2e 73 79 6d  |.$x._start...sym|\n",
      "000000f0  74 61 62 00 2e 73 74 72  74 61 62 00 2e 73 68 73  |tab..strtab..shs|\n",
      "00000100  74 72 74 61 62 00 2e 74  65 78 74 00 2e 64 61 74  |trtab..text..dat|\n",
      "00000110  61 00 2e 62 73 73 00 00  00 00 00 00 00 00 00 00  |a..bss..........|\n",
      "00000120  00 00 00 00 00 00 00 00  00 00 00 00 00 00 00 00  |................|\n",
      "*\n",
      "00000150  00 00 00 00 00 00 00 00  1b 00 00 00 01 00 00 00  |................|\n",
      "00000160  06 00 00 00 00 00 00 00  00 00 00 00 00 00 00 00  |................|\n",
      "00000170  40 00 00 00 00 00 00 00  0c 00 00 00 00 00 00 00  |@...............|\n",
      "00000180  00 00 00 00 00 00 00 00  04 00 00 00 00 00 00 00  |................|\n",
      "00000190  00 00 00 00 00 00 00 00  21 00 00 00 01 00 00 00  |........!.......|\n",
      "000001a0  03 00 00 00 00 00 00 00  00 00 00 00 00 00 00 00  |................|\n",
      "000001b0  4c 00 00 00 00 00 00 00  00 00 00 00 00 00 00 00  |L...............|\n",
      "000001c0  00 00 00 00 00 00 00 00  01 00 00 00 00 00 00 00  |................|\n",
      "000001d0  00 00 00 00 00 00 00 00  27 00 00 00 08 00 00 00  |........'.......|\n",
      "000001e0  03 00 00 00 00 00 00 00  00 00 00 00 00 00 00 00  |................|\n",
      "000001f0  4c 00 00 00 00 00 00 00  00 00 00 00 00 00 00 00  |L...............|\n",
      "00000200  00 00 00 00 00 00 00 00  01 00 00 00 00 00 00 00  |................|\n",
      "00000210  00 00 00 00 00 00 00 00  01 00 00 00 02 00 00 00  |................|\n",
      "00000220  00 00 00 00 00 00 00 00  00 00 00 00 00 00 00 00  |................|\n",
      "00000230  50 00 00 00 00 00 00 00  90 00 00 00 00 00 00 00  |P...............|\n",
      "00000240  05 00 00 00 05 00 00 00  08 00 00 00 00 00 00 00  |................|\n",
      "00000250  18 00 00 00 00 00 00 00  09 00 00 00 03 00 00 00  |................|\n",
      "00000260  00 00 00 00 00 00 00 00  00 00 00 00 00 00 00 00  |................|\n",
      "00000270  e0 00 00 00 00 00 00 00  0b 00 00 00 00 00 00 00  |................|\n",
      "00000280  00 00 00 00 00 00 00 00  01 00 00 00 00 00 00 00  |................|\n",
      "00000290  00 00 00 00 00 00 00 00  11 00 00 00 03 00 00 00  |................|\n",
      "000002a0  00 00 00 00 00 00 00 00  00 00 00 00 00 00 00 00  |................|\n",
      "000002b0  eb 00 00 00 00 00 00 00  2c 00 00 00 00 00 00 00  |........,.......|\n",
      "000002c0  00 00 00 00 00 00 00 00  01 00 00 00 00 00 00 00  |................|\n",
      "000002d0  00 00 00 00 00 00 00 00                           |........|\n",
      "000002d8\n"
     ]
    }
   ],
   "source": [
    "!hexdump -C a.out"
   ]
  },
  {
   "cell_type": "code",
   "execution_count": 369,
   "id": "ad86b2c4-42d1-4a01-b395-dae2c740896f",
   "metadata": {},
   "outputs": [
    {
     "name": "stdout",
     "output_type": "stream",
     "text": [
      "   text\t   data\t    bss\t    dec\t    hex\tfilename\n",
      "     12\t      0\t      0\t     12\t      c\ta.out\n"
     ]
    }
   ],
   "source": [
    "!size a.out"
   ]
  },
  {
   "cell_type": "code",
   "execution_count": 370,
   "id": "e16219be-d9d8-4c70-97e8-10331f0a48fe",
   "metadata": {},
   "outputs": [
    {
     "name": "stdout",
     "output_type": "stream",
     "text": [
      "a.out  :\n",
      "section   size   addr\n",
      ".text    0xc    0x0\n",
      ".data    0x0    0x0\n",
      ".bss     0x0    0x0\n",
      "Total    0xc\n",
      "\n",
      "\n"
     ]
    }
   ],
   "source": [
    "!size -Ax a.out"
   ]
  },
  {
   "cell_type": "markdown",
   "id": "8d5b6166-44dc-4886-8d56-99493cdfb895",
   "metadata": {},
   "source": [
    "# C with more aggressive options"
   ]
  },
  {
   "cell_type": "code",
   "execution_count": 371,
   "id": "94f44895-637e-4536-bc82-82f2a6307418",
   "metadata": {},
   "outputs": [
    {
     "name": "stdout",
     "output_type": "stream",
     "text": [
      "Writing tiny2.c\n"
     ]
    }
   ],
   "source": [
    "%%writefile tiny2.c\n",
    "extern void _exit(int);\n",
    "\n",
    "void _start(void) {\n",
    "    _exit(42); \n",
    "}"
   ]
  },
  {
   "cell_type": "code",
   "execution_count": 452,
   "id": "238983c0-244e-47a4-8410-96b7722f6ad4",
   "metadata": {},
   "outputs": [
    {
     "name": "stdout",
     "output_type": "stream",
     "text": [
      "Overwriting tiny2.asm\n"
     ]
    }
   ],
   "source": [
    "%%writefile tiny2.asm\n",
    "    .global _exit\n",
    "    .text\n",
    "_exit:\n",
    "    /* syscall exit (int status) */\n",
    "    mov    w8, #93  /* exit is syscall #1 */\n",
    "    mov    x0, #42  /* status  := 42 */\n",
    "    svc    #0"
   ]
  },
  {
   "cell_type": "code",
   "execution_count": 453,
   "id": "4ad01db0-d79c-4007-be8f-3957adcccf7f",
   "metadata": {},
   "outputs": [],
   "source": [
    "!as tiny2.asm -o tiny2.o"
   ]
  },
  {
   "cell_type": "markdown",
   "id": "de0a0712-744a-44ee-92b5-8ac39001dac9",
   "metadata": {},
   "source": [
    "- -ffreestanding is used in embedded systems where there is no operating system, and everything has to be self-contained.\n",
    "    - void main(void) .\n",
    "    - The standard header files <stdio.h>, <string.h> and so on, are not to be used.\n",
    "- On ARM64 the \"-Oz -ffreestanding\" generated assembly does not include SP stack initialization.\n",
    "- -fident and -fno-ident control whether the output file contains the compiler name and version information.\n",
    "- -nostdlib implies the individual options -nodefaultlibs and -nostartfiles .\n",
    "    - the only libraries linked are exactly those that you explicitly name to the linker using the -l flag .\n",
    "    - http://cs107e.github.io/guides/gcc/"
   ]
  },
  {
   "cell_type": "markdown",
   "id": "aabb050f-d424-4ed8-826d-9a3ce7c1ef87",
   "metadata": {},
   "source": [
    "---"
   ]
  },
  {
   "cell_type": "code",
   "execution_count": 450,
   "id": "6c889d38-3ccd-42c7-9154-a6b13efa391c",
   "metadata": {},
   "outputs": [],
   "source": [
    "%%bash\n",
    "clang -Wall -g -Oz -s -static -nostartfiles -nostdlib -ffreestanding \\\n",
    "-fno-ident -fno-asynchronous-unwind-tables  \\\n",
    "-ffunction-sections -fdata-sections -Wl,--gc-sections,--strip-all \\\n",
    "tiny2.o tiny2.c"
   ]
  },
  {
   "cell_type": "code",
   "execution_count": 451,
   "id": "fa8dd872-ef57-4666-9b96-63d9226e07b4",
   "metadata": {},
   "outputs": [
    {
     "name": "stdout",
     "output_type": "stream",
     "text": [
      "-rwx------ 1 u0_a113 u0_a113 616 Jan 27 22:29 \u001b[0m\u001b[01;32ma.out\u001b[0m\n"
     ]
    }
   ],
   "source": [
    "!ls -lh a.out"
   ]
  },
  {
   "cell_type": "code",
   "execution_count": 454,
   "id": "b0c7614c-37f9-4293-aed4-e4ea6aaac1f2",
   "metadata": {},
   "outputs": [
    {
     "name": "stdout",
     "output_type": "stream",
     "text": [
      "42\n"
     ]
    }
   ],
   "source": [
    "!./a.out ; echo $?"
   ]
  },
  {
   "cell_type": "code",
   "execution_count": 455,
   "id": "868617c3-7e2e-47dc-b61d-88f6e4ac338e",
   "metadata": {},
   "outputs": [
    {
     "name": "stdout",
     "output_type": "stream",
     "text": [
      "616 a.out\n"
     ]
    }
   ],
   "source": [
    "!wc -c a.out"
   ]
  },
  {
   "cell_type": "code",
   "execution_count": 456,
   "id": "696fc082-5aa7-4966-aee1-703f99ed370e",
   "metadata": {},
   "outputs": [
    {
     "name": "stdout",
     "output_type": "stream",
     "text": [
      "\n",
      "a.out:     file format elf64-littleaarch64\n",
      "\n",
      "Sections:\n",
      "Idx Name          Size      VMA               LMA               File off  Algn\n",
      "  0 .text         00000014  0000000000201120  0000000000201120  00000120  2**2\n",
      "                  CONTENTS, ALLOC, LOAD, READONLY, CODE\n",
      "  1 .comment      00000013  0000000000000000  0000000000000000  00000134  2**0\n",
      "                  CONTENTS, READONLY\n"
     ]
    }
   ],
   "source": [
    "!objdump -h a.out"
   ]
  },
  {
   "cell_type": "code",
   "execution_count": 457,
   "id": "51fb891f-c233-4f2f-867a-e710afa9f73e",
   "metadata": {},
   "outputs": [
    {
     "name": "stdout",
     "output_type": "stream",
     "text": [
      "copy from `a.out' [elf64-littleaarch64] to `st227nYp' [elf64-littleaarch64]\n"
     ]
    }
   ],
   "source": [
    "!strip --strip-all --verbose -R .comment a.out"
   ]
  },
  {
   "cell_type": "code",
   "execution_count": 458,
   "id": "c08ecd40-bd21-4f11-9723-eb90a05e6392",
   "metadata": {},
   "outputs": [
    {
     "name": "stdout",
     "output_type": "stream",
     "text": [
      "-rwx------ 1 u0_a113 u0_a113 520 Jan 27 22:30 \u001b[0m\u001b[01;32ma.out\u001b[0m\n"
     ]
    }
   ],
   "source": [
    "!ls -lh a.out"
   ]
  },
  {
   "cell_type": "code",
   "execution_count": 459,
   "id": "ecd5661e-381d-4c1e-8676-8030ad5c82a7",
   "metadata": {},
   "outputs": [
    {
     "name": "stdout",
     "output_type": "stream",
     "text": [
      "   text\t   data\t    bss\t    dec\t    hex\tfilename\n",
      "     20\t      0\t      0\t     20\t     14\ta.out\n"
     ]
    }
   ],
   "source": [
    "!size a.out"
   ]
  },
  {
   "cell_type": "code",
   "execution_count": 460,
   "id": "75749076-7a0c-48d0-b316-fc8aef3db5dc",
   "metadata": {},
   "outputs": [
    {
     "name": "stdout",
     "output_type": "stream",
     "text": [
      "\n",
      "a.out:     file format elf64-littleaarch64\n",
      "\n",
      "Sections:\n",
      "Idx Name          Size      VMA               LMA               File off  Algn\n",
      "  0 .text         00000014  0000000000201120  0000000000201120  00000120  2**2\n",
      "                  CONTENTS, ALLOC, LOAD, READONLY, CODE\n"
     ]
    }
   ],
   "source": [
    "!objdump -h a.out"
   ]
  },
  {
   "cell_type": "code",
   "execution_count": 461,
   "id": "cb1cc61d-ee1d-44f7-b6ad-e1d9d089708f",
   "metadata": {},
   "outputs": [
    {
     "name": "stdout",
     "output_type": "stream",
     "text": [
      "\n",
      "a.out:     file format elf64-littleaarch64\n",
      "\n",
      "\n",
      "Disassembly of section .text:\n",
      "\n",
      "0000000000201120 <.text>:\n",
      "  201120:\t52800ba8 \tmov\tw8, #0x5d                  \t// #93\n",
      "  201124:\td2800540 \tmov\tx0, #0x2a                  \t// #42\n",
      "  201128:\td4000001 \tsvc\t#0x0\n",
      "  20112c:\t52800540 \tmov\tw0, #0x2a                  \t// #42\n",
      "  201130:\t17fffffc \tb\t0x201120\n"
     ]
    }
   ],
   "source": [
    "!objdump -Dz a.out"
   ]
  },
  {
   "cell_type": "code",
   "execution_count": 462,
   "id": "7481bad3-6d21-42e6-bdf5-68193cd7a148",
   "metadata": {},
   "outputs": [
    {
     "name": "stdout",
     "output_type": "stream",
     "text": [
      "\n",
      "a.out:     file format elf64-littleaarch64\n",
      "\n",
      "\n",
      "Disassembly of section .text:\n",
      "\n",
      "0000000000201120 <.text>:\n",
      "  201120:\t52800ba8 \tmov\tw8, #0x5d                  \t// #93\n",
      "  201124:\td2800540 \tmov\tx0, #0x2a                  \t// #42\n",
      "  201128:\td4000001 \tsvc\t#0x0\n",
      "  20112c:\t52800540 \tmov\tw0, #0x2a                  \t// #42\n",
      "  201130:\t17fffffc \tb\t0x201120\n"
     ]
    }
   ],
   "source": [
    "!objdump -d a.out"
   ]
  },
  {
   "cell_type": "code",
   "execution_count": 463,
   "id": "6e9e0963-6284-4890-91e3-3992ffd39010",
   "metadata": {},
   "outputs": [
    {
     "name": "stdout",
     "output_type": "stream",
     "text": [
      "00000000  7f 45 4c 46 02 01 01 00  00 00 00 00 00 00 00 00  |.ELF............|\n",
      "00000010  02 00 b7 00 01 00 00 00  2c 11 20 00 00 00 00 00  |........,. .....|\n",
      "00000020  40 00 00 00 00 00 00 00  48 01 00 00 00 00 00 00  |@.......H.......|\n",
      "00000030  00 00 00 00 40 00 38 00  04 00 40 00 03 00 02 00  |....@.8...@.....|\n",
      "00000040  06 00 00 00 04 00 00 00  40 00 00 00 00 00 00 00  |........@.......|\n",
      "00000050  40 00 20 00 00 00 00 00  40 00 20 00 00 00 00 00  |@. .....@. .....|\n",
      "00000060  e0 00 00 00 00 00 00 00  e0 00 00 00 00 00 00 00  |................|\n",
      "00000070  08 00 00 00 00 00 00 00  01 00 00 00 04 00 00 00  |................|\n",
      "00000080  00 00 00 00 00 00 00 00  00 00 20 00 00 00 00 00  |.......... .....|\n",
      "00000090  00 00 20 00 00 00 00 00  20 01 00 00 00 00 00 00  |.. ..... .......|\n",
      "000000a0  20 01 00 00 00 00 00 00  00 10 00 00 00 00 00 00  | ...............|\n",
      "000000b0  01 00 00 00 05 00 00 00  20 01 00 00 00 00 00 00  |........ .......|\n",
      "000000c0  20 11 20 00 00 00 00 00  20 11 20 00 00 00 00 00  | . ..... . .....|\n",
      "000000d0  14 00 00 00 00 00 00 00  14 00 00 00 00 00 00 00  |................|\n",
      "000000e0  00 10 00 00 00 00 00 00  51 e5 74 64 06 00 00 00  |........Q.td....|\n",
      "000000f0  00 00 00 00 00 00 00 00  00 00 00 00 00 00 00 00  |................|\n",
      "*\n",
      "00000120  a8 0b 80 52 40 05 80 d2  01 00 00 d4 40 05 80 52  |...R@.......@..R|\n",
      "00000130  fc ff ff 17 00 2e 73 68  73 74 72 74 61 62 00 2e  |......shstrtab..|\n",
      "00000140  74 65 78 74 00 00 00 00  00 00 00 00 00 00 00 00  |text............|\n",
      "00000150  00 00 00 00 00 00 00 00  00 00 00 00 00 00 00 00  |................|\n",
      "*\n",
      "00000180  00 00 00 00 00 00 00 00  0b 00 00 00 01 00 00 00  |................|\n",
      "00000190  06 00 00 00 00 00 00 00  20 11 20 00 00 00 00 00  |........ . .....|\n",
      "000001a0  20 01 00 00 00 00 00 00  14 00 00 00 00 00 00 00  | ...............|\n",
      "000001b0  00 00 00 00 00 00 00 00  04 00 00 00 00 00 00 00  |................|\n",
      "000001c0  00 00 00 00 00 00 00 00  01 00 00 00 03 00 00 00  |................|\n",
      "000001d0  00 00 00 00 00 00 00 00  00 00 00 00 00 00 00 00  |................|\n",
      "000001e0  34 01 00 00 00 00 00 00  11 00 00 00 00 00 00 00  |4...............|\n",
      "000001f0  00 00 00 00 00 00 00 00  01 00 00 00 00 00 00 00  |................|\n",
      "00000200  00 00 00 00 00 00 00 00                           |........|\n",
      "00000208\n"
     ]
    }
   ],
   "source": [
    "!hexdump -C a.out"
   ]
  },
  {
   "cell_type": "markdown",
   "id": "3b4de8b6-e769-4d53-b249-ebd8cd828a8a",
   "metadata": {},
   "source": [
    "---"
   ]
  },
  {
   "cell_type": "markdown",
   "id": "9586828e-6b6a-40df-bae0-0d4763209e16",
   "metadata": {},
   "source": [
    "- -Wl,–gc-sections: Tell the linker to garbage collect and discard unused sections\n",
    "- -Wl,-static: Link against static libraries. Required for dead-code elimination"
   ]
  },
  {
   "cell_type": "code",
   "execution_count": 469,
   "id": "3fb05610-dea3-4871-8fe2-0187deec5858",
   "metadata": {},
   "outputs": [],
   "source": [
    "%%bash\n",
    "clang tiny2.o tiny2.c \\\n",
    "-Oz -s -ffreestanding -nostartfiles -nostdlib -static -Wl,--gc-sections"
   ]
  },
  {
   "cell_type": "code",
   "execution_count": 470,
   "id": "2e5a815e-1a30-471e-a809-dfdf6abbf419",
   "metadata": {},
   "outputs": [
    {
     "name": "stdout",
     "output_type": "stream",
     "text": [
      "-rwx------ 1 u0_a113 u0_a113 632 Jan 27 22:31 \u001b[0m\u001b[01;32ma.out\u001b[0m\n"
     ]
    }
   ],
   "source": [
    "!ls -lh a.out"
   ]
  },
  {
   "cell_type": "code",
   "execution_count": 471,
   "id": "070c2840-2303-4c6c-a971-412117e5eaa7",
   "metadata": {},
   "outputs": [
    {
     "name": "stdout",
     "output_type": "stream",
     "text": [
      "42\n"
     ]
    }
   ],
   "source": [
    "!./a.out ; echo $?"
   ]
  },
  {
   "cell_type": "code",
   "execution_count": 472,
   "id": "5f709536-2e92-481b-b95b-722edcf55cd2",
   "metadata": {},
   "outputs": [
    {
     "name": "stdout",
     "output_type": "stream",
     "text": [
      "   text\t   data\t    bss\t    dec\t    hex\tfilename\n",
      "     20\t      0\t      0\t     20\t     14\ta.out\n"
     ]
    }
   ],
   "source": [
    "!size a.out"
   ]
  },
  {
   "cell_type": "code",
   "execution_count": 473,
   "id": "068e9dfa-76a0-4c46-aad6-561beaeb1bdf",
   "metadata": {},
   "outputs": [
    {
     "name": "stdout",
     "output_type": "stream",
     "text": [
      "\n",
      "a.out:     file format elf64-littleaarch64\n",
      "\n",
      "\n",
      "Disassembly of section .text:\n",
      "\n",
      "0000000000201120 <.text>:\n",
      "  201120:\t52800ba8 \tmov\tw8, #0x5d                  \t// #93\n",
      "  201124:\td2800540 \tmov\tx0, #0x2a                  \t// #42\n",
      "  201128:\td4000001 \tsvc\t#0x0\n",
      "  20112c:\t52800540 \tmov\tw0, #0x2a                  \t// #42\n",
      "  201130:\t17fffffc \tb\t0x201120\n"
     ]
    }
   ],
   "source": [
    "!objdump -d a.out"
   ]
  },
  {
   "cell_type": "code",
   "execution_count": 474,
   "id": "3c3c304e-acf6-40e5-b501-f4da93763efb",
   "metadata": {},
   "outputs": [
    {
     "name": "stdout",
     "output_type": "stream",
     "text": [
      "\n",
      "a.out:     file format elf64-littleaarch64\n",
      "\n",
      "Sections:\n",
      "Idx Name          Size      VMA               LMA               File off  Algn\n",
      "  0 .text         00000014  0000000000201120  0000000000201120  00000120  2**2\n",
      "                  CONTENTS, ALLOC, LOAD, READONLY, CODE\n",
      "  1 .comment      00000029  0000000000000000  0000000000000000  00000134  2**0\n",
      "                  CONTENTS, READONLY\n"
     ]
    }
   ],
   "source": [
    "!objdump -h a.out"
   ]
  },
  {
   "cell_type": "code",
   "execution_count": 475,
   "id": "dc30c491-cc16-4124-bb66-e3a91951fdd7",
   "metadata": {},
   "outputs": [
    {
     "name": "stdout",
     "output_type": "stream",
     "text": [
      "\n",
      "a.out:     file format elf64-littleaarch64\n",
      "\n",
      "Contents of section .text:\n",
      " 201120 a80b8052 400580d2 010000d4 40058052  ...R@.......@..R\n",
      " 201130 fcffff17                             ....            \n",
      "Contents of section .comment:\n",
      " 0000 636c616e 67207665 7273696f 6e203135  clang version 15\n",
      " 0010 2e302e37 00004c69 6e6b6572 3a204c4c  .0.7..Linker: LL\n",
      " 0020 44203135 2e302e37 00                 D 15.0.7.       \n"
     ]
    }
   ],
   "source": [
    "!objdump -s a.out"
   ]
  },
  {
   "cell_type": "code",
   "execution_count": 476,
   "id": "ec095992-c658-4e4b-bdcc-4957a4ea6dde",
   "metadata": {},
   "outputs": [
    {
     "name": "stdout",
     "output_type": "stream",
     "text": [
      "copy from `a.out' [elf64-littleaarch64] to `stoSzXe0' [elf64-littleaarch64]\n"
     ]
    }
   ],
   "source": [
    "!strip --verbose -R .comment a.out"
   ]
  },
  {
   "cell_type": "code",
   "execution_count": 477,
   "id": "f7e7e758-d7e3-4c18-9770-a9038634b0e9",
   "metadata": {},
   "outputs": [
    {
     "name": "stdout",
     "output_type": "stream",
     "text": [
      "copy from `a.out' [elf64-littleaarch64] to `stzu3HC7' [elf64-littleaarch64]\n"
     ]
    }
   ],
   "source": [
    "!strip --strip-all --verbose -R .comment a.out"
   ]
  },
  {
   "cell_type": "code",
   "execution_count": 478,
   "id": "80af7554-c479-4328-8a76-69c0dba962bb",
   "metadata": {},
   "outputs": [
    {
     "name": "stdout",
     "output_type": "stream",
     "text": [
      "42\n"
     ]
    }
   ],
   "source": [
    "!./a.out ; echo $?"
   ]
  },
  {
   "cell_type": "code",
   "execution_count": 479,
   "id": "3f79e27a-6c63-4cbc-8b33-7211a1f3b123",
   "metadata": {},
   "outputs": [
    {
     "name": "stdout",
     "output_type": "stream",
     "text": [
      "-rwx------ 1 u0_a113 u0_a113 520 Jan 27 22:32 \u001b[0m\u001b[01;32ma.out\u001b[0m\n"
     ]
    }
   ],
   "source": [
    "!ls -lh a.out"
   ]
  },
  {
   "cell_type": "code",
   "execution_count": 480,
   "id": "543cbf72-9cab-464f-b2aa-4ee5f38c7a33",
   "metadata": {},
   "outputs": [
    {
     "name": "stdout",
     "output_type": "stream",
     "text": [
      "\n",
      "a.out:     file format elf64-littleaarch64\n",
      "\n",
      "Sections:\n",
      "Idx Name          Size      VMA               LMA               File off  Algn\n",
      "  0 .text         00000014  0000000000201120  0000000000201120  00000120  2**2\n",
      "                  CONTENTS, ALLOC, LOAD, READONLY, CODE\n"
     ]
    }
   ],
   "source": [
    "!objdump -h a.out"
   ]
  },
  {
   "cell_type": "code",
   "execution_count": 481,
   "id": "ceeb41fd-e5c5-43ef-82c9-c71472b3b654",
   "metadata": {},
   "outputs": [
    {
     "name": "stdout",
     "output_type": "stream",
     "text": [
      "\n",
      "a.out:     file format elf64-littleaarch64\n",
      "\n",
      "Contents of section .text:\n",
      " 201120 a80b8052 400580d2 010000d4 40058052  ...R@.......@..R\n",
      " 201130 fcffff17                             ....            \n"
     ]
    }
   ],
   "source": [
    "!objdump -s a.out"
   ]
  },
  {
   "cell_type": "code",
   "execution_count": 482,
   "id": "924cce10-9524-482c-9ab2-9abfae9376ed",
   "metadata": {},
   "outputs": [
    {
     "name": "stdout",
     "output_type": "stream",
     "text": [
      "00000000  7f 45 4c 46 02 01 01 00  00 00 00 00 00 00 00 00  |.ELF............|\n",
      "00000010  02 00 b7 00 01 00 00 00  2c 11 20 00 00 00 00 00  |........,. .....|\n",
      "00000020  40 00 00 00 00 00 00 00  48 01 00 00 00 00 00 00  |@.......H.......|\n",
      "00000030  00 00 00 00 40 00 38 00  04 00 40 00 03 00 02 00  |....@.8...@.....|\n",
      "00000040  06 00 00 00 04 00 00 00  40 00 00 00 00 00 00 00  |........@.......|\n",
      "00000050  40 00 20 00 00 00 00 00  40 00 20 00 00 00 00 00  |@. .....@. .....|\n",
      "00000060  e0 00 00 00 00 00 00 00  e0 00 00 00 00 00 00 00  |................|\n",
      "00000070  08 00 00 00 00 00 00 00  01 00 00 00 04 00 00 00  |................|\n",
      "00000080  00 00 00 00 00 00 00 00  00 00 20 00 00 00 00 00  |.......... .....|\n",
      "00000090  00 00 20 00 00 00 00 00  20 01 00 00 00 00 00 00  |.. ..... .......|\n",
      "000000a0  20 01 00 00 00 00 00 00  00 10 00 00 00 00 00 00  | ...............|\n",
      "000000b0  01 00 00 00 05 00 00 00  20 01 00 00 00 00 00 00  |........ .......|\n",
      "000000c0  20 11 20 00 00 00 00 00  20 11 20 00 00 00 00 00  | . ..... . .....|\n",
      "000000d0  14 00 00 00 00 00 00 00  14 00 00 00 00 00 00 00  |................|\n",
      "000000e0  00 10 00 00 00 00 00 00  51 e5 74 64 06 00 00 00  |........Q.td....|\n",
      "000000f0  00 00 00 00 00 00 00 00  00 00 00 00 00 00 00 00  |................|\n",
      "*\n",
      "00000120  a8 0b 80 52 40 05 80 d2  01 00 00 d4 40 05 80 52  |...R@.......@..R|\n",
      "00000130  fc ff ff 17 00 2e 73 68  73 74 72 74 61 62 00 2e  |......shstrtab..|\n",
      "00000140  74 65 78 74 00 00 00 00  00 00 00 00 00 00 00 00  |text............|\n",
      "00000150  00 00 00 00 00 00 00 00  00 00 00 00 00 00 00 00  |................|\n",
      "*\n",
      "00000180  00 00 00 00 00 00 00 00  0b 00 00 00 01 00 00 00  |................|\n",
      "00000190  06 00 00 00 00 00 00 00  20 11 20 00 00 00 00 00  |........ . .....|\n",
      "000001a0  20 01 00 00 00 00 00 00  14 00 00 00 00 00 00 00  | ...............|\n",
      "000001b0  00 00 00 00 00 00 00 00  04 00 00 00 00 00 00 00  |................|\n",
      "000001c0  00 00 00 00 00 00 00 00  01 00 00 00 03 00 00 00  |................|\n",
      "000001d0  00 00 00 00 00 00 00 00  00 00 00 00 00 00 00 00  |................|\n",
      "000001e0  34 01 00 00 00 00 00 00  11 00 00 00 00 00 00 00  |4...............|\n",
      "000001f0  00 00 00 00 00 00 00 00  01 00 00 00 00 00 00 00  |................|\n",
      "00000200  00 00 00 00 00 00 00 00                           |........|\n",
      "00000208\n"
     ]
    }
   ],
   "source": [
    "!hexdump -C a.out"
   ]
  },
  {
   "cell_type": "markdown",
   "id": "59954f1f-b33a-4500-8c65-56481d2683c4",
   "metadata": {},
   "source": [
    "---"
   ]
  },
  {
   "cell_type": "code",
   "execution_count": null,
   "id": "5974b24a-2a43-41b1-ad23-b06e46c77235",
   "metadata": {},
   "outputs": [],
   "source": []
  },
  {
   "cell_type": "code",
   "execution_count": 488,
   "id": "349015f9-3cd0-47a7-a15d-792a26a9e7e8",
   "metadata": {},
   "outputs": [
    {
     "name": "stdout",
     "output_type": "stream",
     "text": [
      "Overwriting tiny3.c\n"
     ]
    }
   ],
   "source": [
    "%%writefile tiny3.c\n",
    "#include <stdio.h>\n",
    "\n",
    "int main(void) {\n",
    "    puts(\"Hello World!\\n\");\n",
    "}"
   ]
  },
  {
   "cell_type": "code",
   "execution_count": 489,
   "id": "382f2088-ac7d-4c86-83a4-69f54cd4428a",
   "metadata": {},
   "outputs": [],
   "source": [
    "!clang -Wall tiny3.c"
   ]
  },
  {
   "cell_type": "code",
   "execution_count": 492,
   "id": "e0e23754-4523-437d-b40e-1de5ec0e5c41",
   "metadata": {},
   "outputs": [
    {
     "name": "stdout",
     "output_type": "stream",
     "text": [
      "Hello World!\n",
      "\n"
     ]
    }
   ],
   "source": [
    "!./a.out"
   ]
  },
  {
   "cell_type": "code",
   "execution_count": 494,
   "id": "e030f9e5-7497-48b7-80e2-f51c2e1b7140",
   "metadata": {},
   "outputs": [
    {
     "name": "stdout",
     "output_type": "stream",
     "text": [
      "-rwx------ 1 u0_a113 u0_a113 5.9K Jan 27 22:37 \u001b[0m\u001b[01;32ma.out\u001b[0m\n"
     ]
    }
   ],
   "source": [
    "!ls -lh a.out"
   ]
  },
  {
   "cell_type": "markdown",
   "id": "74e740d7-7924-4b03-b89a-13034193a155",
   "metadata": {},
   "source": [
    "---"
   ]
  },
  {
   "cell_type": "code",
   "execution_count": 500,
   "id": "9cbcc057-ba36-4eec-a669-4ae36cf953da",
   "metadata": {},
   "outputs": [
    {
     "name": "stdout",
     "output_type": "stream",
     "text": [
      "Overwriting tiny4.c\n"
     ]
    }
   ],
   "source": [
    "%%writefile tiny4.c\n",
    "#include <stdio.h>\n",
    "\n",
    "void _start(void) {\n",
    "    puts(\"Hello World!\\n\");\n",
    "}"
   ]
  },
  {
   "cell_type": "code",
   "execution_count": 524,
   "id": "426740ad-49fd-43a2-a0e0-31846748904b",
   "metadata": {},
   "outputs": [],
   "source": [
    "%%bash\n",
    "clang tiny4.c \\\n",
    "-Wall -Oz -s -nostartfiles \\\n",
    "-fno-ident -fno-asynchronous-unwind-tables  \\\n",
    "-ffunction-sections -fdata-sections -Wl,--gc-sections,--strip-all \\"
   ]
  },
  {
   "cell_type": "code",
   "execution_count": 525,
   "id": "57bf2bcd-de11-4336-a123-b9534c3e8bb9",
   "metadata": {},
   "outputs": [
    {
     "name": "stdout",
     "output_type": "stream",
     "text": [
      "copy from `a.out' [elf64-littleaarch64] to `stBvxzAr' [elf64-littleaarch64]\n"
     ]
    }
   ],
   "source": [
    "!strip --strip-all --verbose -R .comment a.out"
   ]
  },
  {
   "cell_type": "code",
   "execution_count": 526,
   "id": "b7592beb-0861-43da-873e-b5d5da95c04c",
   "metadata": {},
   "outputs": [
    {
     "name": "stdout",
     "output_type": "stream",
     "text": [
      "Hello World!\n",
      "\n"
     ]
    }
   ],
   "source": [
    "!./a.out"
   ]
  },
  {
   "cell_type": "code",
   "execution_count": 527,
   "id": "76047d5e-f45d-4029-8057-dc6dcf0739d3",
   "metadata": {},
   "outputs": [
    {
     "name": "stdout",
     "output_type": "stream",
     "text": [
      "-rwx------ 1 u0_a113 u0_a113 2.2K Jan 27 22:53 \u001b[0m\u001b[01;32ma.out\u001b[0m\n"
     ]
    }
   ],
   "source": [
    "!ls -lh a.out"
   ]
  },
  {
   "cell_type": "code",
   "execution_count": 513,
   "id": "0fdbb384-20ec-4e1f-8420-1585975357b6",
   "metadata": {
    "scrolled": true,
    "tags": []
   },
   "outputs": [
    {
     "name": "stdout",
     "output_type": "stream",
     "text": [
      "\n",
      "a.out:     file format elf64-littleaarch64\n",
      "\n",
      "\n",
      "Disassembly of section .interp:\n",
      "\n",
      "0000000000000200 <.interp>:\n",
      " 200:\t7379732f \t.inst\t0x7379732f ; undefined\n",
      " 204:\t2f6d6574 \t.inst\t0x2f6d6574 ; undefined\n",
      " 208:\t2f6e6962 \tumlsl\tv2.4s, v11.4h, v14.h[6]\n",
      " 20c:\t6b6e696c \t.inst\t0x6b6e696c ; undefined\n",
      " 210:\t34367265 \tcbz\tw5, 6d05c <puts@plt+0x6bd2c>\n",
      " 214:\tAddress 0x214 is out of bounds.\n",
      "\n",
      "\n",
      "Disassembly of section .dynsym:\n",
      "\n",
      "0000000000000218 <.dynsym>:\n",
      " 218:\t00000000 \tudf\t#0\n",
      " 21c:\t00000000 \tudf\t#0\n",
      " 220:\t00000000 \tudf\t#0\n",
      " 224:\t00000000 \tudf\t#0\n",
      " 228:\t00000000 \tudf\t#0\n",
      " 22c:\t00000000 \tudf\t#0\n",
      " 230:\t00000001 \tudf\t#1\n",
      " 234:\t00000012 \tudf\t#18\n",
      " 238:\t00000000 \tudf\t#0\n",
      " 23c:\t00000000 \tudf\t#0\n",
      " 240:\t00000000 \tudf\t#0\n",
      " 244:\t00000000 \tudf\t#0\n",
      "\n",
      "Disassembly of section .gnu.version:\n",
      "\n",
      "0000000000000248 <.gnu.version>:\n",
      " 248:\t00020000 \t.inst\t0x00020000 ; undefined\n",
      "\n",
      "Disassembly of section .gnu.version_r:\n",
      "\n",
      "000000000000024c <.gnu.version_r>:\n",
      " 24c:\t00010001 \t.inst\t0x00010001 ; undefined\n",
      " 250:\t00000006 \tudf\t#6\n",
      " 254:\t00000010 \tudf\t#16\n",
      " 258:\t00000000 \tudf\t#0\n",
      " 25c:\t00050d63 \t.inst\t0x00050d63 ; undefined\n",
      " 260:\t00020000 \t.inst\t0x00020000 ; undefined\n",
      " 264:\t0000000e \tudf\t#14\n",
      " 268:\t00000000 \tudf\t#0\n",
      "\n",
      "Disassembly of section .gnu.hash:\n",
      "\n",
      "0000000000000270 <.gnu.hash>:\n",
      " 270:\t00000001 \tudf\t#1\n",
      " 274:\t00000002 \tudf\t#2\n",
      " 278:\t00000001 \tudf\t#1\n",
      " 27c:\t0000001a \tudf\t#26\n",
      " 280:\t00000000 \tudf\t#0\n",
      " 284:\t00000000 \tudf\t#0\n",
      " 288:\t00000000 \tudf\t#0\n",
      "\n",
      "Disassembly of section .dynstr:\n",
      "\n",
      "000000000000028c <.dynstr>:\n",
      " 28c:\t74757000 \t.inst\t0x74757000 ; undefined\n",
      " 290:\t696c0073 \tldpsw\tx19, x0, [x3, #-160]\n",
      " 294:\t732e6362 \t.inst\t0x732e6362 ; undefined\n",
      " 298:\t494c006f \t.inst\t0x494c006f ; undefined\n",
      " 29c:\t2f004342 \t.inst\t0x2f004342 ; undefined\n",
      " 2a0:\t61746164 \t.inst\t0x61746164 ; undefined\n",
      " 2a4:\t7461642f \t.inst\t0x7461642f ; undefined\n",
      " 2a8:\t6f632f61 \t.inst\t0x6f632f61 ; undefined\n",
      " 2ac:\t65742e6d \tfmls\tz13.h, p3/m, z19.h, z20.h\n",
      " 2b0:\t78756d72 \t.inst\t0x78756d72 ; undefined\n",
      " 2b4:\t6c69662f \tldnp\td15, d25, [x17, #-368]\n",
      " 2b8:\t752f7365 \t.inst\t0x752f7365 ; undefined\n",
      " 2bc:\t6c2f7273 \tstnp\td19, d28, [x19, #-272]\n",
      " 2c0:\t6c006269 \tstnp\td9, d24, [x19]\n",
      " 2c4:\t6c646269 \tldnp\td9, d24, [x19, #-448]\n",
      " 2c8:\t006f732e \t.inst\t0x006f732e ; undefined\n",
      "\n",
      "Disassembly of section .rela.plt:\n",
      "\n",
      "00000000000002d0 <.rela.plt>:\n",
      " 2d0:\t00002488 \tudf\t#9352\n",
      " 2d4:\t00000000 \tudf\t#0\n",
      " 2d8:\t00000402 \tudf\t#1026\n",
      " 2dc:\t00000001 \tudf\t#1\n",
      " 2e0:\t00000000 \tudf\t#0\n",
      " 2e4:\t00000000 \tudf\t#0\n",
      "\n",
      "Disassembly of section .rodata:\n",
      "\n",
      "00000000000002e8 <.rodata>:\n",
      " 2e8:\t6c6c6548 \tldnp\td8, d25, [x10, #-320]\n",
      " 2ec:\t6f57206f \tumlal2\tv15.4s, v3.8h, v7.h[1]\n",
      " 2f0:\t21646c72 \t.inst\t0x21646c72 ; undefined\n",
      " 2f4:\tAddress 0x2f4 is out of bounds.\n",
      "\n",
      "\n",
      "Disassembly of section .text:\n",
      "\n",
      "00000000000012f8 <.text>:\n",
      "    12f8:\td503201f \tnop\n",
      "    12fc:\t10ff7f60 \tadr\tx0, 2e8 <puts@plt-0x1048>\n",
      "    1300:\t1400000c \tb\t1330 <puts@plt>\n",
      "\n",
      "Disassembly of section .plt:\n",
      "\n",
      "0000000000001310 <puts@plt-0x20>:\n",
      "    1310:\ta9bf7bf0 \tstp\tx16, x30, [sp, #-16]!\n",
      "    1314:\tb0000010 \tadrp\tx16, 2000 <puts@plt+0xcd0>\n",
      "    1318:\tf9424211 \tldr\tx17, [x16, #1152]\n",
      "    131c:\t91120210 \tadd\tx16, x16, #0x480\n",
      "    1320:\td61f0220 \tbr\tx17\n",
      "    1324:\td503201f \tnop\n",
      "    1328:\td503201f \tnop\n",
      "    132c:\td503201f \tnop\n",
      "\n",
      "0000000000001330 <puts@plt>:\n",
      "    1330:\tb0000010 \tadrp\tx16, 2000 <puts@plt+0xcd0>\n",
      "    1334:\tf9424611 \tldr\tx17, [x16, #1160]\n",
      "    1338:\t91122210 \tadd\tx16, x16, #0x488\n",
      "    133c:\td61f0220 \tbr\tx17\n",
      "\n",
      "Disassembly of section .dynamic:\n",
      "\n",
      "0000000000002340 <.dynamic>:\n",
      "    2340:\t0000001d \tudf\t#29\n",
      "    2344:\t00000000 \tudf\t#0\n",
      "    2348:\t00000013 \tudf\t#19\n",
      "    234c:\t00000000 \tudf\t#0\n",
      "    2350:\t00000001 \tudf\t#1\n",
      "    2354:\t00000000 \tudf\t#0\n",
      "    2358:\t00000037 \tudf\t#55\n",
      "    235c:\t00000000 \tudf\t#0\n",
      "    2360:\t00000001 \tudf\t#1\n",
      "    2364:\t00000000 \tudf\t#0\n",
      "    2368:\t00000006 \tudf\t#6\n",
      "    236c:\t00000000 \tudf\t#0\n",
      "    2370:\t0000001e \tudf\t#30\n",
      "    2374:\t00000000 \tudf\t#0\n",
      "    2378:\t00000008 \tudf\t#8\n",
      "    237c:\t00000000 \tudf\t#0\n",
      "    2380:\t6ffffffb \t.inst\t0x6ffffffb ; undefined\n",
      "    2384:\t00000000 \tudf\t#0\n",
      "    2388:\t08000001 \tstxrb\tw0, w1, [x0]\n",
      "    238c:\t00000000 \tudf\t#0\n",
      "    2390:\t00000015 \tudf\t#21\n",
      "    2394:\t00000000 \tudf\t#0\n",
      "    2398:\t00000000 \tudf\t#0\n",
      "    239c:\t00000000 \tudf\t#0\n",
      "    23a0:\t00000017 \tudf\t#23\n",
      "    23a4:\t00000000 \tudf\t#0\n",
      "    23a8:\t000002d0 \tudf\t#720\n",
      "    23ac:\t00000000 \tudf\t#0\n",
      "    23b0:\t00000002 \tudf\t#2\n",
      "    23b4:\t00000000 \tudf\t#0\n",
      "    23b8:\t00000018 \tudf\t#24\n",
      "    23bc:\t00000000 \tudf\t#0\n",
      "    23c0:\t00000003 \tudf\t#3\n",
      "    23c4:\t00000000 \tudf\t#0\n",
      "    23c8:\t00002470 \tudf\t#9328\n",
      "    23cc:\t00000000 \tudf\t#0\n",
      "    23d0:\t00000014 \tudf\t#20\n",
      "    23d4:\t00000000 \tudf\t#0\n",
      "    23d8:\t00000007 \tudf\t#7\n",
      "    23dc:\t00000000 \tudf\t#0\n",
      "    23e0:\t00000006 \tudf\t#6\n",
      "    23e4:\t00000000 \tudf\t#0\n",
      "    23e8:\t00000218 \tudf\t#536\n",
      "    23ec:\t00000000 \tudf\t#0\n",
      "    23f0:\t0000000b \tudf\t#11\n",
      "    23f4:\t00000000 \tudf\t#0\n",
      "    23f8:\t00000018 \tudf\t#24\n",
      "    23fc:\t00000000 \tudf\t#0\n",
      "    2400:\t00000005 \tudf\t#5\n",
      "    2404:\t00000000 \tudf\t#0\n",
      "    2408:\t0000028c \tudf\t#652\n",
      "    240c:\t00000000 \tudf\t#0\n",
      "    2410:\t0000000a \tudf\t#10\n",
      "    2414:\t00000000 \tudf\t#0\n",
      "    2418:\t00000040 \tudf\t#64\n",
      "    241c:\t00000000 \tudf\t#0\n",
      "    2420:\t6ffffef5 \t.inst\t0x6ffffef5 ; undefined\n",
      "    2424:\t00000000 \tudf\t#0\n",
      "    2428:\t00000270 \tudf\t#624\n",
      "    242c:\t00000000 \tudf\t#0\n",
      "    2430:\t6ffffff0 \t.inst\t0x6ffffff0 ; undefined\n",
      "    2434:\t00000000 \tudf\t#0\n",
      "    2438:\t00000248 \tudf\t#584\n",
      "    243c:\t00000000 \tudf\t#0\n",
      "    2440:\t6ffffffe \t.inst\t0x6ffffffe ; undefined\n",
      "    2444:\t00000000 \tudf\t#0\n",
      "    2448:\t0000024c \tudf\t#588\n",
      "    244c:\t00000000 \tudf\t#0\n",
      "    2450:\t6fffffff \t.inst\t0x6fffffff ; undefined\n",
      "    2454:\t00000000 \tudf\t#0\n",
      "    2458:\t00000001 \tudf\t#1\n",
      "    245c:\t00000000 \tudf\t#0\n",
      "    2460:\t00000000 \tudf\t#0\n",
      "    2464:\t00000000 \tudf\t#0\n",
      "    2468:\t00000000 \tudf\t#0\n",
      "    246c:\t00000000 \tudf\t#0\n",
      "\n",
      "Disassembly of section .got.plt:\n",
      "\n",
      "0000000000002470 <.got.plt>:\n",
      "    2470:\t00000000 \tudf\t#0\n",
      "    2474:\t00000000 \tudf\t#0\n",
      "    2478:\t00000000 \tudf\t#0\n",
      "    247c:\t00000000 \tudf\t#0\n",
      "    2480:\t00000000 \tudf\t#0\n",
      "    2484:\t00000000 \tudf\t#0\n",
      "    2488:\t00001310 \tudf\t#4880\n",
      "    248c:\t00000000 \tudf\t#0\n"
     ]
    }
   ],
   "source": [
    "!objdump -Dz a.out"
   ]
  },
  {
   "cell_type": "code",
   "execution_count": null,
   "id": "4b7be6b9-ed05-4d6f-af50-150ea66aa7bd",
   "metadata": {},
   "outputs": [],
   "source": []
  },
  {
   "cell_type": "markdown",
   "id": "d8b65e5e-63b8-453d-b15c-911c78d8067f",
   "metadata": {},
   "source": [
    "---"
   ]
  },
  {
   "cell_type": "code",
   "execution_count": 551,
   "id": "d3937fcd-1cbc-4b30-8792-69fe2a4e733f",
   "metadata": {},
   "outputs": [
    {
     "name": "stdout",
     "output_type": "stream",
     "text": [
      "Overwriting tiny5.c\n"
     ]
    }
   ],
   "source": [
    "%%writefile tiny5.c\n",
    "#include <stdio.h>\n",
    "\n",
    "void _start(void) {\n",
    "    char *s=\"Hello World!\\n\";\n",
    "    write(1,s,strlen(s));\n",
    "}"
   ]
  },
  {
   "cell_type": "code",
   "execution_count": 552,
   "id": "190a6028-c158-4fcd-8925-9367d5472732",
   "metadata": {},
   "outputs": [
    {
     "name": "stderr",
     "output_type": "stream",
     "text": [
      "tiny5.c:5:5: warning: call to undeclared function 'write'; ISO C99 and later do not support implicit function declarations [-Wimplicit-function-declaration]\n",
      "    write(1,s,strlen(s));\n",
      "    ^\n",
      "1 warning generated.\n"
     ]
    }
   ],
   "source": [
    "%%bash\n",
    "clang tiny5.c \\\n",
    "-Oz -s -nostartfiles \\\n",
    "-fno-ident -fno-asynchronous-unwind-tables  \\\n",
    "-ffunction-sections -fdata-sections -Wl,--gc-sections,--strip-all"
   ]
  },
  {
   "cell_type": "code",
   "execution_count": 533,
   "id": "526c9361-e867-4b8f-aaec-7d4d194054da",
   "metadata": {},
   "outputs": [
    {
     "name": "stdout",
     "output_type": "stream",
     "text": [
      "copy from `a.out' [elf64-littleaarch64] to `stdVAkuP' [elf64-littleaarch64]\n"
     ]
    }
   ],
   "source": [
    "!strip --strip-all --verbose -R .comment a.out"
   ]
  },
  {
   "cell_type": "code",
   "execution_count": 534,
   "id": "7307c7ba-17ea-455c-a953-90f54b8b0f72",
   "metadata": {},
   "outputs": [
    {
     "name": "stdout",
     "output_type": "stream",
     "text": [
      "Hello World!\n"
     ]
    }
   ],
   "source": [
    "!./a.out"
   ]
  },
  {
   "cell_type": "code",
   "execution_count": 535,
   "id": "8cb23107-539c-4d98-a384-1f379e1914c3",
   "metadata": {},
   "outputs": [
    {
     "name": "stdout",
     "output_type": "stream",
     "text": [
      "-rwx------ 1 u0_a113 u0_a113 2.2K Jan 27 22:59 \u001b[0m\u001b[01;32ma.out\u001b[0m\n"
     ]
    }
   ],
   "source": [
    "!ls -lh a.out"
   ]
  },
  {
   "cell_type": "code",
   "execution_count": null,
   "id": "6b2d7c59-1d3a-4480-8c9c-fac5e1374a93",
   "metadata": {},
   "outputs": [],
   "source": []
  },
  {
   "cell_type": "code",
   "execution_count": null,
   "id": "5280b957-4252-4417-ac88-836025ccdfd9",
   "metadata": {},
   "outputs": [],
   "source": []
  },
  {
   "cell_type": "code",
   "execution_count": 538,
   "id": "8d24c53d-2431-426b-9595-23b6533e5039",
   "metadata": {},
   "outputs": [
    {
     "name": "stdout",
     "output_type": "stream",
     "text": [
      "Writing hello.s\n"
     ]
    }
   ],
   "source": [
    "%%writefile hello.s\n",
    "    .data\n",
    "\n",
    "/* Data segment: define our message string and calculate its length. */\n",
    "helloworld:\n",
    "    .ascii        \"Hello, World!\\n\"\n",
    "helloworld_len = . - helloworld\n",
    "\n",
    "    .text\n",
    "\n",
    "/* Our application's entry point. */\n",
    ".globl _start\n",
    "_start:\n",
    "    /* syscall write(int fd, const void *buf, size_t count) */\n",
    "    mov     x0, #1              /* fd := STDOUT_FILENO */\n",
    "    ldr     x1, =helloworld     /* buf := msg */\n",
    "    ldr     x2, =helloworld_len /* count := len */\n",
    "    mov     w8, #64             /* write is syscall #64 */\n",
    "    svc     #0                  /* invoke syscall */\n",
    "\n",
    "    /* syscall exit(int status) */\n",
    "    mov     x0, #0               /* status := 0 */\n",
    "    mov     w8, #93              /* exit is syscall #1 */\n",
    "    svc     #0                   /* invoke syscall */"
   ]
  },
  {
   "cell_type": "code",
   "execution_count": 540,
   "id": "621e5c95-142c-4148-b9e4-3bcc3e6fe1f2",
   "metadata": {},
   "outputs": [],
   "source": [
    "!as hello.s -o hello.o"
   ]
  },
  {
   "cell_type": "code",
   "execution_count": 541,
   "id": "c9ac80e8-e816-4dd9-a053-38d048346657",
   "metadata": {},
   "outputs": [],
   "source": [
    "!ld --strip-all --gc-sections -static hello.o"
   ]
  },
  {
   "cell_type": "code",
   "execution_count": 542,
   "id": "a4ff7a94-0169-48a2-8362-94eaae4ca536",
   "metadata": {},
   "outputs": [
    {
     "name": "stdout",
     "output_type": "stream",
     "text": [
      "Hello, World!\n"
     ]
    }
   ],
   "source": [
    "!./a.out"
   ]
  },
  {
   "cell_type": "code",
   "execution_count": 543,
   "id": "2f8367d3-e62c-47aa-9838-df1519ebd473",
   "metadata": {},
   "outputs": [
    {
     "name": "stdout",
     "output_type": "stream",
     "text": [
      "-rwx------ 1 u0_a113 u0_a113 520 Jan 27 23:04 \u001b[0m\u001b[01;32ma.out\u001b[0m\n"
     ]
    }
   ],
   "source": [
    "!ls -lh a.out"
   ]
  },
  {
   "cell_type": "code",
   "execution_count": 544,
   "id": "d047b2fb-f81c-4da1-898f-ffaced5fcaee",
   "metadata": {},
   "outputs": [
    {
     "name": "stdout",
     "output_type": "stream",
     "text": [
      "\n",
      "a.out:     file format elf64-littleaarch64\n",
      "\n",
      "Sections:\n",
      "Idx Name          Size      VMA               LMA               File off  Algn\n",
      "  0 .text         00000030  00000000004000b0  00000000004000b0  000000b0  2**3\n",
      "                  CONTENTS, ALLOC, LOAD, READONLY, CODE\n",
      "  1 .data         0000000e  00000000004100e0  00000000004100e0  000000e0  2**0\n",
      "                  CONTENTS, ALLOC, LOAD, DATA\n"
     ]
    }
   ],
   "source": [
    "!objdump -h a.out"
   ]
  },
  {
   "cell_type": "code",
   "execution_count": 547,
   "id": "a9de28d0-0a36-486f-81e7-7f4d473b30df",
   "metadata": {},
   "outputs": [
    {
     "name": "stdout",
     "output_type": "stream",
     "text": [
      "\n",
      "a.out:     file format elf64-littleaarch64\n",
      "\n",
      "Contents of section .text:\n",
      " 4000b0 200080d2 e1000058 02010058 08088052   ......X...X...R\n",
      " 4000c0 010000d4 000080d2 a80b8052 010000d4  ...........R....\n",
      " 4000d0 e0004100 00000000 0e000000 00000000  ..A.............\n",
      "Contents of section .data:\n",
      " 4100e0 48656c6c 6f2c2057 6f726c64 210a      Hello, World!.  \n"
     ]
    }
   ],
   "source": [
    "!objdump -s a.out"
   ]
  },
  {
   "cell_type": "code",
   "execution_count": 549,
   "id": "54a54410-5e18-443f-a381-9f0c172c390b",
   "metadata": {},
   "outputs": [
    {
     "name": "stdout",
     "output_type": "stream",
     "text": [
      "\n",
      "a.out:     file format elf64-littleaarch64\n",
      "\n",
      "\n",
      "Disassembly of section .text:\n",
      "\n",
      "00000000004000b0 <.text>:\n",
      "  4000b0:\td2800020 \tmov\tx0, #0x1                   \t// #1\n",
      "  4000b4:\t580000e1 \tldr\tx1, 0x4000d0\n",
      "  4000b8:\t58000102 \tldr\tx2, 0x4000d8\n",
      "  4000bc:\t52800808 \tmov\tw8, #0x40                  \t// #64\n",
      "  4000c0:\td4000001 \tsvc\t#0x0\n",
      "  4000c4:\td2800000 \tmov\tx0, #0x0                   \t// #0\n",
      "  4000c8:\t52800ba8 \tmov\tw8, #0x5d                  \t// #93\n",
      "  4000cc:\td4000001 \tsvc\t#0x0\n",
      "  4000d0:\t004100e0 \t.inst\t0x004100e0 ; undefined\n",
      "  4000d4:\t00000000 \tudf\t#0\n",
      "  4000d8:\t0000000e \tudf\t#14\n",
      "  4000dc:\t00000000 \tudf\t#0\n"
     ]
    }
   ],
   "source": [
    "!objdump -D -j .text a.out"
   ]
  },
  {
   "cell_type": "code",
   "execution_count": 550,
   "id": "c3d30820-3bec-4d3d-b83b-503662e9c7f1",
   "metadata": {},
   "outputs": [
    {
     "name": "stdout",
     "output_type": "stream",
     "text": [
      "00000000  7f 45 4c 46 02 01 01 00  00 00 00 00 00 00 00 00  |.ELF............|\n",
      "00000010  02 00 b7 00 01 00 00 00  b0 00 40 00 00 00 00 00  |..........@.....|\n",
      "00000020  40 00 00 00 00 00 00 00  08 01 00 00 00 00 00 00  |@...............|\n",
      "00000030  00 00 00 00 40 00 38 00  02 00 40 00 04 00 03 00  |....@.8...@.....|\n",
      "00000040  01 00 00 00 05 00 00 00  00 00 00 00 00 00 00 00  |................|\n",
      "00000050  00 00 40 00 00 00 00 00  00 00 40 00 00 00 00 00  |..@.......@.....|\n",
      "00000060  e0 00 00 00 00 00 00 00  e0 00 00 00 00 00 00 00  |................|\n",
      "00000070  00 00 01 00 00 00 00 00  01 00 00 00 06 00 00 00  |................|\n",
      "00000080  e0 00 00 00 00 00 00 00  e0 00 41 00 00 00 00 00  |..........A.....|\n",
      "00000090  e0 00 41 00 00 00 00 00  0e 00 00 00 00 00 00 00  |..A.............|\n",
      "000000a0  0e 00 00 00 00 00 00 00  00 00 01 00 00 00 00 00  |................|\n",
      "000000b0  20 00 80 d2 e1 00 00 58  02 01 00 58 08 08 80 52  | ......X...X...R|\n",
      "000000c0  01 00 00 d4 00 00 80 d2  a8 0b 80 52 01 00 00 d4  |...........R....|\n",
      "000000d0  e0 00 41 00 00 00 00 00  0e 00 00 00 00 00 00 00  |..A.............|\n",
      "000000e0  48 65 6c 6c 6f 2c 20 57  6f 72 6c 64 21 0a 00 2e  |Hello, World!...|\n",
      "000000f0  73 68 73 74 72 74 61 62  00 2e 74 65 78 74 00 2e  |shstrtab..text..|\n",
      "00000100  64 61 74 61 00 00 00 00  00 00 00 00 00 00 00 00  |data............|\n",
      "00000110  00 00 00 00 00 00 00 00  00 00 00 00 00 00 00 00  |................|\n",
      "*\n",
      "00000140  00 00 00 00 00 00 00 00  0b 00 00 00 01 00 00 00  |................|\n",
      "00000150  06 00 00 00 00 00 00 00  b0 00 40 00 00 00 00 00  |..........@.....|\n",
      "00000160  b0 00 00 00 00 00 00 00  30 00 00 00 00 00 00 00  |........0.......|\n",
      "00000170  00 00 00 00 00 00 00 00  08 00 00 00 00 00 00 00  |................|\n",
      "00000180  00 00 00 00 00 00 00 00  11 00 00 00 01 00 00 00  |................|\n",
      "00000190  03 00 00 00 00 00 00 00  e0 00 41 00 00 00 00 00  |..........A.....|\n",
      "000001a0  e0 00 00 00 00 00 00 00  0e 00 00 00 00 00 00 00  |................|\n",
      "000001b0  00 00 00 00 00 00 00 00  01 00 00 00 00 00 00 00  |................|\n",
      "000001c0  00 00 00 00 00 00 00 00  01 00 00 00 03 00 00 00  |................|\n",
      "000001d0  00 00 00 00 00 00 00 00  00 00 00 00 00 00 00 00  |................|\n",
      "000001e0  ee 00 00 00 00 00 00 00  17 00 00 00 00 00 00 00  |................|\n",
      "000001f0  00 00 00 00 00 00 00 00  01 00 00 00 00 00 00 00  |................|\n",
      "00000200  00 00 00 00 00 00 00 00                           |........|\n",
      "00000208\n"
     ]
    }
   ],
   "source": [
    "!hexdump -C a.out"
   ]
  },
  {
   "cell_type": "code",
   "execution_count": null,
   "id": "a2d0b7a4-1079-4b68-92a8-b6fab616a1d0",
   "metadata": {},
   "outputs": [],
   "source": []
  }
 ],
 "metadata": {
  "kernelspec": {
   "display_name": "Python 3 (ipykernel)",
   "language": "python",
   "name": "python3"
  },
  "language_info": {
   "codemirror_mode": {
    "name": "ipython",
    "version": 3
   },
   "file_extension": ".py",
   "mimetype": "text/x-python",
   "name": "python",
   "nbconvert_exporter": "python",
   "pygments_lexer": "ipython3",
   "version": "3.12.5"
  }
 },
 "nbformat": 4,
 "nbformat_minor": 5
}
