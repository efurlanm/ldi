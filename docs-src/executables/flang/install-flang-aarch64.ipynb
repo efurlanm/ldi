{
 "cells": [
  {
   "cell_type": "markdown",
   "id": "fa6d2675-8501-42c2-b0d3-32081c92b25a",
   "metadata": {},
   "source": [
    "# Install Flang on aarch64"
   ]
  },
  {
   "cell_type": "code",
   "execution_count": 1,
   "id": "6690a0b4-c7e7-4955-ae21-cdc8a98b9924",
   "metadata": {},
   "outputs": [
    {
     "name": "stdout",
     "output_type": "stream",
     "text": [
      "User Current Version:- 3.11.1 (main, Jan 16 2023, 08:53:45) [Clang 14.0.6 (https://android.googlesource.com/toolchain/llvm-project 4c603efb0\n"
     ]
    }
   ],
   "source": [
    "import sys\n",
    "print(\"User Current Version:-\", sys.version)"
   ]
  },
  {
   "cell_type": "code",
   "execution_count": 2,
   "id": "a6a8d0fa-8580-4249-805f-251ed12f1e9b",
   "metadata": {},
   "outputs": [
    {
     "name": "stdout",
     "output_type": "stream",
     "text": [
      "No mirror or mirror group selected. You might want to select one by running 'termux-change-repo'\n",
      "Checking availability of current mirror:\n",
      "[*] https://mirrors.bfsu.edu.cn/termux/apt/termux-main: bad\n",
      "Testing the available mirrors:\n",
      "[*] (10) https://packages-cf.termux.dev/apt/termux-main: ok\n",
      "[*] (1) https://mirrors.cbrx.io/apt/termux/termux-main: ok\n",
      "[*] (1) https://packages.nscdn.top/termux-main: bad\n",
      "[*] (1) https://linux.domainesia.com/applications/termux/termux-main: ok\n",
      "[*] (1) https://mirror.nevacloud.com/applications/termux/termux-main: ok\n",
      "[*] (1) https://mirror.bardia.tech/termux/termux-main: ok\n",
      "[*] (1) https://mirror.textcord.xyz/termux/termux-main: bad\n",
      "[*] (1) https://mirror.albony.xyz/termux/termux-main: ok\n",
      "[*] (1) https://mirror.iscas.ac.cn/termux/apt/termux-main: ok\n",
      "[*] (1) https://mirrors.hit.edu.cn/termux/apt/termux-main: ok\n",
      "[*] (1) https://mirrors.ustc.edu.cn/termux/apt/termux-main: ok\n",
      "[*] (1) https://mirrors.nju.edu.cn/termux/apt/termux-main: bad\n",
      "[*] (1) https://mirrors.scau.edu.cn/termux/apt/termux-main: bad\n",
      "[*] (1) https://mirrors.tuna.tsinghua.edu.cn/termux/apt/termux-main: ok\n",
      "[*] (1) https://mirrors.pku.edu.cn/termux/termux-main/: ok\n",
      "[*] (1) https://mirrors.sau.edu.cn/termux/apt/termux-main: ok\n",
      "[*] (1) https://mirrors.bfsu.edu.cn/termux/apt/termux-main: bad\n",
      "[*] (1) https://mirrors.aliyun.com/termux/termux-main: ok\n",
      "[*] (1) https://mirrors.njupt.edu.cn/termux/apt/termux-main: bad\n",
      "[*] (1) https://mirrors.dgut.edu.cn/termux/apt/termux-main: bad\n",
      "[*] (1) https://mirrors.sdu.edu.cn/termux/termux-main: ok\n",
      "[*] (1) https://mirror.nyist.edu.cn/termux/apt/termux-main: ok\n",
      "[*] (1) https://mirrors.cqupt.edu.cn/termux/apt/termux-main: bad\n",
      "[*] (1) https://mirrors.sustech.edu.cn/termux/apt/termux-main: ok\n",
      "[*] (1) https://termux.astra.in.ua/apt/termux-main: ok\n",
      "[*] (1) https://packages.termux.dev/apt/termux-main: ok\n",
      "[*] (1) https://mirror.termux.dev/termux-main: ok\n",
      "[*] (4) https://grimler.se/termux/termux-main: ok\n",
      "[*] (1) https://termux.3san.dev/termux/termux-main: ok\n",
      "[*] (1) https://termux.cdn.lumito.net/termux-main: ok\n",
      "[*] (1) https://mirrors.sahilister.in/termux/termux-main: ok\n",
      "[*] (1) https://termux.librehat.com/apt/termux-main: ok\n",
      "[*] (1) https://termux.mentality.rip/termux-main: ok\n",
      "[*] (1) https://mirror.accum.se/mirror/termux.dev/termux-main: ok\n",
      "[*] (1) https://mirror.mwt.me/termux/main: ok\n",
      "[*] (1) https://dl.kcubeterm.com/termux-main: ok\n",
      "[*] (1) https://plug-mirror.rcac.purdue.edu/termux/termux-main: ok\n",
      "[*] (1) https://mirrors.utermux.dev/termux/termux-main: ok\n",
      "[*] (1) https://mirror.csclub.uwaterloo.ca/termux/termux-main: ok\n",
      "[*] (1) https://mirror.fcix.net/termux/termux-main: ok\n",
      "[*] (1) https://mirror.vern.cc/termux/termux-main: ok\n",
      "[*] (1) https://mirror.mwt.me/termux/main: ok\n",
      "[*] (1) https://mirror.surf/termux/termux-main/: ok\n",
      "[*] (1) http://mirror.mephi.ru/termux/termux-main: ok\n",
      "Picking mirror: (29) /data/data/com.termux/files/usr/etc/termux/mirrors/europe/grimler.se\n",
      "Get:1 https://grimler.se/termux/termux-main stable InRelease [14.0 kB]\n",
      "Get:2 https://grimler.se/termux/termux-main stable/main aarch64 Packages [485 kB]\n",
      "Fetched 499 kB in 4s (112 kB/s)   \u001b[0mm\u001b[33m\u001b[33m\u001b[33m\n",
      "Reading package lists... Done\n",
      "Building dependency tree... Done\n",
      "Reading state information... Done\n",
      "2 packages can be upgraded. Run 'apt list --upgradable' to see them.\n",
      "Sorting... Done\n",
      "Full Text Search... Done\n"
     ]
    }
   ],
   "source": [
    "!pkg search gfortran"
   ]
  },
  {
   "cell_type": "code",
   "execution_count": 1,
   "id": "07698746-0fcf-42df-9e0f-a5cefa7b097e",
   "metadata": {},
   "outputs": [
    {
     "name": "stdout",
     "output_type": "stream",
     "text": [
      "  % Total    % Received % Xferd  Average Speed   Time    Time     Time  Current\n",
      "                                 Dload  Upload   Total   Spent    Left  Speed\n",
      "100  1116  100  1116    0     0    536      0  0:00:02  0:00:02 --:--:--   539\n"
     ]
    }
   ],
   "source": [
    "!curl -LO https://its-pointless.github.io/setup-pointless-repo.sh"
   ]
  },
  {
   "cell_type": "code",
   "execution_count": 2,
   "id": "1ea42527-6274-4114-b0eb-942c18c5e292",
   "metadata": {},
   "outputs": [
    {
     "name": "stdout",
     "output_type": "stream",
     "text": [
      "Hit:1 https://grimler.se/termux/termux-main stable InRelease\n",
      "Reading package lists... Done\n",
      "Reading package lists... Done\n",
      "Building dependency tree... Done\n",
      "Reading state information... Done\n",
      "Calculating upgrade... Done\n",
      "The following packages will be upgraded:\n",
      "  command-not-found gpgv\n",
      "2 upgraded, 0 newly installed, 0 to remove and 0 not upgraded.\n",
      "Need to get 391 kB of archives.\n",
      "After this operation, 0 B of additional disk space will be used.\n",
      "Get:1 https://grimler.se/termux/termux-main stable/main aarch64 gpgv aarch64 2.4.0-2 [175 kB]\n",
      "Get:2 https://grimler.se/termux/termux-main stable/main aarch64 command-not-found aarch64 2.1.0-7 [217 kB]\n",
      "Fetched 391 kB in 3s (150 kB/s)        \n",
      "(Reading database ... 16324 files and directories currently installed.)\n",
      "Preparing to unpack .../gpgv_2.4.0-2_aarch64.deb ...\n",
      "Unpacking gpgv (2.4.0-2) over (2.4.0-1) ...\n",
      "Setting up gpgv (2.4.0-2) ...\n",
      "(Reading database ... 16324 files and directories currently installed.)\n",
      "Preparing to unpack .../command-not-found_2.1.0-7_aarch64.deb ...\n",
      "Unpacking command-not-found (2.1.0-7) over (2.1.0-6) ...\n",
      "Setting up command-not-found (2.1.0-7) ...\n",
      "Reading package lists... Done\n",
      "Building dependency tree... Done\n",
      "Reading state information... Done\n",
      "coreutils is already the newest version (9.1-2).\n",
      "The following additional packages will be installed:\n",
      "  libksba pinentry\n",
      "Suggested packages:\n",
      "  scdaemon\n",
      "The following NEW packages will be installed:\n",
      "  gnupg libksba pinentry\n",
      "0 upgraded, 3 newly installed, 0 to remove and 0 not upgraded.\n",
      "Need to get 1472 kB of archives.\n",
      "After this operation, 6111 kB of additional disk space will be used.\n",
      "Get:1 https://grimler.se/termux/termux-main stable/main aarch64 libksba aarch64 1.6.3 [103 kB]\n",
      "Get:2 https://grimler.se/termux/termux-main stable/main aarch64 pinentry aarch64 1.2.1-1 [44.9 kB]\n",
      "Get:3 https://grimler.se/termux/termux-main stable/main aarch64 gnupg aarch64 2.4.0-2 [1323 kB]\n",
      "Fetched 1472 kB in 4s (359 kB/s)\n",
      "Selecting previously unselected package libksba.\n",
      "(Reading database ... 16324 files and directories currently installed.)\n",
      "Preparing to unpack .../libksba_1.6.3_aarch64.deb ...\n",
      "Unpacking libksba (1.6.3) ...\n",
      "Selecting previously unselected package pinentry.\n",
      "Preparing to unpack .../pinentry_1.2.1-1_aarch64.deb ...\n",
      "Unpacking pinentry (1.2.1-1) ...\n",
      "Selecting previously unselected package gnupg.\n",
      "Preparing to unpack .../gnupg_2.4.0-2_aarch64.deb ...\n",
      "Unpacking gnupg (2.4.0-2) ...\n",
      "Setting up libksba (1.6.3) ...\n",
      "Setting up pinentry (1.2.1-1) ...\n",
      "Setting up gnupg (2.4.0-2) ...\n",
      "Get:1 https://its-pointless.github.io/files/21 termux InRelease [8982 B]\n",
      "Hit:2 https://grimler.se/termux/termux-main stable InRelease                  \u001b[0m\u001b[33m\n",
      "Get:3 https://its-pointless.github.io/files/21 termux/extras all Packages [1572 B]\n",
      "Get:4 https://its-pointless.github.io/files/21 termux/extras aarch64 Packages [36.2 kB]\n",
      "Fetched 46.8 kB in 3s (16.3 kB/s)m\u001b[33m\u001b[33m\u001b[33m\n",
      "Reading package lists... Done\n",
      "Building dependency tree... Done\n",
      "Reading state information... Done\n",
      "All packages are up to date.\n"
     ]
    }
   ],
   "source": [
    "!bash setup-pointless-repo.sh"
   ]
  },
  {
   "cell_type": "code",
   "execution_count": 4,
   "id": "95162c7e-4b5f-4e5c-8ca3-ea66f81f7c12",
   "metadata": {},
   "outputs": [
    {
     "name": "stdout",
     "output_type": "stream",
     "text": [
      "No mirror or mirror group selected. You might want to select one by running 'termux-change-repo'\n",
      "Checking availability of current mirror:\n",
      "[*] https://grimler.se/termux/termux-main: ok\n",
      "Hit:1 https://its-pointless.github.io/files/21 termux InRelease     \u001b[0m\n",
      "Hit:2 https://grimler.se/termux/termux-main stable InRelease        \u001b[33m\u001b[33m\u001b[33m\n",
      "Reading package lists... Done\u001b[33m\u001b[33m\n",
      "Building dependency tree... Done\n",
      "Reading state information... Done\n",
      "All packages are up to date.\n",
      "Reading package lists... Done\n",
      "Building dependency tree... Done\n",
      "Reading state information... Done\n",
      "Calculating upgrade... Done\n",
      "0 upgraded, 0 newly installed, 0 to remove and 0 not upgraded.\n"
     ]
    }
   ],
   "source": [
    "!pkg upgrade"
   ]
  },
  {
   "cell_type": "code",
   "execution_count": 5,
   "id": "bef2385a-d5e1-4e14-80fd-14c3fa90a94d",
   "metadata": {},
   "outputs": [
    {
     "name": "stdout",
     "output_type": "stream",
     "text": [
      "No mirror or mirror group selected. You might want to select one by running 'termux-change-repo'\n",
      "Checking availability of current mirror:\n",
      "[*] https://grimler.se/termux/termux-main: ok\n",
      "Sorting... Done\n",
      "Full Text Search... Done\n",
      "\u001b[32mlibgfortran3\u001b[0m/termux 6.5.0-2 aarch64\n",
      "  dynamic library for fortran\n",
      "\n",
      "\u001b[32mlibgfortran4\u001b[0m/termux 7.4.0-2 aarch64\n",
      "  dynamic library for fortran\n",
      "\n",
      "\u001b[32mlibgfortran5\u001b[0m/termux 8.3.0-3 aarch64\n",
      "  dynamic library for fortran\n",
      "\n"
     ]
    }
   ],
   "source": [
    "!pkg search gfortran"
   ]
  },
  {
   "cell_type": "code",
   "execution_count": 7,
   "id": "9e99212f-3d8c-4d8c-a183-819311606a41",
   "metadata": {},
   "outputs": [
    {
     "name": "stdout",
     "output_type": "stream",
     "text": [
      "No mirror or mirror group selected. You might want to select one by running 'termux-change-repo'\n",
      "Checking availability of current mirror:\n",
      "[*] https://grimler.se/termux/termux-main: ok\n",
      "Reading package lists... Done\n",
      "Building dependency tree... Done\n",
      "Reading state information... Done\n",
      "The following NEW packages will be installed:\n",
      "  libgfortran5\n",
      "0 upgraded, 1 newly installed, 0 to remove and 0 not upgraded.\n",
      "Need to get 219 kB of archives.\n",
      "After this operation, 1118 kB of additional disk space will be used.\n",
      "Get:1 https://its-pointless.github.io/files/21 termux/extras aarch64 libgfortran5 aarch64 8.3.0-3 [219 kB]\n",
      "Fetched 219 kB in 0s (497 kB/s)  \u001b[0m\u001b[33m\n",
      "\n",
      "\u001b7\u001b[0;23r\u001b8\u001b[1ASelecting previously unselected package libgfortran5.\n",
      "(Reading database ... 16421 files and directories currently installed.)\n",
      "Preparing to unpack .../libgfortran5_8.3.0-3_aarch64.deb ...\n",
      "\u001b7\u001b[24;0f\u001b[42m\u001b[30mProgress: [  0%]\u001b[49m\u001b[39m [..........................................................] \u001b8\u001b7\u001b[24;0f\u001b[42m\u001b[30mProgress: [ 20%]\u001b[49m\u001b[39m [###########...............................................] \u001b8Unpacking libgfortran5 (8.3.0-3) ...\n",
      "\u001b7\u001b[24;0f\u001b[42m\u001b[30mProgress: [ 40%]\u001b[49m\u001b[39m [#######################...................................] \u001b8Setting up libgfortran5 (8.3.0-3) ...\n",
      "\u001b7\u001b[24;0f\u001b[42m\u001b[30mProgress: [ 60%]\u001b[49m\u001b[39m [##################################........................] \u001b8\u001b7\u001b[24;0f\u001b[42m\u001b[30mProgress: [ 80%]\u001b[49m\u001b[39m [##############################################............] \u001b8\n",
      "\u001b7\u001b[0;24r\u001b8\u001b[1A\u001b[J"
     ]
    }
   ],
   "source": [
    "!pkg install libgfortran5"
   ]
  },
  {
   "cell_type": "code",
   "execution_count": 10,
   "id": "3b860f0f-9386-4a15-a02c-73d686ea8f61",
   "metadata": {},
   "outputs": [
    {
     "name": "stdout",
     "output_type": "stream",
     "text": [
      "No mirror or mirror group selected. You might want to select one by running 'termux-change-repo'\n",
      "Checking availability of current mirror:\n",
      "[*] https://grimler.se/termux/termux-main: ok\n",
      "Sorting... Done\n",
      "Full Text Search... Done\n",
      "\u001b[32mgcc-6\u001b[0m/termux 6.5.0-2 aarch64\n",
      "  GNU C compiler\n",
      "\n",
      "\u001b[32mgcc-7\u001b[0m/termux 7.4.0-2 aarch64\n",
      "  GNU C compiler\n",
      "\n",
      "\u001b[32mgcc-8\u001b[0m/termux 8.3.0-3 aarch64\n",
      "  GNU C compiler\n",
      "\n",
      "\u001b[32mlibgccjit-8-dev\u001b[0m/termux 8.3.0-3 aarch64\n",
      "  GCC just-in-time compilation\n",
      "\n",
      "\u001b[32mlibgomp-7\u001b[0m/termux 7.4.0-2 aarch64\n",
      "  openmp library for gcc\n",
      "\n",
      "\u001b[32mlibgomp-8\u001b[0m/termux 8.3.0-3 aarch64\n",
      "  openmp library for gcc-8\n",
      "\n",
      "\u001b[32mmingw-w64-gcc-libs\u001b[0m/stable 12.2.0 all\n",
      "  Libraries coming with GCC (libgcc, libstdc++, etc.)\n",
      "\n"
     ]
    }
   ],
   "source": [
    "!pkg search gcc"
   ]
  },
  {
   "cell_type": "code",
   "execution_count": 12,
   "id": "97c5e80e-9ac0-49d1-8b4a-47ce9b4a2537",
   "metadata": {},
   "outputs": [
    {
     "name": "stdout",
     "output_type": "stream",
     "text": [
      "No mirror or mirror group selected. You might want to select one by running 'termux-change-repo'\n",
      "Checking availability of current mirror:\n",
      "[*] https://grimler.se/termux/termux-main: ok\n",
      "Reading package lists... Done\n",
      "Building dependency tree... Done\n",
      "Reading state information... Done\n",
      "The following additional packages will be installed:\n",
      "  binutils binutils-bin binutils-libs libisl libmpc setup-scripts\n",
      "The following NEW packages will be installed:\n",
      "  binutils binutils-bin binutils-libs gcc-8 libisl libmpc setup-scripts\n",
      "0 upgraded, 7 newly installed, 0 to remove and 0 not upgraded.\n",
      "Need to get 26.7 MB of archives.\n",
      "After this operation, 113 MB of additional disk space will be used.\n",
      "Get:1 https://its-pointless.github.io/files/21 termux/extras all setup-scripts all 2.6.6 [3184 B]\n",
      "Get:2 https://grimler.se/termux/termux-main stable/main aarch64 binutils-libs aarch64 2.40 [1039 kB]\n",
      "Get:3 https://its-pointless.github.io/files/21 termux/extras aarch64 gcc-8 aarch64 8.3.0-3 [23.3 MB]\n",
      "Get:4 https://grimler.se/termux/termux-main stable/main aarch64 binutils-bin aarch64 2.40 [1686 kB]\n",
      "Get:5 https://grimler.se/termux/termux-main stable/main aarch64 binutils aarch64 2.40 [1160 B]\n",
      "Get:6 https://grimler.se/termux/termux-main stable/main aarch64 libmpc aarch64 1.3.1 [67.2 kB]\n",
      "Get:7 https://grimler.se/termux/termux-main stable/main aarch64 libisl aarch64 0.25 [647 kB]\n",
      "Fetched 26.7 MB in 7s (3644 kB/s)                                              \u001b[0m\u001b[33m\u001b[33m\u001b[33m\n",
      "\n",
      "\u001b7\u001b[0;23r\u001b8\u001b[1ASelecting previously unselected package binutils-libs.\n",
      "(Reading database ... 16430 files and directories currently installed.)\n",
      "Preparing to unpack .../0-binutils-libs_2.40_aarch64.deb ...\n",
      "\u001b7\u001b[24;0f\u001b[42m\u001b[30mProgress: [  0%]\u001b[49m\u001b[39m [..........................................................] \u001b8\u001b7\u001b[24;0f\u001b[42m\u001b[30mProgress: [  3%]\u001b[49m\u001b[39m [##........................................................] \u001b8Unpacking binutils-libs (2.40) ...\n",
      "\u001b7\u001b[24;0f\u001b[42m\u001b[30mProgress: [  7%]\u001b[49m\u001b[39m [####......................................................] \u001b8Selecting previously unselected package binutils-bin.\n",
      "Preparing to unpack .../1-binutils-bin_2.40_aarch64.deb ...\n",
      "\u001b7\u001b[24;0f\u001b[42m\u001b[30mProgress: [ 10%]\u001b[49m\u001b[39m [######....................................................] \u001b8Unpacking binutils-bin (2.40) ...\n",
      "\u001b7\u001b[24;0f\u001b[42m\u001b[30mProgress: [ 14%]\u001b[49m\u001b[39m [########..................................................] \u001b8Selecting previously unselected package binutils.\n",
      "Preparing to unpack .../2-binutils_2.40_aarch64.deb ...\n",
      "\u001b7\u001b[24;0f\u001b[42m\u001b[30mProgress: [ 17%]\u001b[49m\u001b[39m [#########.................................................] \u001b8Unpacking binutils (2.40) ...\n",
      "\u001b7\u001b[24;0f\u001b[42m\u001b[30mProgress: [ 21%]\u001b[49m\u001b[39m [############..............................................] \u001b8Selecting previously unselected package libmpc.\n",
      "Preparing to unpack .../3-libmpc_1.3.1_aarch64.deb ...\n",
      "\u001b7\u001b[24;0f\u001b[42m\u001b[30mProgress: [ 24%]\u001b[49m\u001b[39m [##############............................................] \u001b8Unpacking libmpc (1.3.1) ...\n",
      "\u001b7\u001b[24;0f\u001b[42m\u001b[30mProgress: [ 28%]\u001b[49m\u001b[39m [################..........................................] \u001b8Selecting previously unselected package libisl.\n",
      "Preparing to unpack .../4-libisl_0.25_aarch64.deb ...\n",
      "\u001b7\u001b[24;0f\u001b[42m\u001b[30mProgress: [ 31%]\u001b[49m\u001b[39m [##################........................................] \u001b8Unpacking libisl (0.25) ...\n",
      "\u001b7\u001b[24;0f\u001b[42m\u001b[30mProgress: [ 34%]\u001b[49m\u001b[39m [###################.......................................] \u001b8Selecting previously unselected package setup-scripts.\n",
      "Preparing to unpack .../5-setup-scripts_2.6.6_all.deb ...\n",
      "\u001b7\u001b[24;0f\u001b[42m\u001b[30mProgress: [ 38%]\u001b[49m\u001b[39m [######################....................................] \u001b8Unpacking setup-scripts (2.6.6) ...\n",
      "\u001b7\u001b[24;0f\u001b[42m\u001b[30mProgress: [ 41%]\u001b[49m\u001b[39m [########################..................................] \u001b8Selecting previously unselected package gcc-8.\n",
      "Preparing to unpack .../6-gcc-8_8.3.0-3_aarch64.deb ...\n",
      "\u001b7\u001b[24;0f\u001b[42m\u001b[30mProgress: [ 45%]\u001b[49m\u001b[39m [##########################................................] \u001b8Unpacking gcc-8 (8.3.0-3) ...\n",
      "\u001b7\u001b[24;0f\u001b[42m\u001b[30mProgress: [ 48%]\u001b[49m\u001b[39m [############################..............................] \u001b8Setting up binutils-libs (2.40) ...\n",
      "\u001b7\u001b[24;0f\u001b[42m\u001b[30mProgress: [ 52%]\u001b[49m\u001b[39m [#############################.............................] \u001b8\u001b7\u001b[24;0f\u001b[42m\u001b[30mProgress: [ 55%]\u001b[49m\u001b[39m [################################..........................] \u001b8Setting up libisl (0.25) ...\n",
      "\u001b7\u001b[24;0f\u001b[42m\u001b[30mProgress: [ 59%]\u001b[49m\u001b[39m [##################################........................] \u001b8\u001b7\u001b[24;0f\u001b[42m\u001b[30mProgress: [ 62%]\u001b[49m\u001b[39m [####################################......................] \u001b8Setting up setup-scripts (2.6.6) ...\n",
      "\u001b7\u001b[24;0f\u001b[42m\u001b[30mProgress: [ 66%]\u001b[49m\u001b[39m [######################################....................] \u001b8\u001b7\u001b[24;0f\u001b[42m\u001b[30mProgress: [ 69%]\u001b[49m\u001b[39m [#######################################...................] \u001b8Setting up libmpc (1.3.1) ...\n",
      "\u001b7\u001b[24;0f\u001b[42m\u001b[30mProgress: [ 72%]\u001b[49m\u001b[39m [##########################################................] \u001b8\u001b7\u001b[24;0f\u001b[42m\u001b[30mProgress: [ 76%]\u001b[49m\u001b[39m [############################################..............] \u001b8Setting up binutils-bin (2.40) ...\n",
      "\u001b7\u001b[24;0f\u001b[42m\u001b[30mProgress: [ 79%]\u001b[49m\u001b[39m [##############################################............] \u001b8\u001b7\u001b[24;0f\u001b[42m\u001b[30mProgress: [ 83%]\u001b[49m\u001b[39m [################################################..........] \u001b8Setting up binutils (2.40) ...\n",
      "\u001b7\u001b[24;0f\u001b[42m\u001b[30mProgress: [ 86%]\u001b[49m\u001b[39m [##################################################........] \u001b8\u001b7\u001b[24;0f\u001b[42m\u001b[30mProgress: [ 90%]\u001b[49m\u001b[39m [####################################################......] \u001b8Setting up gcc-8 (8.3.0-3) ...\n",
      "\u001b7\u001b[24;0f\u001b[42m\u001b[30mProgress: [ 93%]\u001b[49m\u001b[39m [#####################################################.....] \u001b8\u001b7\u001b[24;0f\u001b[42m\u001b[30mProgress: [ 97%]\u001b[49m\u001b[39m [########################################################..] \u001b8\n",
      "\u001b7\u001b[0;24r\u001b8\u001b[1A\u001b[J"
     ]
    }
   ],
   "source": [
    "!pkg install -y gcc-8"
   ]
  },
  {
   "cell_type": "code",
   "execution_count": 14,
   "id": "7e0c5925-32ef-4071-83f0-bea079321901",
   "metadata": {},
   "outputs": [
    {
     "name": "stdout",
     "output_type": "stream",
     "text": [
      "clang version 15.0.7\n",
      "Target: aarch64-unknown-linux-android24\n",
      "Thread model: posix\n",
      "InstalledDir: /data/data/com.termux/files/usr/bin\n"
     ]
    }
   ],
   "source": [
    "!gcc --version"
   ]
  },
  {
   "cell_type": "code",
   "execution_count": 15,
   "id": "40dbfdfc-0aba-4b23-95c4-5493351744cd",
   "metadata": {},
   "outputs": [
    {
     "name": "stdout",
     "output_type": "stream",
     "text": [
      "clang version 15.0.7\n",
      "Target: aarch64-unknown-linux-android24\n",
      "Thread model: posix\n",
      "InstalledDir: /data/data/com.termux/files/usr/bin\n"
     ]
    }
   ],
   "source": [
    "!clang --version"
   ]
  },
  {
   "cell_type": "code",
   "execution_count": 16,
   "id": "71f55bb7-5e21-48c3-9ddc-9ad798951341",
   "metadata": {},
   "outputs": [
    {
     "name": "stdout",
     "output_type": "stream",
     "text": [
      "now using clang as default compiler with gfortran-8\n"
     ]
    }
   ],
   "source": [
    "!setupclang-gfort-8"
   ]
  },
  {
   "cell_type": "code",
   "execution_count": 19,
   "id": "4d132d60-6aad-40d4-a610-5dbdb9fbf53d",
   "metadata": {},
   "outputs": [
    {
     "name": "stdout",
     "output_type": "stream",
     "text": [
      "No mirror or mirror group selected. You might want to select one by running 'termux-change-repo'\n",
      "Checking availability of current mirror:\n",
      "[*] https://grimler.se/termux/termux-main: ok\n",
      "Reading package lists... Done\n",
      "Building dependency tree... Done\n",
      "Reading state information... Done\n",
      "coreutils is already the newest version (9.1-2).\n",
      "0 upgraded, 0 newly installed, 0 to remove and 0 not upgraded.\n"
     ]
    }
   ],
   "source": [
    "!pkg install -y coreutils"
   ]
  },
  {
   "cell_type": "code",
   "execution_count": 22,
   "id": "32ec4ab3-954d-4f04-a77a-f65be96ceed4",
   "metadata": {},
   "outputs": [
    {
     "name": "stdout",
     "output_type": "stream",
     "text": [
      "CANNOT LINK EXECUTABLE \"gfortran\": library \"libc++_shared.so\" not found\n"
     ]
    }
   ],
   "source": [
    "!gfortran --help"
   ]
  },
  {
   "cell_type": "code",
   "execution_count": 23,
   "id": "ad4238c2-0b47-4adc-9fab-e2d0a48c3c0a",
   "metadata": {},
   "outputs": [
    {
     "name": "stdout",
     "output_type": "stream",
     "text": [
      "No mirror or mirror group selected. You might want to select one by running 'termux-change-repo'\n",
      "Checking availability of current mirror:\n",
      "[*] https://grimler.se/termux/termux-main: ok\n",
      "Reading package lists... Done\n",
      "Building dependency tree... Done\n",
      "Reading state information... Done\n",
      "libgfortran5 is already the newest version (8.3.0-3).\n",
      "0 upgraded, 0 newly installed, 0 to remove and 0 not upgraded.\n"
     ]
    }
   ],
   "source": [
    "!pkg install libgfortran5"
   ]
  },
  {
   "cell_type": "code",
   "execution_count": 24,
   "id": "5982c41d-28a2-4111-a6a4-42a88b2d370f",
   "metadata": {},
   "outputs": [
    {
     "name": "stdout",
     "output_type": "stream",
     "text": [
      "Reading package lists... Done\n",
      "Building dependency tree... Done\n",
      "Reading state information... Done\n",
      "The following packages will be REMOVED:\n",
      "  libgfortran5\n",
      "0 upgraded, 0 newly installed, 1 to remove and 0 not upgraded.\n",
      "After this operation, 1118 kB disk space will be freed.\n",
      "\n",
      "(Reading database ... 16967 files and directories currently installed.)\n",
      "Removing libgfortran5 (8.3.0-3) ...\n",
      "\u001b7\u001b[24;0f\u001b[42m\u001b[30mProgress: [  0%]\u001b[49m\u001b[39m [..........................................................] \u001b8\u001b7\u001b[24;0f\u001b[42m\u001b[30mProgress: [ 33%]\u001b[49m\u001b[39m [###################.......................................] \u001b8\u001b7\u001b[24;0f\u001b[42m\u001b[30mProgress: [ 67%]\u001b[49m\u001b[39m [######################################....................] \u001b8\n",
      "\u001b7\u001b[0;24r\u001b8\u001b[1A\u001b[J"
     ]
    }
   ],
   "source": [
    "!pkg remove -y libgfortran5"
   ]
  },
  {
   "cell_type": "code",
   "execution_count": 25,
   "id": "6f6122d1-914c-4fcb-abfe-fe6e0afc93a3",
   "metadata": {},
   "outputs": [
    {
     "name": "stdout",
     "output_type": "stream",
     "text": [
      "Reading package lists... Done\n",
      "Building dependency tree... Done\n",
      "Reading state information... Done\n",
      "Del liblzma 5.4.0 [177 kB]\n",
      "Del xz-utils 5.4.0 [63.3 kB]\n",
      "Del dpkg 1.21.17 [291 kB]\n",
      "Del gpgv 2.4.0 [175 kB]\n",
      "Del ca-certificates 1:2022.10.11-1 [121 kB]\n",
      "Del unbound 1.17.0-1 [606 kB]\n",
      "Del termux-tools 1.35.0 [28.0 kB]\n",
      "Del apt 2.5.4 [965 kB]\n",
      "Del command-not-found 2.1.0-3 [217 kB]\n",
      "Del ed 1.18 [39.4 kB]\n",
      "Del lsof 4.96.5 [103 kB]\n",
      "Del nano 7.1 [219 kB]\n",
      "Del gpgv 2.4.0-1 [175 kB]\n"
     ]
    }
   ],
   "source": [
    "!pkg autoclean"
   ]
  },
  {
   "cell_type": "code",
   "execution_count": 28,
   "id": "86cb4a38-d743-4d1e-b464-3e1d0dac5060",
   "metadata": {},
   "outputs": [
    {
     "name": "stdout",
     "output_type": "stream",
     "text": [
      "No mirror or mirror group selected. You might want to select one by running 'termux-change-repo'\n",
      "Checking availability of current mirror:\n",
      "[*] https://grimler.se/termux/termux-main: ok\n",
      "Reading package lists... Done\n",
      "Building dependency tree... Done\n",
      "Reading state information... Done\n",
      "The following additional packages will be installed:\n",
      "  perl\n",
      "The following NEW packages will be installed:\n",
      "  inxi perl\n",
      "0 upgraded, 2 newly installed, 0 to remove and 0 not upgraded.\n",
      "Need to get 14.9 MB of archives.\n",
      "After this operation, 71.3 MB of additional disk space will be used.\n",
      "Get:1 https://grimler.se/termux/termux-main stable/main aarch64 perl aarch64 5.36.0-1 [14.6 MB]\n",
      "Get:2 https://grimler.se/termux/termux-main stable/main aarch64 inxi all 3.3.24-1-0 [300 kB]m\u001b[33m\u001b[33m\u001b[33m\u001b[33m\u001b[33m\u001b[33m\u001b[33m\u001b[33m\u001b[33m\u001b[33m\u001b[33m\u001b[33m\u001b[33m\u001b[33m\n",
      "Fetched 14.9 MB in 14s (1038 kB/s)                                             \u001b[0m\u001b[33m\n",
      "\n",
      "\u001b7\u001b[0;23r\u001b8\u001b[1ASelecting previously unselected package perl.\n",
      "(Reading database ... 16961 files and directories currently installed.)\n",
      "Preparing to unpack .../perl_5.36.0-1_aarch64.deb ...\n",
      "\u001b7\u001b[24;0f\u001b[42m\u001b[30mProgress: [  0%]\u001b[49m\u001b[39m [..........................................................] \u001b8\u001b7\u001b[24;0f\u001b[42m\u001b[30mProgress: [ 11%]\u001b[49m\u001b[39m [######....................................................] \u001b8Unpacking perl (5.36.0-1) ...\n",
      "\u001b7\u001b[24;0f\u001b[42m\u001b[30mProgress: [ 22%]\u001b[49m\u001b[39m [############..............................................] \u001b8Selecting previously unselected package inxi.\n",
      "Preparing to unpack .../inxi_3.3.24-1-0_all.deb ...\n",
      "\u001b7\u001b[24;0f\u001b[42m\u001b[30mProgress: [ 33%]\u001b[49m\u001b[39m [###################.......................................] \u001b8Unpacking inxi (3.3.24-1-0) ...\n",
      "\u001b7\u001b[24;0f\u001b[42m\u001b[30mProgress: [ 44%]\u001b[49m\u001b[39m [#########################.................................] \u001b8Setting up perl (5.36.0-1) ...\n",
      "\u001b7\u001b[24;0f\u001b[42m\u001b[30mProgress: [ 56%]\u001b[49m\u001b[39m [################################..........................] \u001b8\u001b7\u001b[24;0f\u001b[42m\u001b[30mProgress: [ 67%]\u001b[49m\u001b[39m [######################################....................] \u001b8Setting up inxi (3.3.24-1-0) ...\n",
      "\u001b7\u001b[24;0f\u001b[42m\u001b[30mProgress: [ 78%]\u001b[49m\u001b[39m [#############################################.............] \u001b8\u001b7\u001b[24;0f\u001b[42m\u001b[30mProgress: [ 89%]\u001b[49m\u001b[39m [###################################################.......] \u001b8\n",
      "\u001b7\u001b[0;24r\u001b8\u001b[1A\u001b[J"
     ]
    }
   ],
   "source": [
    "!pkg install -y inxi"
   ]
  },
  {
   "cell_type": "code",
   "execution_count": 29,
   "id": "384d0bf7-1e3a-440e-a507-ca038994a20a",
   "metadata": {},
   "outputs": [
    {
     "name": "stdout",
     "output_type": "stream",
     "text": [
      "\u001b[1;34mSystem:\u001b[0m\n",
      "  \u001b[1;34mHost:\u001b[0m localhost \u001b[1;34mKernel:\u001b[0m 3.10.108-lk.r17_rev \u001b[1;34march:\u001b[0m aarch64 \u001b[1;34mbits:\u001b[0m 64\u001b[0m\n",
      "    \u001b[1;34mConsole:\u001b[0m pty pts/2 \u001b[1;34mDistro:\u001b[0m Android\u001b[0m\n",
      "\u001b[1;34mMachine:\u001b[0m\n",
      "  \u001b[1;34mType:\u001b[0m ARM \u001b[1;34mSystem:\u001b[0m Athene_13MP \u001b[1;34mdetails:\u001b[0m Qualcomm MSM8952 \u001b[1;34mrev:\u001b[0m 82ad\u001b[0m\n",
      "\u001b[1;34mBattery:\u001b[0m\n",
      "  \u001b[1;34mID-1:\u001b[0m battery \u001b[1;34mcharge:\u001b[0m 100% \u001b[1;34mcondition:\u001b[0m N/A\u001b[0m\n",
      "\u001b[1;34mCPU:\u001b[0m\n",
      "  \u001b[1;34mInfo:\u001b[0m 2x 4-core \u001b[1;34mmodel:\u001b[0m AArch64 \u001b[1;34mvariant:\u001b[0m armv8 \u001b[1;34mbits:\u001b[0m 64 \u001b[1;34mtype:\u001b[0m MCP AMP\u001b[0m\n",
      "  \u001b[1;34mSpeed (MHz):\u001b[0m \u001b[1;34mavg:\u001b[0m 435 \u001b[1;34mmin/max:\u001b[0m 499:403/1651:1210 \u001b[1;34mcores:\u001b[0m \u001b[1;34m1:\u001b[0m 499 \u001b[1;34m2:\u001b[0m 499\u001b[0m\n",
      "    \u001b[1;34m3:\u001b[0m 403 \u001b[1;34m4:\u001b[0m 403 \u001b[1;34m5:\u001b[0m 403 \u001b[1;34m6:\u001b[0m 403\u001b[0m\n",
      "\u001b[1;34mGraphics:\u001b[0m\n",
      "  \u001b[1;34mDevice-1:\u001b[0m msm-dai-q6-hdmi \u001b[1;34mdriver:\u001b[0m msm_dai_q6_hdmi \u001b[1;34mv:\u001b[0m N/A\u001b[0m\n",
      "  \u001b[1;34mDevice-2:\u001b[0m msm-dai-q6-mi2s-hdmi \u001b[1;34mdriver:\u001b[0m msm_dai_q6_mi2s_hdmi \u001b[1;34mv:\u001b[0m N/A\u001b[0m\n",
      "  \u001b[1;34mDisplay:\u001b[0m \u001b[1;34mserver:\u001b[0m No display server data found. Headless machine?\u001b[0m\n",
      "    \u001b[1;34mtty:\u001b[0m 80x40\u001b[0m\n",
      "  \u001b[1;34mAPI:\u001b[0m N/A \u001b[0m\u001b[1;34mMessage:\u001b[0m No display API data available in console. Headless\u001b[0m\n",
      "    \u001b[0mmachine?\u001b[0m\n",
      "\u001b[1;34mAudio:\u001b[0m\n",
      "  \u001b[1;34mDevice-1:\u001b[0m msm8952-audio-codec \u001b[1;34mdriver:\u001b[0m msm8952_asoc_wcd\u001b[0m\n",
      "  \u001b[1;34mDevice-2:\u001b[0m msm-audio-ion \u001b[1;34mdriver:\u001b[0m msm_audio_ion\u001b[0m\n",
      "  \u001b[1;34mDevice-3:\u001b[0m msm-dai-q6-hdmi \u001b[1;34mdriver:\u001b[0m msm_dai_q6_hdmi\u001b[0m\n",
      "  \u001b[1;34mDevice-4:\u001b[0m msm-dai-q6-mi2s-hdmi \u001b[1;34mdriver:\u001b[0m msm_dai_q6_mi2s_hdmi\u001b[0m\n",
      "  \u001b[1;34mDevice-5:\u001b[0m msmapr-audio \u001b[1;34mdriver:\u001b[0m adsp_audio\u001b[0m\n",
      "  \u001b[1;34mSound API:\u001b[0m ALSA \u001b[1;34mv:\u001b[0m k3.10.108-lk.r17_rev \u001b[1;34mrunning:\u001b[0m yes\u001b[0m\n",
      "\u001b[1;34mNetwork:\u001b[0m\n",
      "  \u001b[1;34mDevice-1:\u001b[0m wcnss_wlan \u001b[1;34mdriver:\u001b[0m wcnss_wlan\u001b[0m\n",
      "  \u001b[1;34mIF:\u001b[0m p2p0 \u001b[1;34mstate:\u001b[0m down \u001b[1;34mmac:\u001b[0m 6a:c4:4d:c0:cd:56\u001b[0m\n",
      "  \u001b[1;34mIF-ID-1:\u001b[0m dummy0 \u001b[1;34mstate:\u001b[0m unknown \u001b[1;34mspeed:\u001b[0m N/A \u001b[1;34mduplex:\u001b[0m N/A\u001b[0m\n",
      "    \u001b[1;34mmac:\u001b[0m 9a:60:cc:d5:97:ad\u001b[0m\n",
      "  \u001b[1;34mIF-ID-2:\u001b[0m r_rmnet_data0 \u001b[1;34mstate:\u001b[0m down \u001b[1;34mmac:\u001b[0m N/A\u001b[0m\n",
      "  \u001b[1;34mIF-ID-3:\u001b[0m r_rmnet_data1 \u001b[1;34mstate:\u001b[0m down \u001b[1;34mmac:\u001b[0m N/A\u001b[0m\n",
      "  \u001b[1;34mIF-ID-4:\u001b[0m r_rmnet_data2 \u001b[1;34mstate:\u001b[0m down \u001b[1;34mmac:\u001b[0m N/A\u001b[0m\n",
      "  \u001b[1;34mIF-ID-5:\u001b[0m r_rmnet_data3 \u001b[1;34mstate:\u001b[0m down \u001b[1;34mmac:\u001b[0m N/A\u001b[0m\n",
      "  \u001b[1;34mIF-ID-6:\u001b[0m r_rmnet_data4 \u001b[1;34mstate:\u001b[0m down \u001b[1;34mmac:\u001b[0m N/A\u001b[0m\n",
      "  \u001b[1;34mIF-ID-7:\u001b[0m r_rmnet_data5 \u001b[1;34mstate:\u001b[0m down \u001b[1;34mmac:\u001b[0m N/A\u001b[0m\n",
      "  \u001b[1;34mIF-ID-8:\u001b[0m r_rmnet_data6 \u001b[1;34mstate:\u001b[0m down \u001b[1;34mmac:\u001b[0m N/A\u001b[0m\n",
      "  \u001b[1;34mIF-ID-9:\u001b[0m r_rmnet_data7 \u001b[1;34mstate:\u001b[0m down \u001b[1;34mmac:\u001b[0m N/A\u001b[0m\n",
      "  \u001b[1;34mIF-ID-10:\u001b[0m r_rmnet_data8 \u001b[1;34mstate:\u001b[0m down \u001b[1;34mmac:\u001b[0m N/A\u001b[0m\n",
      "  \u001b[1;34mIF-ID-11:\u001b[0m rmnet_data0 \u001b[1;34mstate:\u001b[0m down \u001b[1;34mmac:\u001b[0m N/A\u001b[0m\n",
      "  \u001b[1;34mIF-ID-12:\u001b[0m rmnet_data1 \u001b[1;34mstate:\u001b[0m down \u001b[1;34mmac:\u001b[0m N/A\u001b[0m\n",
      "  \u001b[1;34mIF-ID-13:\u001b[0m rmnet_data2 \u001b[1;34mstate:\u001b[0m down \u001b[1;34mmac:\u001b[0m N/A\u001b[0m\n",
      "  \u001b[1;34mIF-ID-14:\u001b[0m rmnet_data3 \u001b[1;34mstate:\u001b[0m down \u001b[1;34mmac:\u001b[0m N/A\u001b[0m\n",
      "  \u001b[1;34mIF-ID-15:\u001b[0m rmnet_data4 \u001b[1;34mstate:\u001b[0m down \u001b[1;34mmac:\u001b[0m N/A\u001b[0m\n",
      "  \u001b[1;34mIF-ID-16:\u001b[0m rmnet_data5 \u001b[1;34mstate:\u001b[0m down \u001b[1;34mmac:\u001b[0m N/A\u001b[0m\n",
      "  \u001b[1;34mIF-ID-17:\u001b[0m rmnet_data6 \u001b[1;34mstate:\u001b[0m down \u001b[1;34mmac:\u001b[0m N/A\u001b[0m\n",
      "  \u001b[1;34mIF-ID-18:\u001b[0m rmnet_data7 \u001b[1;34mstate:\u001b[0m down \u001b[1;34mmac:\u001b[0m N/A\u001b[0m\n",
      "  \u001b[1;34mIF-ID-19:\u001b[0m rmnet_ipa0 \u001b[1;34mstate:\u001b[0m unknown \u001b[1;34mspeed:\u001b[0m N/A \u001b[1;34mduplex:\u001b[0m N/A \u001b[1;34mmac:\u001b[0m N/A\u001b[0m\n",
      "  \u001b[1;34mIF-ID-20:\u001b[0m sit0 \u001b[1;34mstate:\u001b[0m down \u001b[1;34mmac:\u001b[0m 00:00:00:00\u001b[0m\n",
      "  \u001b[1;34mIF-ID-21:\u001b[0m usb0 \u001b[1;34mstate:\u001b[0m down \u001b[1;34mmac:\u001b[0m 12:19:44:d9:34:3c\u001b[0m\n",
      "  \u001b[1;34mIF-ID-22:\u001b[0m wlan0 \u001b[1;34mstate:\u001b[0m up \u001b[1;34mmac:\u001b[0m 68:c4:4d:c0:cd:56\u001b[0m\n",
      "\u001b[1;34mDrives:\u001b[0m\n",
      "  \u001b[1;34mLocal Storage:\u001b[0m \u001b[1;34mtotal:\u001b[0m 14.56 GiB \u001b[1;34mused:\u001b[0m 25.6 GiB (175.8%)\u001b[0m\n",
      "  \u001b[1;34mID-1:\u001b[0m /dev/mmcblk0 \u001b[1;34mmodel:\u001b[0m QE13MB \u001b[1;34msize:\u001b[0m 14.56 GiB\u001b[0m\n",
      "\u001b[1;34mPartition:\u001b[0m\n",
      "  \u001b[1;34mID-1:\u001b[0m /cache \u001b[1;34msize:\u001b[0m 463.9 MiB \u001b[1;34mused:\u001b[0m 352 KiB (0.1%) \u001b[1;34mfs:\u001b[0m n/a\u001b[0m\n",
      "    \u001b[1;34mdev:\u001b[0m /dev/mmcblk0p46\u001b[0m\n",
      "  \u001b[1;34mID-2:\u001b[0m /data \u001b[1;34msize:\u001b[0m 21.65 GiB \u001b[1;34mused:\u001b[0m 10.95 GiB (50.6%) \u001b[1;34mfs:\u001b[0m n/a\u001b[0m\n",
      "    \u001b[1;34mdev:\u001b[0m /dev/mmcblk0p48\u001b[0m\n",
      "  \u001b[1;34mID-3:\u001b[0m /firmware \u001b[1;34msize:\u001b[0m 188.8 MiB \u001b[1;34mused:\u001b[0m 139.2 MiB (73.7%) \u001b[1;34mfs:\u001b[0m n/a\u001b[0m\n",
      "    \u001b[1;34mdev:\u001b[0m /dev/mmcblk0p1\u001b[0m\n",
      "  \u001b[1;34mID-4:\u001b[0m /system \u001b[1;34msize:\u001b[0m 4.77 GiB \u001b[1;34mused:\u001b[0m 3.69 GiB (77.4%) \u001b[1;34mfs:\u001b[0m n/a\u001b[0m\n",
      "    \u001b[1;34mdev:\u001b[0m /dev/mmcblk0p47\u001b[0m\n",
      "\u001b[1;34mSwap:\u001b[0m\n",
      "  \u001b[1;34mID-1:\u001b[0m swap-1 \u001b[1;34mtype:\u001b[0m zram \u001b[1;34msize:\u001b[0m 1024 MiB \u001b[1;34mused:\u001b[0m 323.9 MiB (31.6%)\u001b[0m\n",
      "    \u001b[1;34mdev:\u001b[0m /dev/block/zram0\u001b[0m\n",
      "Use of uninitialized value in substitution (s///) at /data/data/com.termux/files/usr/bin/inxi line 24234.\n",
      "Use of uninitialized value in concatenation (.) or string at /data/data/com.termux/files/usr/bin/inxi line 24235.\n",
      "Use of uninitialized value in substitution (s///) at /data/data/com.termux/files/usr/bin/inxi line 24234.\n",
      "Use of uninitialized value in concatenation (.) or string at /data/data/com.termux/files/usr/bin/inxi line 24235.\n",
      "Use of uninitialized value in substitution (s///) at /data/data/com.termux/files/usr/bin/inxi line 24234.\n",
      "Use of uninitialized value in concatenation (.) or string at /data/data/com.termux/files/usr/bin/inxi line 24235.\n",
      "Use of uninitialized value in substitution (s///) at /data/data/com.termux/files/usr/bin/inxi line 24234.\n",
      "Use of uninitialized value in concatenation (.) or string at /data/data/com.termux/files/usr/bin/inxi line 24235.\n",
      "Use of uninitialized value in substitution (s///) at /data/data/com.termux/files/usr/bin/inxi line 24234.\n",
      "Use of uninitialized value in concatenation (.) or string at /data/data/com.termux/files/usr/bin/inxi line 24235.\n",
      "Use of uninitialized value in substitution (s///) at /data/data/com.termux/files/usr/bin/inxi line 24234.\n",
      "Use of uninitialized value in concatenation (.) or string at /data/data/com.termux/files/usr/bin/inxi line 24235.\n",
      "Use of uninitialized value in substitution (s///) at /data/data/com.termux/files/usr/bin/inxi line 24234.\n",
      "Use of uninitialized value in concatenation (.) or string at /data/data/com.termux/files/usr/bin/inxi line 24235.\n",
      "Use of uninitialized value in substitution (s///) at /data/data/com.termux/files/usr/bin/inxi line 24234.\n",
      "Use of uninitialized value in concatenation (.) or string at /data/data/com.termux/files/usr/bin/inxi line 24235.\n",
      "Use of uninitialized value in substitution (s///) at /data/data/com.termux/files/usr/bin/inxi line 24234.\n",
      "Use of uninitialized value in concatenation (.) or string at /data/data/com.termux/files/usr/bin/inxi line 24235.\n",
      "Use of uninitialized value in substitution (s///) at /data/data/com.termux/files/usr/bin/inxi line 24234.\n",
      "Use of uninitialized value in concatenation (.) or string at /data/data/com.termux/files/usr/bin/inxi line 24235.\n",
      "Use of uninitialized value in substitution (s///) at /data/data/com.termux/files/usr/bin/inxi line 24234.\n",
      "Use of uninitialized value in concatenation (.) or string at /data/data/com.termux/files/usr/bin/inxi line 24235.\n",
      "Use of uninitialized value in substitution (s///) at /data/data/com.termux/files/usr/bin/inxi line 24234.\n",
      "Use of uninitialized value in concatenation (.) or string at /data/data/com.termux/files/usr/bin/inxi line 24235.\n",
      "Use of uninitialized value in substitution (s///) at /data/data/com.termux/files/usr/bin/inxi line 24234.\n",
      "Use of uninitialized value in concatenation (.) or string at /data/data/com.termux/files/usr/bin/inxi line 24235.\n",
      "Use of uninitialized value in substitution (s///) at /data/data/com.termux/files/usr/bin/inxi line 24234.\n",
      "Use of uninitialized value in concatenation (.) or string at /data/data/com.termux/files/usr/bin/inxi line 24235.\n",
      "Use of uninitialized value in substitution (s///) at /data/data/com.termux/files/usr/bin/inxi line 24234.\n",
      "Use of uninitialized value in concatenation (.) or string at /data/data/com.termux/files/usr/bin/inxi line 24235.\n",
      "Use of uninitialized value in substitution (s///) at /data/data/com.termux/files/usr/bin/inxi line 24234.\n",
      "Use of uninitialized value in concatenation (.) or string at /data/data/com.termux/files/usr/bin/inxi line 24235.\n",
      "Use of uninitialized value in substitution (s///) at /data/data/com.termux/files/usr/bin/inxi line 24234.\n",
      "Use of uninitialized value in concatenation (.) or string at /data/data/com.termux/files/usr/bin/inxi line 24235.\n",
      "Use of uninitialized value in substitution (s///) at /data/data/com.termux/files/usr/bin/inxi line 24234.\n",
      "Use of uninitialized value in concatenation (.) or string at /data/data/com.termux/files/usr/bin/inxi line 24235.\n",
      "Use of uninitialized value in substitution (s///) at /data/data/com.termux/files/usr/bin/inxi line 24234.\n",
      "Use of uninitialized value in concatenation (.) or string at /data/data/com.termux/files/usr/bin/inxi line 24235.\n",
      "Use of uninitialized value in substitution (s///) at /data/data/com.termux/files/usr/bin/inxi line 24234.\n",
      "Use of uninitialized value in concatenation (.) or string at /data/data/com.termux/files/usr/bin/inxi line 24235.\n",
      "Use of uninitialized value in substitution (s///) at /data/data/com.termux/files/usr/bin/inxi line 24234.\n",
      "Use of uninitialized value in concatenation (.) or string at /data/data/com.termux/files/usr/bin/inxi line 24235.\n",
      "\u001b[1;34mSensors:\u001b[0m\n",
      "  \u001b[1;34mSrc:\u001b[0m /sys \u001b[1;34mSystem Temperatures:\u001b[0m \u001b[1;34mcpu:\u001b[0m 36.0 C \u001b[1;34mmobo:\u001b[0m N/A\u001b[0m\n",
      "  \u001b[1;34mFan Speeds (RPM):\u001b[0m N/A\u001b[0m\n",
      "\u001b[1;34mInfo:\u001b[0m\n",
      "  \u001b[1;34mProcesses:\u001b[0m 9 \u001b[1;34mUptime:\u001b[0m 3d 9h 29m \u001b[1;34mMemory:\u001b[0m 1.8 GiB \u001b[1;34mused:\u001b[0m 1.11 GiB (61.5%)\u001b[0m\n",
      "  \u001b[1;34mInit:\u001b[0m N/A \u001b[1;34mShell:\u001b[0m python3.11 \u001b[1;34minxi:\u001b[0m 3.3.24\u001b[0m\n"
     ]
    }
   ],
   "source": [
    "!inxi -F"
   ]
  },
  {
   "cell_type": "code",
   "execution_count": 35,
   "id": "d269e7e9-cfac-452d-b62e-bac706996e2a",
   "metadata": {},
   "outputs": [
    {
     "name": "stdout",
     "output_type": "stream",
     "text": [
      "Filesystem            Size  Used Avail Use% Mounted on\n",
      "tmpfs                 912M  388K  911M   1% /dev\n",
      "tmpfs                 912M     0  912M   0% /mnt\n",
      "/dev/block/mmcblk0p30  27M  492K   26M   2% /mnt/vendor/persist\n",
      "/dev/block/mmcblk0p47 2.3G  1.8G  535M  78% /system\n",
      "/dev/block/mmcblk0p46 232M  176K  224M   1% /cache\n",
      "/dev/block/mmcblk0p16 1.9M  1.9M     0 100% /fsg\n",
      "/dev/block/mmcblk0p1   94M   70M   23M  76% /firmware\n",
      "/dev/block/mmcblk0p12  12M  3.6M  7.7M  32% /dsp\n",
      "/dev/block/mmcblk0p48  11G  5.4G  5.2G  51% /data\n",
      "/data/media            11G  5.4G  5.2G  51% /storage/emulated\n"
     ]
    }
   ],
   "source": [
    "!df -h"
   ]
  },
  {
   "cell_type": "code",
   "execution_count": null,
   "id": "c81bb615-d78e-479c-9dd0-d9ec68cf7738",
   "metadata": {},
   "outputs": [],
   "source": []
  }
 ],
 "metadata": {
  "kernelspec": {
   "display_name": "Python 3 (ipykernel)",
   "language": "python",
   "name": "python3"
  },
  "language_info": {
   "codemirror_mode": {
    "name": "ipython",
    "version": 3
   },
   "file_extension": ".py",
   "mimetype": "text/x-python",
   "name": "python",
   "nbconvert_exporter": "python",
   "pygments_lexer": "ipython3",
   "version": "3.12.5"
  }
 },
 "nbformat": 4,
 "nbformat_minor": 5
}
