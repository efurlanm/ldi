{
 "cells": [
  {
   "cell_type": "markdown",
   "id": "dfa8f21c",
   "metadata": {},
   "source": [
    "# Understanding executables\n",
    "\n",
    "Running on a laptop with an i7-9750H processor\n",
    "\n",
    "* https://stackoverflow.com/questions/200292/process-for-reducing-the-size-of-an-executable\n",
    "* http://www.muppetlabs.com/~breadbox/software/tiny/\n",
    "* https://stac47.github.io/c/relocation/elf/tutorial/2018/03/01/understanding-relocation-elf.html\n",
    "* http://timelessname.com/elfbin/"
   ]
  },
  {
   "cell_type": "code",
   "execution_count": 1,
   "id": "7766097e-9da4-4d82-8a7f-ee12e817b20f",
   "metadata": {},
   "outputs": [
    {
     "name": "stdout",
     "output_type": "stream",
     "text": [
      "Architecture:            x86_64\n",
      "  CPU op-mode(s):        32-bit, 64-bit\n",
      "  Address sizes:         39 bits physical, 48 bits virtual\n",
      "  Byte Order:            Little Endian\n",
      "CPU(s):                  12\n",
      "  On-line CPU(s) list:   0-11\n",
      "Vendor ID:               GenuineIntel\n",
      "  Model name:            Intel(R) Core(TM) i7-9750H CPU @ 2.60GHz\n",
      "    CPU family:          6\n",
      "    Model:               158\n",
      "    Thread(s) per core:  2\n",
      "    Core(s) per socket:  6\n",
      "    Socket(s):           1\n",
      "    Stepping:            10\n",
      "    CPU max MHz:         4500,0000\n",
      "    CPU min MHz:         800,0000\n",
      "    BogoMIPS:            5199.98\n",
      "    Flags:               fpu vme de pse tsc msr pae mce cx8 apic sep mtrr pge mc\n",
      "                         a cmov pat pse36 clflush dts acpi mmx fxsr sse sse2 ss \n",
      "                         ht tm pbe syscall nx pdpe1gb rdtscp lm constant_tsc art\n",
      "                          arch_perfmon pebs bts rep_good nopl xtopology nonstop_\n",
      "                         tsc cpuid aperfmperf pni pclmulqdq dtes64 monitor ds_cp\n",
      "                         l vmx est tm2 ssse3 sdbg fma cx16 xtpr pdcm pcid sse4_1\n",
      "                          sse4_2 x2apic movbe popcnt tsc_deadline_timer aes xsav\n",
      "                         e avx f16c rdrand lahf_lm abm 3dnowprefetch cpuid_fault\n",
      "                          epb invpcid_single pti ssbd ibrs ibpb stibp tpr_shadow\n",
      "                          vnmi flexpriority ept vpid ept_ad fsgsbase tsc_adjust \n",
      "                         bmi1 avx2 smep bmi2 erms invpcid mpx rdseed adx smap cl\n",
      "                         flushopt intel_pt xsaveopt xsavec xgetbv1 xsaves dtherm\n",
      "                          ida arat pln pts hwp hwp_notify hwp_act_window hwp_epp\n",
      "                          md_clear flush_l1d arch_capabilities\n",
      "Virtualization features: \n",
      "  Virtualization:        VT-x\n",
      "Caches (sum of all):     \n",
      "  L1d:                   192 KiB (6 instances)\n",
      "  L1i:                   192 KiB (6 instances)\n",
      "  L2:                    1,5 MiB (6 instances)\n",
      "  L3:                    12 MiB (1 instance)\n",
      "NUMA:                    \n",
      "  NUMA node(s):          1\n",
      "  NUMA node0 CPU(s):     0-11\n",
      "Vulnerabilities:         \n",
      "  Itlb multihit:         KVM: Mitigation: VMX disabled\n",
      "  L1tf:                  Mitigation; PTE Inversion; VMX conditional cache flushe\n",
      "                         s, SMT vulnerable\n",
      "  Mds:                   Mitigation; Clear CPU buffers; SMT vulnerable\n",
      "  Meltdown:              Mitigation; PTI\n",
      "  Mmio stale data:       Mitigation; Clear CPU buffers; SMT vulnerable\n",
      "  Retbleed:              Mitigation; IBRS\n",
      "  Spec store bypass:     Mitigation; Speculative Store Bypass disabled via prctl\n",
      "                          and seccomp\n",
      "  Spectre v1:            Mitigation; usercopy/swapgs barriers and __user pointer\n",
      "                          sanitization\n",
      "  Spectre v2:            Mitigation; IBRS, IBPB conditional, RSB filling, PBRSB-\n",
      "                         eIBRS Not affected\n",
      "  Srbds:                 Mitigation; Microcode\n",
      "  Tsx async abort:       Not affected\n"
     ]
    }
   ],
   "source": [
    "!lscpu"
   ]
  },
  {
   "cell_type": "code",
   "execution_count": 5,
   "id": "1c0cce0d",
   "metadata": {},
   "outputs": [
    {
     "name": "stdout",
     "output_type": "stream",
     "text": [
      "Overwriting helloworld.c\n"
     ]
    }
   ],
   "source": [
    "%%writefile helloworld.c\n",
    "#include <stdio.h>\n",
    "extern int puts(const char *);\n",
    "void main(void)\n",
    "{\n",
    "    puts(\"Hello, world!\");\n",
    "}"
   ]
  },
  {
   "cell_type": "code",
   "execution_count": 6,
   "id": "20ebd859",
   "metadata": {},
   "outputs": [],
   "source": [
    "! gcc helloworld.c"
   ]
  },
  {
   "cell_type": "code",
   "execution_count": 7,
   "id": "f4898248",
   "metadata": {},
   "outputs": [
    {
     "name": "stdout",
     "output_type": "stream",
     "text": [
      "-rwxrwxr-x 1 16704 set 10 20:34 a.out\n"
     ]
    }
   ],
   "source": [
    "! ls -gG a.out"
   ]
  },
  {
   "cell_type": "code",
   "execution_count": 8,
   "id": "332d8f1b",
   "metadata": {},
   "outputs": [
    {
     "name": "stdout",
     "output_type": "stream",
     "text": [
      "Hello, world!\n"
     ]
    }
   ],
   "source": [
    "! ./a.out"
   ]
  },
  {
   "cell_type": "markdown",
   "id": "080eaecc",
   "metadata": {},
   "source": [
    "-s  Remove all symbol table and relocation information from the executable."
   ]
  },
  {
   "cell_type": "code",
   "execution_count": 9,
   "id": "e4ab79b6",
   "metadata": {},
   "outputs": [],
   "source": [
    "! gcc -s helloworld.c "
   ]
  },
  {
   "cell_type": "code",
   "execution_count": 10,
   "id": "c7a0902e",
   "metadata": {},
   "outputs": [
    {
     "name": "stdout",
     "output_type": "stream",
     "text": [
      "-rwxrwxr-x 1 14472 set 10 20:38 a.out\n"
     ]
    }
   ],
   "source": [
    "! ls -gG a.out"
   ]
  },
  {
   "cell_type": "markdown",
   "id": "8009d5c1",
   "metadata": {},
   "source": [
    "-nostartfiles    Do not use the standard system startup files when linking. The standard libraries are used normally. "
   ]
  },
  {
   "cell_type": "code",
   "execution_count": 12,
   "id": "97170341",
   "metadata": {},
   "outputs": [
    {
     "name": "stdout",
     "output_type": "stream",
     "text": [
      "/usr/bin/ld: warning: cannot find entry symbol _start; defaulting to 0000000000001030\n"
     ]
    }
   ],
   "source": [
    "! gcc -s -nostartfiles helloworld.c "
   ]
  },
  {
   "cell_type": "code",
   "execution_count": 13,
   "id": "c13c3e44",
   "metadata": {},
   "outputs": [
    {
     "name": "stdout",
     "output_type": "stream",
     "text": [
      "-rwxrwxr-x 1 13808 set 10 20:40 a.out\n"
     ]
    }
   ],
   "source": [
    "! ls -gG a.out"
   ]
  },
  {
   "cell_type": "code",
   "execution_count": 14,
   "id": "cdaee600",
   "metadata": {},
   "outputs": [
    {
     "name": "stdout",
     "output_type": "stream",
     "text": [
      "Writing tiny.c\n"
     ]
    }
   ],
   "source": [
    "%%writefile tiny.c\n",
    "int main(void)\n",
    "{\n",
    "    return 42;\n",
    "}"
   ]
  },
  {
   "cell_type": "code",
   "execution_count": 18,
   "id": "f21d8891",
   "metadata": {},
   "outputs": [],
   "source": [
    "! gcc tiny.c"
   ]
  },
  {
   "cell_type": "code",
   "execution_count": 19,
   "id": "3b9f7edf",
   "metadata": {},
   "outputs": [
    {
     "name": "stdout",
     "output_type": "stream",
     "text": [
      "42\n"
     ]
    }
   ],
   "source": [
    "! ./a.out ; echo $?  # $? = last command return"
   ]
  },
  {
   "cell_type": "code",
   "execution_count": 20,
   "id": "0e8873be",
   "metadata": {},
   "outputs": [
    {
     "name": "stdout",
     "output_type": "stream",
     "text": [
      "-rwxrwxr-x 1 16464 set 10 20:45 a.out\n"
     ]
    }
   ],
   "source": [
    "! ls -gG a.out"
   ]
  },
  {
   "cell_type": "code",
   "execution_count": 21,
   "id": "61421ebb",
   "metadata": {},
   "outputs": [
    {
     "name": "stdout",
     "output_type": "stream",
     "text": [
      "16464 a.out\n"
     ]
    }
   ],
   "source": [
    "! wc -c a.out"
   ]
  },
  {
   "cell_type": "code",
   "execution_count": null,
   "id": "c07480f8",
   "metadata": {},
   "outputs": [],
   "source": []
  },
  {
   "cell_type": "code",
   "execution_count": null,
   "id": "6d54a999",
   "metadata": {},
   "outputs": [],
   "source": []
  },
  {
   "cell_type": "code",
   "execution_count": 22,
   "id": "5a694009",
   "metadata": {},
   "outputs": [
    {
     "name": "stdout",
     "output_type": "stream",
     "text": [
      "/usr/bin/ld: warning: cannot find entry symbol _start; defaulting to 0000000000001000\n"
     ]
    }
   ],
   "source": [
    "! gcc -s -nostartfiles -nostdlib tiny.c"
   ]
  },
  {
   "cell_type": "code",
   "execution_count": 23,
   "id": "6c79fe66",
   "metadata": {},
   "outputs": [
    {
     "name": "stdout",
     "output_type": "stream",
     "text": [
      "-rwxrwxr-x 1 13296 set 10 20:46 a.out\n"
     ]
    }
   ],
   "source": [
    "! ls -gG a.out"
   ]
  },
  {
   "cell_type": "code",
   "execution_count": 24,
   "id": "7e94fc7d",
   "metadata": {},
   "outputs": [
    {
     "name": "stdout",
     "output_type": "stream",
     "text": [
      "\n",
      "a.out:     file format elf64-x86-64\n",
      "a.out\n",
      "architecture: i386:x86-64, flags 0x00000150:\n",
      "HAS_SYMS, DYNAMIC, D_PAGED\n",
      "start address 0x0000000000001000\n",
      "\n",
      "Program Header:\n",
      "    PHDR off    0x0000000000000040 vaddr 0x0000000000000040 paddr 0x0000000000000040 align 2**3\n",
      "         filesz 0x00000000000002d8 memsz 0x00000000000002d8 flags r--\n",
      "  INTERP off    0x0000000000000318 vaddr 0x0000000000000318 paddr 0x0000000000000318 align 2**0\n",
      "         filesz 0x000000000000001c memsz 0x000000000000001c flags r--\n",
      "    LOAD off    0x0000000000000000 vaddr 0x0000000000000000 paddr 0x0000000000000000 align 2**12\n",
      "         filesz 0x00000000000003b9 memsz 0x00000000000003b9 flags r--\n",
      "    LOAD off    0x0000000000001000 vaddr 0x0000000000001000 paddr 0x0000000000001000 align 2**12\n",
      "         filesz 0x000000000000000f memsz 0x000000000000000f flags r-x\n",
      "    LOAD off    0x0000000000002000 vaddr 0x0000000000002000 paddr 0x0000000000002000 align 2**12\n",
      "         filesz 0x0000000000000050 memsz 0x0000000000000050 flags r--\n",
      "    LOAD off    0x0000000000002f20 vaddr 0x0000000000003f20 paddr 0x0000000000003f20 align 2**12\n",
      "         filesz 0x00000000000000e0 memsz 0x00000000000000e0 flags rw-\n",
      " DYNAMIC off    0x0000000000002f20 vaddr 0x0000000000003f20 paddr 0x0000000000003f20 align 2**3\n",
      "         filesz 0x00000000000000e0 memsz 0x00000000000000e0 flags rw-\n",
      "    NOTE off    0x0000000000000338 vaddr 0x0000000000000338 paddr 0x0000000000000338 align 2**3\n",
      "         filesz 0x0000000000000020 memsz 0x0000000000000020 flags r--\n",
      "    NOTE off    0x0000000000000358 vaddr 0x0000000000000358 paddr 0x0000000000000358 align 2**2\n",
      "         filesz 0x0000000000000024 memsz 0x0000000000000024 flags r--\n",
      "0x6474e553 off    0x0000000000000338 vaddr 0x0000000000000338 paddr 0x0000000000000338 align 2**3\n",
      "         filesz 0x0000000000000020 memsz 0x0000000000000020 flags r--\n",
      "EH_FRAME off    0x0000000000002000 vaddr 0x0000000000002000 paddr 0x0000000000002000 align 2**2\n",
      "         filesz 0x0000000000000014 memsz 0x0000000000000014 flags r--\n",
      "   STACK off    0x0000000000000000 vaddr 0x0000000000000000 paddr 0x0000000000000000 align 2**4\n",
      "         filesz 0x0000000000000000 memsz 0x0000000000000000 flags rw-\n",
      "   RELRO off    0x0000000000002f20 vaddr 0x0000000000003f20 paddr 0x0000000000003f20 align 2**0\n",
      "         filesz 0x00000000000000e0 memsz 0x00000000000000e0 flags r--\n",
      "\n",
      "Dynamic Section:\n",
      "  GNU_HASH             0x0000000000000380\n",
      "  STRTAB               0x00000000000003b8\n",
      "  SYMTAB               0x00000000000003a0\n",
      "  STRSZ                0x0000000000000001\n",
      "  SYMENT               0x0000000000000018\n",
      "  DEBUG                0x0000000000000000\n",
      "  FLAGS                0x0000000000000008\n",
      "  FLAGS_1              0x0000000008000001\n",
      "\n",
      "Sections:\n",
      "Idx Name          Size      VMA               LMA               File off  Algn\n",
      "  0 .interp       0000001c  0000000000000318  0000000000000318  00000318  2**0\n",
      "                  CONTENTS, ALLOC, LOAD, READONLY, DATA\n",
      "  1 .note.gnu.property 00000020  0000000000000338  0000000000000338  00000338  2**3\n",
      "                  CONTENTS, ALLOC, LOAD, READONLY, DATA\n",
      "  2 .note.gnu.build-id 00000024  0000000000000358  0000000000000358  00000358  2**2\n",
      "                  CONTENTS, ALLOC, LOAD, READONLY, DATA\n",
      "  3 .gnu.hash     0000001c  0000000000000380  0000000000000380  00000380  2**3\n",
      "                  CONTENTS, ALLOC, LOAD, READONLY, DATA\n",
      "  4 .dynsym       00000018  00000000000003a0  00000000000003a0  000003a0  2**3\n",
      "                  CONTENTS, ALLOC, LOAD, READONLY, DATA\n",
      "  5 .dynstr       00000001  00000000000003b8  00000000000003b8  000003b8  2**0\n",
      "                  CONTENTS, ALLOC, LOAD, READONLY, DATA\n",
      "  6 .text         0000000f  0000000000001000  0000000000001000  00001000  2**0\n",
      "                  CONTENTS, ALLOC, LOAD, READONLY, CODE\n",
      "  7 .eh_frame_hdr 00000014  0000000000002000  0000000000002000  00002000  2**2\n",
      "                  CONTENTS, ALLOC, LOAD, READONLY, DATA\n",
      "  8 .eh_frame     00000038  0000000000002018  0000000000002018  00002018  2**3\n",
      "                  CONTENTS, ALLOC, LOAD, READONLY, DATA\n",
      "  9 .dynamic      000000e0  0000000000003f20  0000000000003f20  00002f20  2**3\n",
      "                  CONTENTS, ALLOC, LOAD, DATA\n",
      " 10 .comment      0000002a  0000000000000000  0000000000000000  00003000  2**0\n",
      "                  CONTENTS, READONLY\n",
      "SYMBOL TABLE:\n",
      "no symbols\n",
      "\n",
      "\n"
     ]
    }
   ],
   "source": [
    "! objdump -x a.out"
   ]
  },
  {
   "cell_type": "code",
   "execution_count": 25,
   "id": "ddb5b94a",
   "metadata": {},
   "outputs": [
    {
     "name": "stdout",
     "output_type": "stream",
     "text": [
      "00000000  7f 45 4c 46 02 01 01 00  00 00 00 00 00 00 00 00  |.ELF............|\n",
      "00000010  03 00 3e 00 01 00 00 00  00 10 00 00 00 00 00 00  |..>.............|\n",
      "00000020  40 00 00 00 00 00 00 00  b0 30 00 00 00 00 00 00  |@........0......|\n",
      "00000030  00 00 00 00 40 00 38 00  0d 00 40 00 0d 00 0c 00  |....@.8...@.....|\n",
      "00000040  06 00 00 00 04 00 00 00  40 00 00 00 00 00 00 00  |........@.......|\n",
      "00000050  40 00 00 00 00 00 00 00  40 00 00 00 00 00 00 00  |@.......@.......|\n",
      "00000060  d8 02 00 00 00 00 00 00  d8 02 00 00 00 00 00 00  |................|\n",
      "00000070  08 00 00 00 00 00 00 00  03 00 00 00 04 00 00 00  |................|\n",
      "00000080  18 03 00 00 00 00 00 00  18 03 00 00 00 00 00 00  |................|\n",
      "00000090  18 03 00 00 00 00 00 00  1c 00 00 00 00 00 00 00  |................|\n",
      "000000a0  1c 00 00 00 00 00 00 00  01 00 00 00 00 00 00 00  |................|\n",
      "000000b0  01 00 00 00 04 00 00 00  00 00 00 00 00 00 00 00  |................|\n",
      "000000c0  00 00 00 00 00 00 00 00  00 00 00 00 00 00 00 00  |................|\n",
      "000000d0  b9 03 00 00 00 00 00 00  b9 03 00 00 00 00 00 00  |................|\n",
      "000000e0  00 10 00 00 00 00 00 00  01 00 00 00 05 00 00 00  |................|\n",
      "000000f0  00 10 00 00 00 00 00 00  00 10 00 00 00 00 00 00  |................|\n",
      "00000100  00 10 00 00 00 00 00 00  0f 00 00 00 00 00 00 00  |................|\n",
      "00000110  0f 00 00 00 00 00 00 00  00 10 00 00 00 00 00 00  |................|\n",
      "00000120  01 00 00 00 04 00 00 00  00 20 00 00 00 00 00 00  |......... ......|\n",
      "00000130  00 20 00 00 00 00 00 00  00 20 00 00 00 00 00 00  |. ....... ......|\n",
      "00000140  50 00 00 00 00 00 00 00  50 00 00 00 00 00 00 00  |P.......P.......|\n",
      "00000150  00 10 00 00 00 00 00 00  01 00 00 00 06 00 00 00  |................|\n",
      "00000160  20 2f 00 00 00 00 00 00  20 3f 00 00 00 00 00 00  | /...... ?......|\n",
      "00000170  20 3f 00 00 00 00 00 00  e0 00 00 00 00 00 00 00  | ?..............|\n",
      "00000180  e0 00 00 00 00 00 00 00  00 10 00 00 00 00 00 00  |................|\n",
      "00000190  02 00 00 00 06 00 00 00  20 2f 00 00 00 00 00 00  |........ /......|\n",
      "000001a0  20 3f 00 00 00 00 00 00  20 3f 00 00 00 00 00 00  | ?...... ?......|\n",
      "000001b0  e0 00 00 00 00 00 00 00  e0 00 00 00 00 00 00 00  |................|\n",
      "000001c0  08 00 00 00 00 00 00 00  04 00 00 00 04 00 00 00  |................|\n",
      "000001d0  38 03 00 00 00 00 00 00  38 03 00 00 00 00 00 00  |8.......8.......|\n",
      "000001e0  38 03 00 00 00 00 00 00  20 00 00 00 00 00 00 00  |8....... .......|\n",
      "000001f0  20 00 00 00 00 00 00 00  08 00 00 00 00 00 00 00  | ...............|\n",
      "00000200  04 00 00 00 04 00 00 00  58 03 00 00 00 00 00 00  |........X.......|\n",
      "00000210  58 03 00 00 00 00 00 00  58 03 00 00 00 00 00 00  |X.......X.......|\n",
      "00000220  24 00 00 00 00 00 00 00  24 00 00 00 00 00 00 00  |$.......$.......|\n",
      "00000230  04 00 00 00 00 00 00 00  53 e5 74 64 04 00 00 00  |........S.td....|\n",
      "00000240  38 03 00 00 00 00 00 00  38 03 00 00 00 00 00 00  |8.......8.......|\n",
      "00000250  38 03 00 00 00 00 00 00  20 00 00 00 00 00 00 00  |8....... .......|\n",
      "00000260  20 00 00 00 00 00 00 00  08 00 00 00 00 00 00 00  | ...............|\n",
      "00000270  50 e5 74 64 04 00 00 00  00 20 00 00 00 00 00 00  |P.td..... ......|\n",
      "00000280  00 20 00 00 00 00 00 00  00 20 00 00 00 00 00 00  |. ....... ......|\n",
      "00000290  14 00 00 00 00 00 00 00  14 00 00 00 00 00 00 00  |................|\n",
      "000002a0  04 00 00 00 00 00 00 00  51 e5 74 64 06 00 00 00  |........Q.td....|\n",
      "000002b0  00 00 00 00 00 00 00 00  00 00 00 00 00 00 00 00  |................|\n",
      "*\n",
      "000002d0  00 00 00 00 00 00 00 00  10 00 00 00 00 00 00 00  |................|\n",
      "000002e0  52 e5 74 64 04 00 00 00  20 2f 00 00 00 00 00 00  |R.td.... /......|\n",
      "000002f0  20 3f 00 00 00 00 00 00  20 3f 00 00 00 00 00 00  | ?...... ?......|\n",
      "00000300  e0 00 00 00 00 00 00 00  e0 00 00 00 00 00 00 00  |................|\n",
      "00000310  01 00 00 00 00 00 00 00  2f 6c 69 62 36 34 2f 6c  |......../lib64/l|\n",
      "00000320  64 2d 6c 69 6e 75 78 2d  78 38 36 2d 36 34 2e 73  |d-linux-x86-64.s|\n",
      "00000330  6f 2e 32 00 00 00 00 00  04 00 00 00 10 00 00 00  |o.2.............|\n",
      "00000340  05 00 00 00 47 4e 55 00  02 00 00 c0 04 00 00 00  |....GNU.........|\n",
      "00000350  03 00 00 00 00 00 00 00  04 00 00 00 14 00 00 00  |................|\n",
      "00000360  03 00 00 00 47 4e 55 00  55 09 76 ac 2c c8 7d 45  |....GNU.U.v.,.}E|\n",
      "00000370  96 53 c3 2f 07 6e 2f ab  f1 fe c9 37 00 00 00 00  |.S./.n/....7....|\n",
      "00000380  01 00 00 00 01 00 00 00  01 00 00 00 00 00 00 00  |................|\n",
      "00000390  00 00 00 00 00 00 00 00  00 00 00 00 00 00 00 00  |................|\n",
      "*\n",
      "00001000  f3 0f 1e fa 55 48 89 e5  b8 2a 00 00 00 5d c3 00  |....UH...*...]..|\n",
      "00001010  00 00 00 00 00 00 00 00  00 00 00 00 00 00 00 00  |................|\n",
      "*\n",
      "00002000  01 1b 03 3b 14 00 00 00  01 00 00 00 00 f0 ff ff  |...;............|\n",
      "00002010  30 00 00 00 00 00 00 00  14 00 00 00 00 00 00 00  |0...............|\n",
      "00002020  01 7a 52 00 01 78 10 01  1b 0c 07 08 90 01 00 00  |.zR..x..........|\n",
      "00002030  1c 00 00 00 1c 00 00 00  c8 ef ff ff 0f 00 00 00  |................|\n",
      "00002040  00 45 0e 10 86 02 43 0d  06 46 0c 07 08 00 00 00  |.E....C..F......|\n",
      "00002050  00 00 00 00 00 00 00 00  00 00 00 00 00 00 00 00  |................|\n",
      "*\n",
      "00002f20  f5 fe ff 6f 00 00 00 00  80 03 00 00 00 00 00 00  |...o............|\n",
      "00002f30  05 00 00 00 00 00 00 00  b8 03 00 00 00 00 00 00  |................|\n",
      "00002f40  06 00 00 00 00 00 00 00  a0 03 00 00 00 00 00 00  |................|\n",
      "00002f50  0a 00 00 00 00 00 00 00  01 00 00 00 00 00 00 00  |................|\n",
      "00002f60  0b 00 00 00 00 00 00 00  18 00 00 00 00 00 00 00  |................|\n",
      "00002f70  15 00 00 00 00 00 00 00  00 00 00 00 00 00 00 00  |................|\n",
      "00002f80  1e 00 00 00 00 00 00 00  08 00 00 00 00 00 00 00  |................|\n",
      "00002f90  fb ff ff 6f 00 00 00 00  01 00 00 08 00 00 00 00  |...o............|\n",
      "00002fa0  00 00 00 00 00 00 00 00  00 00 00 00 00 00 00 00  |................|\n",
      "*\n",
      "00003000  47 43 43 3a 20 28 55 62  75 6e 74 75 20 39 2e 33  |GCC: (Ubuntu 9.3|\n",
      "00003010  2e 30 2d 31 37 75 62 75  6e 74 75 31 7e 32 30 2e  |.0-17ubuntu1~20.|\n",
      "00003020  30 34 29 20 39 2e 33 2e  30 00 00 2e 73 68 73 74  |04) 9.3.0...shst|\n",
      "00003030  72 74 61 62 00 2e 69 6e  74 65 72 70 00 2e 6e 6f  |rtab..interp..no|\n",
      "00003040  74 65 2e 67 6e 75 2e 70  72 6f 70 65 72 74 79 00  |te.gnu.property.|\n",
      "00003050  2e 6e 6f 74 65 2e 67 6e  75 2e 62 75 69 6c 64 2d  |.note.gnu.build-|\n",
      "00003060  69 64 00 2e 67 6e 75 2e  68 61 73 68 00 2e 64 79  |id..gnu.hash..dy|\n",
      "00003070  6e 73 79 6d 00 2e 64 79  6e 73 74 72 00 2e 74 65  |nsym..dynstr..te|\n",
      "00003080  78 74 00 2e 65 68 5f 66  72 61 6d 65 5f 68 64 72  |xt..eh_frame_hdr|\n",
      "00003090  00 2e 65 68 5f 66 72 61  6d 65 00 2e 64 79 6e 61  |..eh_frame..dyna|\n",
      "000030a0  6d 69 63 00 2e 63 6f 6d  6d 65 6e 74 00 00 00 00  |mic..comment....|\n",
      "000030b0  00 00 00 00 00 00 00 00  00 00 00 00 00 00 00 00  |................|\n",
      "*\n",
      "000030f0  0b 00 00 00 01 00 00 00  02 00 00 00 00 00 00 00  |................|\n",
      "00003100  18 03 00 00 00 00 00 00  18 03 00 00 00 00 00 00  |................|\n",
      "00003110  1c 00 00 00 00 00 00 00  00 00 00 00 00 00 00 00  |................|\n",
      "00003120  01 00 00 00 00 00 00 00  00 00 00 00 00 00 00 00  |................|\n",
      "00003130  13 00 00 00 07 00 00 00  02 00 00 00 00 00 00 00  |................|\n",
      "00003140  38 03 00 00 00 00 00 00  38 03 00 00 00 00 00 00  |8.......8.......|\n",
      "00003150  20 00 00 00 00 00 00 00  00 00 00 00 00 00 00 00  | ...............|\n",
      "00003160  08 00 00 00 00 00 00 00  00 00 00 00 00 00 00 00  |................|\n",
      "00003170  26 00 00 00 07 00 00 00  02 00 00 00 00 00 00 00  |&...............|\n",
      "00003180  58 03 00 00 00 00 00 00  58 03 00 00 00 00 00 00  |X.......X.......|\n",
      "00003190  24 00 00 00 00 00 00 00  00 00 00 00 00 00 00 00  |$...............|\n",
      "000031a0  04 00 00 00 00 00 00 00  00 00 00 00 00 00 00 00  |................|\n",
      "000031b0  39 00 00 00 f6 ff ff 6f  02 00 00 00 00 00 00 00  |9......o........|\n",
      "000031c0  80 03 00 00 00 00 00 00  80 03 00 00 00 00 00 00  |................|\n",
      "000031d0  1c 00 00 00 00 00 00 00  05 00 00 00 00 00 00 00  |................|\n",
      "000031e0  08 00 00 00 00 00 00 00  00 00 00 00 00 00 00 00  |................|\n",
      "000031f0  43 00 00 00 0b 00 00 00  02 00 00 00 00 00 00 00  |C...............|\n",
      "00003200  a0 03 00 00 00 00 00 00  a0 03 00 00 00 00 00 00  |................|\n",
      "00003210  18 00 00 00 00 00 00 00  06 00 00 00 01 00 00 00  |................|\n",
      "00003220  08 00 00 00 00 00 00 00  18 00 00 00 00 00 00 00  |................|\n",
      "00003230  4b 00 00 00 03 00 00 00  02 00 00 00 00 00 00 00  |K...............|\n",
      "00003240  b8 03 00 00 00 00 00 00  b8 03 00 00 00 00 00 00  |................|\n",
      "00003250  01 00 00 00 00 00 00 00  00 00 00 00 00 00 00 00  |................|\n",
      "*\n",
      "00003270  53 00 00 00 01 00 00 00  06 00 00 00 00 00 00 00  |S...............|\n",
      "00003280  00 10 00 00 00 00 00 00  00 10 00 00 00 00 00 00  |................|\n",
      "00003290  0f 00 00 00 00 00 00 00  00 00 00 00 00 00 00 00  |................|\n",
      "000032a0  01 00 00 00 00 00 00 00  00 00 00 00 00 00 00 00  |................|\n",
      "000032b0  59 00 00 00 01 00 00 00  02 00 00 00 00 00 00 00  |Y...............|\n",
      "000032c0  00 20 00 00 00 00 00 00  00 20 00 00 00 00 00 00  |. ....... ......|\n",
      "000032d0  14 00 00 00 00 00 00 00  00 00 00 00 00 00 00 00  |................|\n",
      "000032e0  04 00 00 00 00 00 00 00  00 00 00 00 00 00 00 00  |................|\n",
      "000032f0  67 00 00 00 01 00 00 00  02 00 00 00 00 00 00 00  |g...............|\n",
      "00003300  18 20 00 00 00 00 00 00  18 20 00 00 00 00 00 00  |. ....... ......|\n",
      "00003310  38 00 00 00 00 00 00 00  00 00 00 00 00 00 00 00  |8...............|\n",
      "00003320  08 00 00 00 00 00 00 00  00 00 00 00 00 00 00 00  |................|\n",
      "00003330  71 00 00 00 06 00 00 00  03 00 00 00 00 00 00 00  |q...............|\n",
      "00003340  20 3f 00 00 00 00 00 00  20 2f 00 00 00 00 00 00  | ?...... /......|\n",
      "00003350  e0 00 00 00 00 00 00 00  06 00 00 00 00 00 00 00  |................|\n",
      "00003360  08 00 00 00 00 00 00 00  10 00 00 00 00 00 00 00  |................|\n",
      "00003370  7a 00 00 00 01 00 00 00  30 00 00 00 00 00 00 00  |z.......0.......|\n",
      "00003380  00 00 00 00 00 00 00 00  00 30 00 00 00 00 00 00  |.........0......|\n",
      "00003390  2a 00 00 00 00 00 00 00  00 00 00 00 00 00 00 00  |*...............|\n",
      "000033a0  01 00 00 00 00 00 00 00  01 00 00 00 00 00 00 00  |................|\n",
      "000033b0  01 00 00 00 03 00 00 00  00 00 00 00 00 00 00 00  |................|\n",
      "000033c0  00 00 00 00 00 00 00 00  2a 30 00 00 00 00 00 00  |........*0......|\n",
      "000033d0  83 00 00 00 00 00 00 00  00 00 00 00 00 00 00 00  |................|\n",
      "000033e0  01 00 00 00 00 00 00 00  00 00 00 00 00 00 00 00  |................|\n",
      "000033f0\n"
     ]
    }
   ],
   "source": [
    "! hexdump -C a.out"
   ]
  },
  {
   "cell_type": "code",
   "execution_count": 31,
   "id": "4e2b5361",
   "metadata": {},
   "outputs": [
    {
     "name": "stdout",
     "output_type": "stream",
     "text": [
      "copy from `a.out' [elf64-x86-64] to `staUnA4g' [elf64-x86-64]\n"
     ]
    }
   ],
   "source": [
    "! strip --strip-all --verbose a.out"
   ]
  },
  {
   "cell_type": "code",
   "execution_count": 30,
   "id": "32e437fd",
   "metadata": {},
   "outputs": [
    {
     "name": "stdout",
     "output_type": "stream",
     "text": [
      "-rwxrwxr-x 1 13296 set 10 20:56 a.out\n"
     ]
    }
   ],
   "source": [
    "! ls -gG a.out"
   ]
  },
  {
   "cell_type": "code",
   "execution_count": 41,
   "id": "e6afc1ee",
   "metadata": {},
   "outputs": [
    {
     "name": "stderr",
     "output_type": "stream",
     "text": [
      "/usr/bin/ld: warning: cannot find entry symbol _start; not setting start address\n"
     ]
    }
   ],
   "source": [
    "%%bash\n",
    "gcc tiny.c -Wl,--gc-sections -fno-ident -Qn -s -nostartfiles -nostdlib  \\\n",
    "    -ffunction-sections -fdata-sections  \\"
   ]
  },
  {
   "cell_type": "code",
   "execution_count": 42,
   "id": "f3d098d2",
   "metadata": {},
   "outputs": [
    {
     "name": "stdout",
     "output_type": "stream",
     "text": [
      "-rwxrwxr-x 1 9016 set 10 21:15 a.out\n"
     ]
    }
   ],
   "source": [
    "! ls -gG a.out"
   ]
  },
  {
   "cell_type": "code",
   "execution_count": 48,
   "id": "0c305592",
   "metadata": {},
   "outputs": [],
   "source": [
    "! strip a.out --remove-section=.comment --remove-section=.note* \\\n",
    "    --remove-section=.gnu.hash"
   ]
  },
  {
   "cell_type": "code",
   "execution_count": 49,
   "id": "8c03b640",
   "metadata": {},
   "outputs": [
    {
     "name": "stdout",
     "output_type": "stream",
     "text": [
      "-rwxrwxr-x 1 8848 set 10 21:21 a.out\n"
     ]
    }
   ],
   "source": [
    "! ls -gG a.out"
   ]
  },
  {
   "cell_type": "code",
   "execution_count": 51,
   "id": "e24ec714",
   "metadata": {},
   "outputs": [
    {
     "name": "stdout",
     "output_type": "stream",
     "text": [
      "\n",
      "a.out:     file format elf64-x86-64\n",
      "a.out\n",
      "architecture: i386:x86-64, flags 0x00000150:\n",
      "HAS_SYMS, DYNAMIC, D_PAGED\n",
      "start address 0x0000000000000000\n",
      "\n",
      "Program Header:\n",
      "    PHDR off    0x0000000000000040 vaddr 0x0000000000000040 paddr 0x0000000000000040 align 2**3\n",
      "         filesz 0x0000000000000230 memsz 0x0000000000000230 flags r--\n",
      "  INTERP off    0x00000000000002a8 vaddr 0x00000000000002a8 paddr 0x00000000000002a8 align 2**0\n",
      "         filesz 0x000000000000001c memsz 0x000000000000001c flags r--\n",
      "    LOAD off    0x0000000000000000 vaddr 0x0000000000000000 paddr 0x0000000000000000 align 2**12\n",
      "         filesz 0x0000000000001010 memsz 0x0000000000001010 flags r--\n",
      "    LOAD off    0x0000000000001f20 vaddr 0x0000000000002f20 paddr 0x0000000000002f20 align 2**12\n",
      "         filesz 0x00000000000000e0 memsz 0x00000000000000e0 flags rw-\n",
      " DYNAMIC off    0x0000000000001f20 vaddr 0x0000000000002f20 paddr 0x0000000000002f20 align 2**3\n",
      "         filesz 0x00000000000000e0 memsz 0x00000000000000e0 flags rw-\n",
      "    NOTE off    0x0000000000000000 vaddr 0x00000000000002c8 paddr 0x0000000000000000 align 2**3\n",
      "         filesz 0x0000000000000000 memsz 0x0000000000000000 flags r--\n",
      "    NOTE off    0x0000000000000000 vaddr 0x00000000000002e8 paddr 0x0000000000000000 align 2**3\n",
      "         filesz 0x0000000000000000 memsz 0x0000000000000000 flags r--\n",
      "0x6474e553 off    0x0000000000000000 vaddr 0x00000000000002c8 paddr 0x0000000000000000 align 2**3\n",
      "         filesz 0x0000000000000000 memsz 0x0000000000000000 flags r--\n",
      "EH_FRAME off    0x0000000000001000 vaddr 0x0000000000001000 paddr 0x0000000000001000 align 2**2\n",
      "         filesz 0x000000000000000c memsz 0x000000000000000c flags r--\n",
      "   STACK off    0x0000000000000000 vaddr 0x0000000000000000 paddr 0x0000000000000000 align 2**3\n",
      "         filesz 0x0000000000000000 memsz 0x0000000000000000 flags rw-\n",
      "\n",
      "Dynamic Section:\n",
      "  GNU_HASH             0x0000000000000310\n",
      "  STRTAB               0x0000000000000348\n",
      "  SYMTAB               0x0000000000000330\n",
      "  STRSZ                0x0000000000000001\n",
      "  SYMENT               0x0000000000000018\n",
      "  DEBUG                0x0000000000000000\n",
      "  FLAGS                0x0000000000000008\n",
      "  FLAGS_1              0x0000000008000001\n",
      "\n",
      "Sections:\n",
      "Idx Name          Size      VMA               LMA               File off  Algn\n",
      "  0 .interp       0000001c  00000000000002a8  00000000000002a8  000002a8  2**0\n",
      "                  CONTENTS, ALLOC, LOAD, READONLY, DATA\n",
      "  1 .gnu.hash     0000001c  0000000000000310  0000000000000310  00000310  2**3\n",
      "                  CONTENTS, ALLOC, LOAD, READONLY, DATA\n",
      "  2 .dynsym       00000018  0000000000000330  0000000000000330  00000330  2**3\n",
      "                  CONTENTS, ALLOC, LOAD, READONLY, DATA\n",
      "  3 .dynstr       00000001  0000000000000348  0000000000000348  00000348  2**0\n",
      "                  CONTENTS, ALLOC, LOAD, READONLY, DATA\n",
      "  4 .eh_frame_hdr 0000000c  0000000000001000  0000000000001000  00001000  2**2\n",
      "                  CONTENTS, ALLOC, LOAD, READONLY, DATA\n",
      "  5 .eh_frame     00000000  0000000000001010  0000000000001010  00001010  2**3\n",
      "                  CONTENTS, ALLOC, LOAD, READONLY, DATA\n",
      "  6 .dynamic      000000e0  0000000000002f20  0000000000002f20  00001f20  2**3\n",
      "                  CONTENTS, ALLOC, LOAD, DATA\n",
      "SYMBOL TABLE:\n",
      "no symbols\n",
      "\n",
      "\n"
     ]
    }
   ],
   "source": [
    "! objdump -x a.out"
   ]
  },
  {
   "cell_type": "code",
   "execution_count": 68,
   "id": "4ebaafe0",
   "metadata": {},
   "outputs": [],
   "source": [
    "! gcc helloworld.c"
   ]
  },
  {
   "cell_type": "code",
   "execution_count": 69,
   "id": "fd01c028",
   "metadata": {},
   "outputs": [
    {
     "name": "stdout",
     "output_type": "stream",
     "text": [
      "\n",
      "a.out:     file format elf64-x86-64\n",
      "\n",
      "\n",
      "Disassembly of section .init:\n",
      "\n",
      "0000000000001000 <_init>:\n",
      "    1000:\tf3 0f 1e fa          \tendbr64 \n",
      "    1004:\t48 83 ec 08          \tsub    $0x8,%rsp\n",
      "    1008:\t48 8b 05 d9 2f 00 00 \tmov    0x2fd9(%rip),%rax        # 3fe8 <__gmon_start__>\n",
      "    100f:\t48 85 c0             \ttest   %rax,%rax\n",
      "    1012:\t74 02                \tje     1016 <_init+0x16>\n",
      "    1014:\tff d0                \tcallq  *%rax\n",
      "    1016:\t48 83 c4 08          \tadd    $0x8,%rsp\n",
      "    101a:\tc3                   \tretq   \n",
      "\n",
      "Disassembly of section .plt:\n",
      "\n",
      "0000000000001020 <.plt>:\n",
      "    1020:\tff 35 9a 2f 00 00    \tpushq  0x2f9a(%rip)        # 3fc0 <_GLOBAL_OFFSET_TABLE_+0x8>\n",
      "    1026:\tf2 ff 25 9b 2f 00 00 \tbnd jmpq *0x2f9b(%rip)        # 3fc8 <_GLOBAL_OFFSET_TABLE_+0x10>\n",
      "    102d:\t0f 1f 00             \tnopl   (%rax)\n",
      "    1030:\tf3 0f 1e fa          \tendbr64 \n",
      "    1034:\t68 00 00 00 00       \tpushq  $0x0\n",
      "    1039:\tf2 e9 e1 ff ff ff    \tbnd jmpq 1020 <.plt>\n",
      "    103f:\t90                   \tnop\n",
      "\n",
      "Disassembly of section .plt.got:\n",
      "\n",
      "0000000000001040 <__cxa_finalize@plt>:\n",
      "    1040:\tf3 0f 1e fa          \tendbr64 \n",
      "    1044:\tf2 ff 25 ad 2f 00 00 \tbnd jmpq *0x2fad(%rip)        # 3ff8 <__cxa_finalize@GLIBC_2.2.5>\n",
      "    104b:\t0f 1f 44 00 00       \tnopl   0x0(%rax,%rax,1)\n",
      "\n",
      "Disassembly of section .plt.sec:\n",
      "\n",
      "0000000000001050 <puts@plt>:\n",
      "    1050:\tf3 0f 1e fa          \tendbr64 \n",
      "    1054:\tf2 ff 25 75 2f 00 00 \tbnd jmpq *0x2f75(%rip)        # 3fd0 <puts@GLIBC_2.2.5>\n",
      "    105b:\t0f 1f 44 00 00       \tnopl   0x0(%rax,%rax,1)\n",
      "\n",
      "Disassembly of section .text:\n",
      "\n",
      "0000000000001060 <_start>:\n",
      "    1060:\tf3 0f 1e fa          \tendbr64 \n",
      "    1064:\t31 ed                \txor    %ebp,%ebp\n",
      "    1066:\t49 89 d1             \tmov    %rdx,%r9\n",
      "    1069:\t5e                   \tpop    %rsi\n",
      "    106a:\t48 89 e2             \tmov    %rsp,%rdx\n",
      "    106d:\t48 83 e4 f0          \tand    $0xfffffffffffffff0,%rsp\n",
      "    1071:\t50                   \tpush   %rax\n",
      "    1072:\t54                   \tpush   %rsp\n",
      "    1073:\t4c 8d 05 56 01 00 00 \tlea    0x156(%rip),%r8        # 11d0 <__libc_csu_fini>\n",
      "    107a:\t48 8d 0d df 00 00 00 \tlea    0xdf(%rip),%rcx        # 1160 <__libc_csu_init>\n",
      "    1081:\t48 8d 3d c1 00 00 00 \tlea    0xc1(%rip),%rdi        # 1149 <main>\n",
      "    1088:\tff 15 52 2f 00 00    \tcallq  *0x2f52(%rip)        # 3fe0 <__libc_start_main@GLIBC_2.2.5>\n",
      "    108e:\tf4                   \thlt    \n",
      "    108f:\t90                   \tnop\n",
      "\n",
      "0000000000001090 <deregister_tm_clones>:\n",
      "    1090:\t48 8d 3d 79 2f 00 00 \tlea    0x2f79(%rip),%rdi        # 4010 <__TMC_END__>\n",
      "    1097:\t48 8d 05 72 2f 00 00 \tlea    0x2f72(%rip),%rax        # 4010 <__TMC_END__>\n",
      "    109e:\t48 39 f8             \tcmp    %rdi,%rax\n",
      "    10a1:\t74 15                \tje     10b8 <deregister_tm_clones+0x28>\n",
      "    10a3:\t48 8b 05 2e 2f 00 00 \tmov    0x2f2e(%rip),%rax        # 3fd8 <_ITM_deregisterTMCloneTable>\n",
      "    10aa:\t48 85 c0             \ttest   %rax,%rax\n",
      "    10ad:\t74 09                \tje     10b8 <deregister_tm_clones+0x28>\n",
      "    10af:\tff e0                \tjmpq   *%rax\n",
      "    10b1:\t0f 1f 80 00 00 00 00 \tnopl   0x0(%rax)\n",
      "    10b8:\tc3                   \tretq   \n",
      "    10b9:\t0f 1f 80 00 00 00 00 \tnopl   0x0(%rax)\n",
      "\n",
      "00000000000010c0 <register_tm_clones>:\n",
      "    10c0:\t48 8d 3d 49 2f 00 00 \tlea    0x2f49(%rip),%rdi        # 4010 <__TMC_END__>\n",
      "    10c7:\t48 8d 35 42 2f 00 00 \tlea    0x2f42(%rip),%rsi        # 4010 <__TMC_END__>\n",
      "    10ce:\t48 29 fe             \tsub    %rdi,%rsi\n",
      "    10d1:\t48 89 f0             \tmov    %rsi,%rax\n",
      "    10d4:\t48 c1 ee 3f          \tshr    $0x3f,%rsi\n",
      "    10d8:\t48 c1 f8 03          \tsar    $0x3,%rax\n",
      "    10dc:\t48 01 c6             \tadd    %rax,%rsi\n",
      "    10df:\t48 d1 fe             \tsar    %rsi\n",
      "    10e2:\t74 14                \tje     10f8 <register_tm_clones+0x38>\n",
      "    10e4:\t48 8b 05 05 2f 00 00 \tmov    0x2f05(%rip),%rax        # 3ff0 <_ITM_registerTMCloneTable>\n",
      "    10eb:\t48 85 c0             \ttest   %rax,%rax\n",
      "    10ee:\t74 08                \tje     10f8 <register_tm_clones+0x38>\n",
      "    10f0:\tff e0                \tjmpq   *%rax\n",
      "    10f2:\t66 0f 1f 44 00 00    \tnopw   0x0(%rax,%rax,1)\n",
      "    10f8:\tc3                   \tretq   \n",
      "    10f9:\t0f 1f 80 00 00 00 00 \tnopl   0x0(%rax)\n",
      "\n",
      "0000000000001100 <__do_global_dtors_aux>:\n",
      "    1100:\tf3 0f 1e fa          \tendbr64 \n",
      "    1104:\t80 3d 05 2f 00 00 00 \tcmpb   $0x0,0x2f05(%rip)        # 4010 <__TMC_END__>\n",
      "    110b:\t75 2b                \tjne    1138 <__do_global_dtors_aux+0x38>\n",
      "    110d:\t55                   \tpush   %rbp\n",
      "    110e:\t48 83 3d e2 2e 00 00 \tcmpq   $0x0,0x2ee2(%rip)        # 3ff8 <__cxa_finalize@GLIBC_2.2.5>\n",
      "    1115:\t00 \n",
      "    1116:\t48 89 e5             \tmov    %rsp,%rbp\n",
      "    1119:\t74 0c                \tje     1127 <__do_global_dtors_aux+0x27>\n",
      "    111b:\t48 8b 3d e6 2e 00 00 \tmov    0x2ee6(%rip),%rdi        # 4008 <__dso_handle>\n",
      "    1122:\te8 19 ff ff ff       \tcallq  1040 <__cxa_finalize@plt>\n",
      "    1127:\te8 64 ff ff ff       \tcallq  1090 <deregister_tm_clones>\n",
      "    112c:\tc6 05 dd 2e 00 00 01 \tmovb   $0x1,0x2edd(%rip)        # 4010 <__TMC_END__>\n",
      "    1133:\t5d                   \tpop    %rbp\n",
      "    1134:\tc3                   \tretq   \n",
      "    1135:\t0f 1f 00             \tnopl   (%rax)\n",
      "    1138:\tc3                   \tretq   \n",
      "    1139:\t0f 1f 80 00 00 00 00 \tnopl   0x0(%rax)\n",
      "\n",
      "0000000000001140 <frame_dummy>:\n",
      "    1140:\tf3 0f 1e fa          \tendbr64 \n",
      "    1144:\te9 77 ff ff ff       \tjmpq   10c0 <register_tm_clones>\n",
      "\n",
      "0000000000001149 <main>:\n",
      "    1149:\tf3 0f 1e fa          \tendbr64 \n",
      "    114d:\t55                   \tpush   %rbp\n",
      "    114e:\t48 89 e5             \tmov    %rsp,%rbp\n",
      "    1151:\t48 8d 3d ac 0e 00 00 \tlea    0xeac(%rip),%rdi        # 2004 <_IO_stdin_used+0x4>\n",
      "    1158:\te8 f3 fe ff ff       \tcallq  1050 <puts@plt>\n",
      "    115d:\t90                   \tnop\n",
      "    115e:\t5d                   \tpop    %rbp\n",
      "    115f:\tc3                   \tretq   \n",
      "\n",
      "0000000000001160 <__libc_csu_init>:\n",
      "    1160:\tf3 0f 1e fa          \tendbr64 \n",
      "    1164:\t41 57                \tpush   %r15\n",
      "    1166:\t4c 8d 3d 4b 2c 00 00 \tlea    0x2c4b(%rip),%r15        # 3db8 <__frame_dummy_init_array_entry>\n",
      "    116d:\t41 56                \tpush   %r14\n",
      "    116f:\t49 89 d6             \tmov    %rdx,%r14\n",
      "    1172:\t41 55                \tpush   %r13\n",
      "    1174:\t49 89 f5             \tmov    %rsi,%r13\n",
      "    1177:\t41 54                \tpush   %r12\n",
      "    1179:\t41 89 fc             \tmov    %edi,%r12d\n",
      "    117c:\t55                   \tpush   %rbp\n",
      "    117d:\t48 8d 2d 3c 2c 00 00 \tlea    0x2c3c(%rip),%rbp        # 3dc0 <__do_global_dtors_aux_fini_array_entry>\n",
      "    1184:\t53                   \tpush   %rbx\n",
      "    1185:\t4c 29 fd             \tsub    %r15,%rbp\n",
      "    1188:\t48 83 ec 08          \tsub    $0x8,%rsp\n",
      "    118c:\te8 6f fe ff ff       \tcallq  1000 <_init>\n",
      "    1191:\t48 c1 fd 03          \tsar    $0x3,%rbp\n",
      "    1195:\t74 1f                \tje     11b6 <__libc_csu_init+0x56>\n",
      "    1197:\t31 db                \txor    %ebx,%ebx\n",
      "    1199:\t0f 1f 80 00 00 00 00 \tnopl   0x0(%rax)\n",
      "    11a0:\t4c 89 f2             \tmov    %r14,%rdx\n",
      "    11a3:\t4c 89 ee             \tmov    %r13,%rsi\n",
      "    11a6:\t44 89 e7             \tmov    %r12d,%edi\n",
      "    11a9:\t41 ff 14 df          \tcallq  *(%r15,%rbx,8)\n",
      "    11ad:\t48 83 c3 01          \tadd    $0x1,%rbx\n",
      "    11b1:\t48 39 dd             \tcmp    %rbx,%rbp\n",
      "    11b4:\t75 ea                \tjne    11a0 <__libc_csu_init+0x40>\n",
      "    11b6:\t48 83 c4 08          \tadd    $0x8,%rsp\n",
      "    11ba:\t5b                   \tpop    %rbx\n",
      "    11bb:\t5d                   \tpop    %rbp\n",
      "    11bc:\t41 5c                \tpop    %r12\n",
      "    11be:\t41 5d                \tpop    %r13\n",
      "    11c0:\t41 5e                \tpop    %r14\n",
      "    11c2:\t41 5f                \tpop    %r15\n",
      "    11c4:\tc3                   \tretq   \n",
      "    11c5:\t66 66 2e 0f 1f 84 00 \tdata16 nopw %cs:0x0(%rax,%rax,1)\n",
      "    11cc:\t00 00 00 00 \n",
      "\n",
      "00000000000011d0 <__libc_csu_fini>:\n",
      "    11d0:\tf3 0f 1e fa          \tendbr64 \n",
      "    11d4:\tc3                   \tretq   \n",
      "\n",
      "Disassembly of section .fini:\n",
      "\n",
      "00000000000011d8 <_fini>:\n",
      "    11d8:\tf3 0f 1e fa          \tendbr64 \n",
      "    11dc:\t48 83 ec 08          \tsub    $0x8,%rsp\n",
      "    11e0:\t48 83 c4 08          \tadd    $0x8,%rsp\n",
      "    11e4:\tc3                   \tretq   \n"
     ]
    }
   ],
   "source": [
    "! objdump -d a.out"
   ]
  },
  {
   "cell_type": "code",
   "execution_count": 2,
   "id": "66ad035a",
   "metadata": {},
   "outputs": [
    {
     "name": "stdout",
     "output_type": "stream",
     "text": [
      "   text\t   data\t    bss\t    dec\t    hex\tfilename\n",
      "   1551\t    600\t      8\t   2159\t    86f\ta.out\n"
     ]
    }
   ],
   "source": [
    "! size a.out    # text = code"
   ]
  },
  {
   "cell_type": "code",
   "execution_count": 3,
   "id": "ec1717ff",
   "metadata": {},
   "outputs": [
    {
     "name": "stdout",
     "output_type": "stream",
     "text": [
      "0000000000004010 B __bss_start\n",
      "0000000000004010 b completed.8060\n",
      "                 w __cxa_finalize@@GLIBC_2.2.5\n",
      "0000000000004000 D __data_start\n",
      "0000000000004000 W data_start\n",
      "0000000000001090 t deregister_tm_clones\n",
      "0000000000001100 t __do_global_dtors_aux\n",
      "0000000000003dc0 d __do_global_dtors_aux_fini_array_entry\n",
      "0000000000004008 D __dso_handle\n",
      "0000000000003dc8 d _DYNAMIC\n",
      "0000000000004010 D _edata\n",
      "0000000000004018 B _end\n",
      "00000000000011d8 T _fini\n",
      "0000000000001140 t frame_dummy\n",
      "0000000000003db8 d __frame_dummy_init_array_entry\n",
      "000000000000215c r __FRAME_END__\n",
      "0000000000003fb8 d _GLOBAL_OFFSET_TABLE_\n",
      "                 w __gmon_start__\n",
      "0000000000002014 r __GNU_EH_FRAME_HDR\n",
      "0000000000001000 t _init\n",
      "0000000000003dc0 d __init_array_end\n",
      "0000000000003db8 d __init_array_start\n",
      "0000000000002000 R _IO_stdin_used\n",
      "                 w _ITM_deregisterTMCloneTable\n",
      "                 w _ITM_registerTMCloneTable\n",
      "00000000000011d0 T __libc_csu_fini\n",
      "0000000000001160 T __libc_csu_init\n",
      "                 U __libc_start_main@@GLIBC_2.2.5\n",
      "0000000000001149 T main\n",
      "                 U puts@@GLIBC_2.2.5\n",
      "00000000000010c0 t register_tm_clones\n",
      "0000000000001060 T _start\n",
      "0000000000004010 D __TMC_END__\n"
     ]
    }
   ],
   "source": [
    "! nm a.out    # symbols"
   ]
  }
 ],
 "metadata": {
  "kernelspec": {
   "display_name": "Python 3 (ipykernel)",
   "language": "python",
   "name": "python3"
  },
  "language_info": {
   "codemirror_mode": {
    "name": "ipython",
    "version": 3
   },
   "file_extension": ".py",
   "mimetype": "text/x-python",
   "name": "python",
   "nbconvert_exporter": "python",
   "pygments_lexer": "ipython3",
   "version": "3.12.5"
  }
 },
 "nbformat": 4,
 "nbformat_minor": 5
}
