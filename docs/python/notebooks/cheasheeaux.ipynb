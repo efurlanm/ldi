{
 "cells": [
  {
   "cell_type": "markdown",
   "id": "92ca1a40-6fd6-4d6e-9827-d24e75d1ea03",
   "metadata": {},
   "source": [
    "# Python - Cheat Sheet\n",
    "\n",
    "Auxiliary Notebook used in the cheat sheet to confirm the operation of some items."
   ]
  },
  {
   "cell_type": "markdown",
   "id": "424b08dd-3a61-43ef-b97f-effb98f0b480",
   "metadata": {},
   "source": [
    "## 4. Logical operator"
   ]
  },
  {
   "cell_type": "code",
   "execution_count": 4,
   "id": "fa7c524d-10d0-4e5c-804e-e5a9d78c4e2e",
   "metadata": {},
   "outputs": [
    {
     "data": {
      "text/plain": [
       "True"
      ]
     },
     "execution_count": 4,
     "metadata": {},
     "output_type": "execute_result"
    }
   ],
   "source": [
    "\"a\" in \"False\""
   ]
  },
  {
   "cell_type": "code",
   "execution_count": 5,
   "id": "d0dbeb1e-0baf-4c3a-846b-b45968467db5",
   "metadata": {},
   "outputs": [
    {
     "data": {
      "text/plain": [
       "False"
      ]
     },
     "execution_count": 5,
     "metadata": {},
     "output_type": "execute_result"
    }
   ],
   "source": [
    "'a' not in 'false'"
   ]
  },
  {
   "cell_type": "code",
   "execution_count": 6,
   "id": "5393acb6-efe7-4b7d-8ba4-f30d3e5354b7",
   "metadata": {},
   "outputs": [
    {
     "data": {
      "text/plain": [
       "False"
      ]
     },
     "execution_count": 6,
     "metadata": {},
     "output_type": "execute_result"
    }
   ],
   "source": [
    "5 not in (2, 5, 3)"
   ]
  },
  {
   "cell_type": "code",
   "execution_count": 9,
   "id": "6faa1464-1acf-433c-a314-41ba77a90053",
   "metadata": {},
   "outputs": [
    {
     "data": {
      "text/plain": [
       "False"
      ]
     },
     "execution_count": 9,
     "metadata": {},
     "output_type": "execute_result"
    }
   ],
   "source": [
    "3 not in [2, 5, 3]"
   ]
  },
  {
   "cell_type": "code",
   "execution_count": 10,
   "id": "2c3e4920-5cbd-4ec0-94d9-a6b21c933721",
   "metadata": {},
   "outputs": [
    {
     "data": {
      "text/plain": [
       "True"
      ]
     },
     "execution_count": 10,
     "metadata": {},
     "output_type": "execute_result"
    }
   ],
   "source": [
    "4 not in [2, 5, 3]"
   ]
  },
  {
   "cell_type": "code",
   "execution_count": null,
   "id": "232bc8b0-e4fd-4dd9-8fec-4aabdcbb5477",
   "metadata": {},
   "outputs": [],
   "source": []
  }
 ],
 "metadata": {
  "kernelspec": {
   "display_name": "Python 3 (ipykernel)",
   "language": "python",
   "name": "python3"
  },
  "language_info": {
   "codemirror_mode": {
    "name": "ipython",
    "version": 3
   },
   "file_extension": ".py",
   "mimetype": "text/x-python",
   "name": "python",
   "nbconvert_exporter": "python",
   "pygments_lexer": "ipython3",
   "version": "3.12.5"
  }
 },
 "nbformat": 4,
 "nbformat_minor": 5
}
