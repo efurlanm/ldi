{
 "cells": [
  {
   "cell_type": "markdown",
   "id": "92ca1a40-6fd6-4d6e-9827-d24e75d1ea03",
   "metadata": {},
   "source": [
    "# Python - Cheat Sheet\n",
    "\n",
    "Auxiliary Notebook used in the cheat sheet to confirm the operation of some items."
   ]
  },
  {
   "cell_type": "markdown",
   "id": "424b08dd-3a61-43ef-b97f-effb98f0b480",
   "metadata": {},
   "source": [
    "## 4. Logical operator"
   ]
  },
  {
   "cell_type": "code",
   "execution_count": 4,
   "id": "fa7c524d-10d0-4e5c-804e-e5a9d78c4e2e",
   "metadata": {},
   "outputs": [
    {
     "data": {
      "text/plain": [
       "True"
      ]
     },
     "execution_count": 4,
     "metadata": {},
     "output_type": "execute_result"
    }
   ],
   "source": [
    "\"a\" in \"False\""
   ]
  },
  {
   "cell_type": "code",
   "execution_count": 5,
   "id": "d0dbeb1e-0baf-4c3a-846b-b45968467db5",
   "metadata": {},
   "outputs": [
    {
     "data": {
      "text/plain": [
       "False"
      ]
     },
     "execution_count": 5,
     "metadata": {},
     "output_type": "execute_result"
    }
   ],
   "source": [
    "'a' not in 'false'"
   ]
  },
  {
   "cell_type": "code",
   "execution_count": 6,
   "id": "5393acb6-efe7-4b7d-8ba4-f30d3e5354b7",
   "metadata": {},
   "outputs": [
    {
     "data": {
      "text/plain": [
       "False"
      ]
     },
     "execution_count": 6,
     "metadata": {},
     "output_type": "execute_result"
    }
   ],
   "source": [
    "5 not in (2, 5, 3)"
   ]
  },
  {
   "cell_type": "code",
   "execution_count": 9,
   "id": "6faa1464-1acf-433c-a314-41ba77a90053",
   "metadata": {},
   "outputs": [
    {
     "data": {
      "text/plain": [
       "False"
      ]
     },
     "execution_count": 9,
     "metadata": {},
     "output_type": "execute_result"
    }
   ],
   "source": [
    "3 not in [2, 5, 3]"
   ]
  },
  {
   "cell_type": "code",
   "execution_count": 10,
   "id": "2c3e4920-5cbd-4ec0-94d9-a6b21c933721",
   "metadata": {},
   "outputs": [
    {
     "data": {
      "text/plain": [
       "True"
      ]
     },
     "execution_count": 10,
     "metadata": {},
     "output_type": "execute_result"
    }
   ],
   "source": [
    "4 not in [2, 5, 3]"
   ]
  },
  {
   "cell_type": "markdown",
   "id": "3a5b907b-3bbf-48c6-9afe-de779a94b177",
   "metadata": {},
   "source": [
    "## all(iterable)\n",
    "\n",
    "<https://docs.python.org/2/library/functions.html?_x_tr_sl=auto&_x_tr_tl=en&_x_tr_hl=en-US&_x_tr_pto=wapp#all>"
   ]
  },
  {
   "cell_type": "code",
   "execution_count": 3,
   "id": "2a8ae5b7-b5d4-43be-92b6-d793419b0820",
   "metadata": {},
   "outputs": [
    {
     "data": {
      "text/plain": [
       "(True, False, True)"
      ]
     },
     "execution_count": 3,
     "metadata": {},
     "output_type": "execute_result"
    }
   ],
   "source": [
    "a = [True, True, True]\n",
    "b = [True, True, False]\n",
    "c = []\n",
    "all(a), all(b), all(c)"
   ]
  },
  {
   "cell_type": "markdown",
   "id": "5c20bc43-c80c-4639-9258-39d70c5cda17",
   "metadata": {},
   "source": [
    "## any()"
   ]
  },
  {
   "cell_type": "code",
   "execution_count": 4,
   "id": "9babf7fe-32be-43e4-a132-3a2b128bb79f",
   "metadata": {},
   "outputs": [
    {
     "data": {
      "text/plain": [
       "(True, True, False)"
      ]
     },
     "execution_count": 4,
     "metadata": {},
     "output_type": "execute_result"
    }
   ],
   "source": [
    "a = [True, True, True]\n",
    "b = [True, True, False]\n",
    "c = []\n",
    "any(a), any(b), any(c)"
   ]
  },
  {
   "cell_type": "markdown",
   "id": "dd279bdc-6431-4acb-ac01-89178f93eb8b",
   "metadata": {},
   "source": [
    "## bytearray"
   ]
  },
  {
   "cell_type": "code",
   "execution_count": 12,
   "id": "dea77800-2728-4844-bd6c-794e02490157",
   "metadata": {},
   "outputs": [
    {
     "name": "stdout",
     "output_type": "stream",
     "text": [
      "bytearray(b'\\x02\\x03\\x05\\x07')\n"
     ]
    }
   ],
   "source": [
    "prime = [2, 3, 5, 7]\n",
    "byte = bytearray(prime)\n",
    "print(byte)"
   ]
  },
  {
   "cell_type": "markdown",
   "id": "0e469301-826e-4590-8bcd-c62885f0e200",
   "metadata": {},
   "source": [
    "## callable"
   ]
  },
  {
   "cell_type": "code",
   "execution_count": 13,
   "id": "910c9e7d-f59e-4c59-93ba-1cef7380c729",
   "metadata": {},
   "outputs": [
    {
     "name": "stdout",
     "output_type": "stream",
     "text": [
      "False\n"
     ]
    }
   ],
   "source": [
    "x = 10\n",
    "print(callable(x))"
   ]
  },
  {
   "cell_type": "code",
   "execution_count": 14,
   "id": "ebc8f1cb-e60a-4c4e-83cb-635ac5c8cd24",
   "metadata": {},
   "outputs": [
    {
     "name": "stdout",
     "output_type": "stream",
     "text": [
      "True\n"
     ]
    }
   ],
   "source": [
    "def func(x):\n",
    "    return (x)\n",
    "\n",
    "y = func\n",
    "print(callable(y))"
   ]
  },
  {
   "cell_type": "code",
   "execution_count": null,
   "id": "bcc30223-baa5-4229-b4a7-cc837e3358b5",
   "metadata": {},
   "outputs": [],
   "source": []
  }
 ],
 "metadata": {
  "kernelspec": {
   "display_name": "Python 3 (ipykernel)",
   "language": "python",
   "name": "python3"
  },
  "language_info": {
   "codemirror_mode": {
    "name": "ipython",
    "version": 3
   },
   "file_extension": ".py",
   "mimetype": "text/x-python",
   "name": "python",
   "nbconvert_exporter": "python",
   "pygments_lexer": "ipython3",
   "version": "3.12.5"
  }
 },
 "nbformat": 4,
 "nbformat_minor": 5
}
