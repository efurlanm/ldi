{
 "cells": [
  {
   "cell_type": "markdown",
   "id": "61eb3638-0d4c-4c8c-8ae4-05bf488e85bb",
   "metadata": {},
   "source": [
    "# Variables\n",
    "\n",
    "*Last edited: 2024-11-26*\n",
    "\n",
    "## Notes\n",
    "\n",
    "* Everything in Python is an object: because almost everything (apart from reserved keywords) is an instance of a certain class and has some attributes.\n",
    "* Python is a dynamically typed language: in Python, variables don’t have types but the object they point to do. This means that the same variable can point to different objects over time. In contrast, in static languages, variables can only point to one type.\n",
    "* In Python, variables and data structures don't contain objects. They're pointers (they point to objects).\n",
    "* In Python a pointer just represents the connection between a variable and an object."
   ]
  },
  {
   "cell_type": "code",
   "execution_count": 1,
   "id": "b7b3b270-e64e-4cba-8bb7-2e8259631b26",
   "metadata": {},
   "outputs": [
    {
     "data": {
      "text/plain": [
       "int"
      ]
     },
     "execution_count": 1,
     "metadata": {},
     "output_type": "execute_result"
    }
   ],
   "source": [
    "x = 100\n",
    "type(x)"
   ]
  },
  {
   "cell_type": "markdown",
   "id": "31c2309c-26db-4111-b040-d116a451149d",
   "metadata": {},
   "source": [
    "`int` is the class itself - not a string representing it. You could use this class to create other integers. In the next cell, the class `int` is taking a string as a parameter and creating an integer:"
   ]
  },
  {
   "cell_type": "code",
   "execution_count": 2,
   "id": "d51df7c4-0c4e-456f-8735-47896002caab",
   "metadata": {},
   "outputs": [
    {
     "data": {
      "text/plain": [
       "123"
      ]
     },
     "execution_count": 2,
     "metadata": {},
     "output_type": "execute_result"
    }
   ],
   "source": [
    "int('123')"
   ]
  },
  {
   "cell_type": "markdown",
   "id": "91984b74-46de-44e8-a70f-2ee80df2236e",
   "metadata": {},
   "source": [
    "`type` is a metaclass type of which all classes are instances:"
   ]
  },
  {
   "cell_type": "code",
   "execution_count": 3,
   "id": "22188c79-d041-4bc9-9c1b-4f427a8dd635",
   "metadata": {},
   "outputs": [
    {
     "data": {
      "text/plain": [
       "type"
      ]
     },
     "execution_count": 3,
     "metadata": {},
     "output_type": "execute_result"
    }
   ],
   "source": [
    "type(int)"
   ]
  },
  {
   "cell_type": "markdown",
   "id": "b3ebfdc7-c57a-40e3-9276-09496a90092e",
   "metadata": {},
   "source": [
    "Every object in Python is defined with some attributes. To see the default attributes of an object you can use the `dir` function. Attributes can be methods or simply store some data."
   ]
  },
  {
   "cell_type": "code",
   "execution_count": 4,
   "id": "a95545de-ea43-4be2-a216-3549826a1611",
   "metadata": {
    "scrolled": true
   },
   "outputs": [
    {
     "data": {
      "text/plain": [
       "['__abs__',\n",
       " '__add__',\n",
       " '__and__',\n",
       " '__bool__',\n",
       " '__ceil__',\n",
       " '__class__',\n",
       " '__delattr__',\n",
       " '__dir__',\n",
       " '__divmod__',\n",
       " '__doc__',\n",
       " '__eq__',\n",
       " '__float__',\n",
       " '__floor__',\n",
       " '__floordiv__',\n",
       " '__format__',\n",
       " '__ge__',\n",
       " '__getattribute__',\n",
       " '__getnewargs__',\n",
       " '__getstate__',\n",
       " '__gt__',\n",
       " '__hash__',\n",
       " '__index__',\n",
       " '__init__',\n",
       " '__init_subclass__',\n",
       " '__int__',\n",
       " '__invert__',\n",
       " '__le__',\n",
       " '__lshift__',\n",
       " '__lt__',\n",
       " '__mod__',\n",
       " '__mul__',\n",
       " '__ne__',\n",
       " '__neg__',\n",
       " '__new__',\n",
       " '__or__',\n",
       " '__pos__',\n",
       " '__pow__',\n",
       " '__radd__',\n",
       " '__rand__',\n",
       " '__rdivmod__',\n",
       " '__reduce__',\n",
       " '__reduce_ex__',\n",
       " '__repr__',\n",
       " '__rfloordiv__',\n",
       " '__rlshift__',\n",
       " '__rmod__',\n",
       " '__rmul__',\n",
       " '__ror__',\n",
       " '__round__',\n",
       " '__rpow__',\n",
       " '__rrshift__',\n",
       " '__rshift__',\n",
       " '__rsub__',\n",
       " '__rtruediv__',\n",
       " '__rxor__',\n",
       " '__setattr__',\n",
       " '__sizeof__',\n",
       " '__str__',\n",
       " '__sub__',\n",
       " '__subclasshook__',\n",
       " '__truediv__',\n",
       " '__trunc__',\n",
       " '__xor__',\n",
       " 'as_integer_ratio',\n",
       " 'bit_count',\n",
       " 'bit_length',\n",
       " 'conjugate',\n",
       " 'denominator',\n",
       " 'from_bytes',\n",
       " 'imag',\n",
       " 'is_integer',\n",
       " 'numerator',\n",
       " 'real',\n",
       " 'to_bytes']"
      ]
     },
     "execution_count": 4,
     "metadata": {},
     "output_type": "execute_result"
    }
   ],
   "source": [
    "dir(x)"
   ]
  },
  {
   "cell_type": "markdown",
   "id": "50b4d8ce-d6fa-4666-92ec-2afb0f9f28d9",
   "metadata": {},
   "source": [
    "## Assignment statements\n",
    "\n",
    "Assignment statements don't copy anything: they just point a variable to an object. So assigning one variable to another variable just points two variables to the same object.\n",
    "\n",
    "The [`id()` function](https://www.w3schools.com/python/ref_func_id.asp) returns a unique id for the specified object. All objects in Python has its own unique id. The id is assigned to the object when it is created. In CPython the id is the object's memory address, and will be different for each time you run the program, except for some object that has a constant unique id, like integers from -5 to 256."
   ]
  },
  {
   "cell_type": "code",
   "execution_count": 6,
   "id": "9b07511e-1bad-4458-aa0a-781138fa681a",
   "metadata": {},
   "outputs": [],
   "source": [
    "y = x"
   ]
  },
  {
   "cell_type": "markdown",
   "id": "3df9f1f0-248e-4fa1-a1e5-b41b75b7d30f",
   "metadata": {},
   "source": [
    "The variables x and y have the same address:"
   ]
  },
  {
   "cell_type": "code",
   "execution_count": 7,
   "id": "0db28ee1-ec78-48b0-94fc-ba460199e742",
   "metadata": {},
   "outputs": [
    {
     "data": {
      "text/plain": [
       "109694784787944"
      ]
     },
     "execution_count": 7,
     "metadata": {},
     "output_type": "execute_result"
    }
   ],
   "source": [
    "id(x)"
   ]
  },
  {
   "cell_type": "code",
   "execution_count": 8,
   "id": "95497fe0-05ca-4eed-a246-492e769bb0b9",
   "metadata": {},
   "outputs": [
    {
     "data": {
      "text/plain": [
       "109694784787944"
      ]
     },
     "execution_count": 8,
     "metadata": {},
     "output_type": "execute_result"
    }
   ],
   "source": [
    "id(y)"
   ]
  },
  {
   "cell_type": "markdown",
   "id": "1d0c8448-9487-4a92-8ba7-31404a5239d1",
   "metadata": {},
   "source": [
    "Integers from -5 to 256 have a constant unique id:"
   ]
  },
  {
   "cell_type": "code",
   "execution_count": 9,
   "id": "cf350175-5c20-43a3-af60-9d665c80f5aa",
   "metadata": {},
   "outputs": [
    {
     "data": {
      "text/plain": [
       "109694784792936"
      ]
     },
     "execution_count": 9,
     "metadata": {},
     "output_type": "execute_result"
    }
   ],
   "source": [
    "a = 256\n",
    "id(a)"
   ]
  },
  {
   "cell_type": "code",
   "execution_count": 10,
   "id": "e5efa25f-0328-4094-8b44-efbfba55870c",
   "metadata": {},
   "outputs": [
    {
     "data": {
      "text/plain": [
       "109694784792936"
      ]
     },
     "execution_count": 10,
     "metadata": {},
     "output_type": "execute_result"
    }
   ],
   "source": [
    "b = 256\n",
    "id(b)"
   ]
  },
  {
   "cell_type": "markdown",
   "id": "1cb8eb92-bc60-46f0-adaa-1d90309c3000",
   "metadata": {},
   "source": [
    "In Python:\n",
    "\n",
    "* **Assignment** changes a variable (it changes which object it points to)\n",
    "* **Mutation** changes an object (which any number of variables might point to)\n",
    "\n",
    "Mutations change objects, not variables. But variables point to objects. So if another variable points to an object that we've just mutated, that other variable will reflect the same change; not because the variable changed but because the object it points to changed."
   ]
  },
  {
   "cell_type": "markdown",
   "id": "93e9606d-3489-4698-a384-350fa050c885",
   "metadata": {},
   "source": [
    "Python's `is` operator checks whether two objects are the same object (a.k.a. identity):"
   ]
  },
  {
   "cell_type": "code",
   "execution_count": 11,
   "id": "41e9cf25-88b6-4381-bd18-47439a5bc1e2",
   "metadata": {},
   "outputs": [
    {
     "data": {
      "text/plain": [
       "True"
      ]
     },
     "execution_count": 11,
     "metadata": {},
     "output_type": "execute_result"
    }
   ],
   "source": [
    "x is y"
   ]
  },
  {
   "cell_type": "markdown",
   "id": "b44156e6-e442-4088-b600-451a84ca7e33",
   "metadata": {},
   "source": [
    "In this case, both variables point to the same object, as we defined previously. This can cause certain problems in Python, because when you change one variable, the other is also changed:"
   ]
  },
  {
   "cell_type": "code",
   "execution_count": 16,
   "id": "727a5f38-2f70-46ae-9d83-4bcdabc4f3e6",
   "metadata": {},
   "outputs": [
    {
     "data": {
      "text/plain": [
       "([1, 2, 3, 4], [1, 2, 3, 4], [1, 2, 3, 4])"
      ]
     },
     "execution_count": 16,
     "metadata": {},
     "output_type": "execute_result"
    }
   ],
   "source": [
    "b = c = d = [1, 2, 3]\n",
    "b.append(4)\n",
    "b, c, d"
   ]
  },
  {
   "cell_type": "markdown",
   "id": "ae07e947-91a0-4cf4-8990-f2aba3f83058",
   "metadata": {},
   "source": [
    "In \"b = c = d\" we are creating 3 variables that are pointers to the same object. When we change the object, the 3 variables continue to point to the same object."
   ]
  },
  {
   "cell_type": "markdown",
   "id": "4261a96b-7534-4144-af95-cf72ff084f1b",
   "metadata": {},
   "source": [
    "But in this other case it is a little different. Initially the 3 variables point to the same object, but when changing the variable e, a new object is created for this variable. The other 2 remain the same."
   ]
  },
  {
   "cell_type": "code",
   "execution_count": 20,
   "id": "5769d821-d0ea-4f52-b83f-0c2c3408923b",
   "metadata": {},
   "outputs": [
    {
     "data": {
      "text/plain": [
       "(67890, 12345, 12345)"
      ]
     },
     "execution_count": 20,
     "metadata": {},
     "output_type": "execute_result"
    }
   ],
   "source": [
    "e = f = g = 12345\n",
    "e = 67890\n",
    "e, f, g"
   ]
  },
  {
   "cell_type": "code",
   "execution_count": 21,
   "id": "8800f5e1-598b-43ce-a834-b29de62dc7a3",
   "metadata": {},
   "outputs": [
    {
     "data": {
      "text/plain": [
       "(139893191742224, 139893191742480, 139893191742480)"
      ]
     },
     "execution_count": 21,
     "metadata": {},
     "output_type": "execute_result"
    }
   ],
   "source": [
    "id(e), id(f), id(g)"
   ]
  },
  {
   "cell_type": "markdown",
   "id": "0d025b5d-0665-4d51-80b3-97c26be1b2db",
   "metadata": {},
   "source": [
    "This is because numbers and strings are immutable, it is not possible to change the object. Every time we try to change it, a new object is created, and the variable changes the pointer:"
   ]
  },
  {
   "cell_type": "code",
   "execution_count": 22,
   "id": "3d3e8d3b-3c7a-4885-8e98-e2dd19a27acc",
   "metadata": {},
   "outputs": [
    {
     "data": {
      "text/plain": [
       "139893193705360"
      ]
     },
     "execution_count": 22,
     "metadata": {},
     "output_type": "execute_result"
    }
   ],
   "source": [
    "e = 3456\n",
    "id(e)"
   ]
  },
  {
   "cell_type": "markdown",
   "id": "c122ae48-92c9-4d9b-aa2a-684b42b90837",
   "metadata": {},
   "source": [
    "If we try to change it again, a new object is created, and the variable changes pointer once more:"
   ]
  },
  {
   "cell_type": "code",
   "execution_count": 23,
   "id": "20a5b9dc-46a4-430d-84b6-852987734535",
   "metadata": {},
   "outputs": [
    {
     "data": {
      "text/plain": [
       "139893193716304"
      ]
     },
     "execution_count": 23,
     "metadata": {},
     "output_type": "execute_result"
    }
   ],
   "source": [
    "e = 3456\n",
    "id(e)"
   ]
  },
  {
   "cell_type": "markdown",
   "id": "763dffce-34a6-4d68-98d0-2fbcaf194727",
   "metadata": {},
   "source": [
    "When the old integer object is no longer referenced by any variable or part of the program, it becomes eligible for garbage collection. Python's garbage collector will eventually reclaim the memory used by this object, making it available for future use by the program."
   ]
  },
  {
   "cell_type": "markdown",
   "id": "36a32929-0fe2-407e-99c7-206bfe4163ab",
   "metadata": {},
   "source": [
    "In a loop, new objects are created at each iteration:"
   ]
  },
  {
   "cell_type": "code",
   "execution_count": 31,
   "id": "574b455b-1176-4b90-9a49-2edc42cbf181",
   "metadata": {},
   "outputs": [
    {
     "name": "stdout",
     "output_type": "stream",
     "text": [
      "109694784784776 109694784784744\n",
      "109694784784808 109694784784776\n",
      "109694784784840 109694784784808\n",
      "109694784784872 109694784784840\n",
      "109694784784904 109694784784872\n",
      "109694784784936 109694784784904\n",
      "109694784784968 109694784784936\n",
      "109694784785000 109694784784968\n",
      "109694784785032 109694784785000\n",
      "109694784785064 109694784785032\n"
     ]
    }
   ],
   "source": [
    "e = 0\n",
    "for i in range(10):\n",
    "    e = e + 1\n",
    "    print(id(e), id(i))"
   ]
  },
  {
   "cell_type": "markdown",
   "id": "c465acae-ec62-4a22-987d-2857d8387680",
   "metadata": {},
   "source": [
    "Note: in this case, if efficiency is desired, a possible solution is to use the implicit looping features, where possible, of an external library such as Numpy. In extreme cases, loops can be programmed in Fortran using [Numpy F2PY](https://numpy.org/doc/stable/f2py/) and embedded in the code as a library function."
   ]
  },
  {
   "cell_type": "markdown",
   "id": "a926ff54-b8e1-41e9-ad30-5cc5465a7c43",
   "metadata": {},
   "source": [
    "Any operation on an immutable object always returns a new object instead of modifying the original. Immutables: int, float, complex, str, tuple, frozenset, and bytes."
   ]
  },
  {
   "cell_type": "markdown",
   "id": "f6b4244c-e180-4552-95a0-94a58b572d0c",
   "metadata": {},
   "source": [
    "## Structures\n",
    "\n",
    "Lists are mutable. In the following example, the variable row points to the same row address as the array:"
   ]
  },
  {
   "cell_type": "code",
   "execution_count": 32,
   "id": "6207acd2-0a29-449f-8a9f-082ded22914f",
   "metadata": {},
   "outputs": [
    {
     "data": {
      "text/plain": [
       "(139893192135680, 139893216035968, 139893216035968)"
      ]
     },
     "execution_count": 32,
     "metadata": {},
     "output_type": "execute_result"
    }
   ],
   "source": [
    "matrix = [[1, 2, 3], [4, 5, 6], [7, 8, 9]]\n",
    "row = matrix[1]\n",
    "id(matrix), id(matrix[1]), id(row)"
   ]
  },
  {
   "cell_type": "markdown",
   "id": "9eb94ef6-3244-4eb2-bced-8f02602223a1",
   "metadata": {},
   "source": [
    "If we mutate the list that row points to:"
   ]
  },
  {
   "cell_type": "code",
   "execution_count": 33,
   "id": "a5a78bea-8c3a-4e90-b46c-70ef1a0c641b",
   "metadata": {},
   "outputs": [],
   "source": [
    "row[0] = 1000"
   ]
  },
  {
   "cell_type": "markdown",
   "id": "bf5ad491-3ed3-4364-8b22-14ae244b3172",
   "metadata": {},
   "source": [
    "We'll see that change in both places:"
   ]
  },
  {
   "cell_type": "code",
   "execution_count": 36,
   "id": "d2653d29-20f1-4a43-b86c-0dcb8a48b056",
   "metadata": {},
   "outputs": [
    {
     "name": "stdout",
     "output_type": "stream",
     "text": [
      "[1000, 5, 6]\n",
      "[[1, 2, 3], [1000, 5, 6], [7, 8, 9]]\n"
     ]
    }
   ],
   "source": [
    "print(row)\n",
    "print(matrix)"
   ]
  },
  {
   "cell_type": "markdown",
   "id": "3f7fcf82-3d5f-4d4d-bd31-cd02381d9cce",
   "metadata": {},
   "source": [
    "## Function arguments"
   ]
  },
  {
   "cell_type": "markdown",
   "id": "28490643-bfaf-4590-b119-4bb95cb4398b",
   "metadata": {},
   "source": [
    "In this case both variables point to the same object:"
   ]
  },
  {
   "cell_type": "code",
   "execution_count": 47,
   "id": "3f7d2296-8562-4bd9-907e-4bd27329cc4b",
   "metadata": {},
   "outputs": [
    {
     "name": "stdout",
     "output_type": "stream",
     "text": [
      "[1000, 5, 6]\n",
      "[[1, 2, 3], [1000, 5, 6], [7, 8, 9]]\n"
     ]
    }
   ],
   "source": [
    "def f1(row):\n",
    "    row[0] = 1000\n",
    "\n",
    "matrix = [[1, 2, 3], [4, 5, 6], [7, 8, 9]]\n",
    "row = matrix[1]\n",
    "f1(row)\n",
    "print(f\"{row}\\n{matrix}\")"
   ]
  },
  {
   "cell_type": "markdown",
   "id": "6058ae39-085a-4013-914f-68e715dd570d",
   "metadata": {},
   "source": [
    "In this case, since there is a mutation in the row variable inside the function, then a new object is created and the two variables each point to their object:"
   ]
  },
  {
   "cell_type": "code",
   "execution_count": 48,
   "id": "4de4cc1a-794a-4d54-804e-a9d13f0e4116",
   "metadata": {},
   "outputs": [
    {
     "name": "stdout",
     "output_type": "stream",
     "text": [
      "[1, 2, 3]\n",
      "[[1, 2, 3], [2000, 5, 6], [7, 8, 9]]\n"
     ]
    }
   ],
   "source": [
    "def f1(row):\n",
    "    row = matrix[1]\n",
    "    row[0] = 2000\n",
    "\n",
    "matrix = [[1, 2, 3], [4, 5, 6], [7, 8, 9]]\n",
    "row = matrix[0]\n",
    "f1(row)\n",
    "print(f\"{row}\\n{matrix}\")"
   ]
  },
  {
   "cell_type": "markdown",
   "id": "b3ed3986-7b69-46a7-afba-26b23644e4e4",
   "metadata": {},
   "source": [
    "## Object identity"
   ]
  },
  {
   "cell_type": "code",
   "execution_count": 1,
   "id": "732723bd-589e-4a33-b8ba-a22787c24f18",
   "metadata": {},
   "outputs": [
    {
     "data": {
      "text/plain": [
       "True"
      ]
     },
     "execution_count": 1,
     "metadata": {},
     "output_type": "execute_result"
    }
   ],
   "source": [
    "x = y = 0\n",
    "x is y"
   ]
  },
  {
   "cell_type": "code",
   "execution_count": 4,
   "id": "1c7b05f1-608f-4b48-bcfb-495b206a3441",
   "metadata": {},
   "outputs": [
    {
     "data": {
      "text/plain": [
       "False"
      ]
     },
     "execution_count": 4,
     "metadata": {},
     "output_type": "execute_result"
    }
   ],
   "source": [
    "x = y = 0\n",
    "x is not y"
   ]
  },
  {
   "cell_type": "markdown",
   "id": "055cdf44-eb7a-41e5-b3af-fc4360e77c8d",
   "metadata": {},
   "source": [
    "## References\n",
    "\n",
    "* Hunner, T. (2022). [Variables and objects in Python](https://www.pythonmorsels.com/pointers/).\n",
    "* Bader, N. (2021). [What does it mean that everything in Python is an object?](https://medium.com/@thehippieandtheboss/what-is-an-object-in-python-f38f4026a07f)."
   ]
  }
 ],
 "metadata": {
  "kernelspec": {
   "display_name": "Python 3 (ipykernel)",
   "language": "python",
   "name": "python3"
  },
  "language_info": {
   "codemirror_mode": {
    "name": "ipython",
    "version": 3
   },
   "file_extension": ".py",
   "mimetype": "text/x-python",
   "name": "python",
   "nbconvert_exporter": "python",
   "pygments_lexer": "ipython3",
   "version": "3.12.5"
  }
 },
 "nbformat": 4,
 "nbformat_minor": 5
}
