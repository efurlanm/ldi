{
 "cells": [
  {
   "cell_type": "markdown",
   "id": "ae3485ab-c8f7-4e84-80f3-d76643ffbd6f",
   "metadata": {},
   "source": [
    "# Assembly small executable\n",
    "\n",
    "*Last edited: 2023-12-11*\n",
    "\n",
    "Some exercises to try to better understand the creation of executables by an Assembler."
   ]
  },
  {
   "cell_type": "code",
   "execution_count": 39,
   "id": "297bc8ca-a7e5-442c-95f2-2993b8dd1e61",
   "metadata": {},
   "outputs": [
    {
     "name": "stdout",
     "output_type": "stream",
     "text": [
      "Overwriting hello.asm\n"
     ]
    }
   ],
   "source": [
    "%%writefile hello.asm\n",
    "GLOBAL  _start \n",
    "\n",
    "; Code goes in the text section\n",
    "SECTION .text\n",
    "_start: mov rax,1           ; 'write' system call = 1\n",
    "        mov rdi,1           ; file descriptor 1 = STDOUT\n",
    "        mov rsi,hello       ; string to write\n",
    "        mov rdx,hLen        ; length of string to write\n",
    "        syscall             ; call the kernel\n",
    "\n",
    "        ; Terminate program\n",
    "        mov rax,60          ; 'exit' system call\n",
    "        mov rdi,42          ; exit with error code 42\n",
    "        syscall             ; call the kernel\n",
    "\n",
    "; Define variables in the data section\n",
    "SECTION .rodata\n",
    "hello:  db \"Hello world!\",10\n",
    "hLen:   equ $-hello"
   ]
  },
  {
   "cell_type": "code",
   "execution_count": 40,
   "id": "c02cda1a-38df-486e-9f85-7e25972e7623",
   "metadata": {},
   "outputs": [
    {
     "name": "stdout",
     "output_type": "stream",
     "text": [
      "604 hello.asm\n"
     ]
    }
   ],
   "source": [
    "! wc -c hello.asm"
   ]
  },
  {
   "cell_type": "code",
   "execution_count": 41,
   "id": "b5e61cc6-00e5-45fd-b830-6f05881e0208",
   "metadata": {},
   "outputs": [],
   "source": [
    "! nasm -f elf64 hello.asm"
   ]
  },
  {
   "cell_type": "code",
   "execution_count": 42,
   "id": "05d63fb7-1486-459f-b18d-0be8084547c1",
   "metadata": {},
   "outputs": [
    {
     "name": "stdout",
     "output_type": "stream",
     "text": [
      "880 hello.o\n"
     ]
    }
   ],
   "source": [
    "! wc -c hello.o"
   ]
  },
  {
   "cell_type": "code",
   "execution_count": 43,
   "id": "4a2302ba-f394-4ff0-a44d-ea4a2aa146f2",
   "metadata": {},
   "outputs": [],
   "source": [
    "! ld hello.o"
   ]
  },
  {
   "cell_type": "code",
   "execution_count": 44,
   "id": "577fb834-3a2c-4279-b335-5cc51920ebd5",
   "metadata": {},
   "outputs": [
    {
     "name": "stdout",
     "output_type": "stream",
     "text": [
      "8872 a.out\n"
     ]
    }
   ],
   "source": [
    "! wc -c a.out"
   ]
  },
  {
   "cell_type": "code",
   "execution_count": 45,
   "id": "e31ba7a0-255e-4bdb-bdcd-bfb54fc7ccfe",
   "metadata": {},
   "outputs": [
    {
     "name": "stdout",
     "output_type": "stream",
     "text": [
      "Hello world!\n",
      "42\n"
     ]
    }
   ],
   "source": [
    "! ./a.out ; echo $?"
   ]
  },
  {
   "cell_type": "code",
   "execution_count": 46,
   "id": "957649e8-8a51-4988-8606-8077588cf4a1",
   "metadata": {},
   "outputs": [
    {
     "name": "stdout",
     "output_type": "stream",
     "text": [
      "\n",
      "a.out:     file format elf64-x86-64\n",
      "\n",
      "Contents of section .text:\n",
      " 401000 b8010000 00bf0100 000048be 00204000  ..........H.. @.\n",
      " 401010 00000000 ba0d0000 000f05b8 3c000000  ............<...\n",
      " 401020 bf2a0000 000f05                      .*.....         \n",
      "Contents of section .rodata:\n",
      " 402000 48656c6c 6f20776f 726c6421 0a        Hello world!.   \n"
     ]
    }
   ],
   "source": [
    "! objdump -s a.out"
   ]
  },
  {
   "cell_type": "code",
   "execution_count": 47,
   "id": "9f031755-fa18-4f79-ba17-0e1fca783c0d",
   "metadata": {},
   "outputs": [
    {
     "name": "stdout",
     "output_type": "stream",
     "text": [
      "\n",
      "a.out:     file format elf64-x86-64\n",
      "\n",
      "\n",
      "Disassembly of section .text:\n",
      "\n",
      "0000000000401000 <_start>:\n",
      "  401000:\tb8 01 00 00 00       \tmov    $0x1,%eax\n",
      "  401005:\tbf 01 00 00 00       \tmov    $0x1,%edi\n",
      "  40100a:\t48 be 00 20 40 00 00 \tmovabs $0x402000,%rsi\n",
      "  401011:\t00 00 00 \n",
      "  401014:\tba 0d 00 00 00       \tmov    $0xd,%edx\n",
      "  401019:\t0f 05                \tsyscall \n",
      "  40101b:\tb8 3c 00 00 00       \tmov    $0x3c,%eax\n",
      "  401020:\tbf 2a 00 00 00       \tmov    $0x2a,%edi\n",
      "  401025:\t0f 05                \tsyscall \n"
     ]
    }
   ],
   "source": [
    "! objdump -d a.out"
   ]
  },
  {
   "cell_type": "markdown",
   "id": "200727ed-fb31-41fc-a8e1-f7297a0e093a",
   "metadata": {},
   "source": [
    "## References\n",
    "\n",
    "- <https://www.devdungeon.com/content/hello-world-nasm-assembler>"
   ]
  }
 ],
 "metadata": {
  "kernelspec": {
   "display_name": "Python 3 (ipykernel)",
   "language": "python",
   "name": "python3"
  },
  "language_info": {
   "codemirror_mode": {
    "name": "ipython",
    "version": 3
   },
   "file_extension": ".py",
   "mimetype": "text/x-python",
   "name": "python",
   "nbconvert_exporter": "python",
   "pygments_lexer": "ipython3",
   "version": "3.12.5"
  }
 },
 "nbformat": 4,
 "nbformat_minor": 5
}
